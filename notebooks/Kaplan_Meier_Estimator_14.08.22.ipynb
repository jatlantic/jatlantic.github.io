{
 "cells": [
  {
   "cell_type": "code",
   "execution_count": 50,
   "metadata": {},
   "outputs": [
    {
     "data": {
      "application/vnd.plotly.v1+json": {
       "config": {
        "plotlyServerURL": "https://plot.ly"
       },
       "data": [
        {
         "hovertemplate": "patient=%{y}<br>time=%{x}<extra></extra>",
         "legendgroup": "0",
         "line": {
          "color": "#636efa",
          "dash": "solid"
         },
         "mode": "lines",
         "name": "0",
         "orientation": "v",
         "showlegend": true,
         "type": "scatter",
         "x": [
          1
         ],
         "xaxis": "x",
         "y": [
          0
         ],
         "yaxis": "y"
        },
        {
         "hovertemplate": "patient=%{y}<br>time=%{x}<extra></extra>",
         "legendgroup": "1",
         "line": {
          "color": "#EF553B",
          "dash": "solid"
         },
         "mode": "lines",
         "name": "1",
         "orientation": "v",
         "showlegend": true,
         "type": "scatter",
         "x": [
          5
         ],
         "xaxis": "x",
         "y": [
          1
         ],
         "yaxis": "y"
        },
        {
         "hovertemplate": "patient=%{y}<br>time=%{x}<extra></extra>",
         "legendgroup": "2",
         "line": {
          "color": "#00cc96",
          "dash": "solid"
         },
         "mode": "lines",
         "name": "2",
         "orientation": "v",
         "showlegend": true,
         "type": "scatter",
         "x": [
          7
         ],
         "xaxis": "x",
         "y": [
          2
         ],
         "yaxis": "y"
        },
        {
         "hovertemplate": "patient=%{y}<br>time=%{x}<extra></extra>",
         "legendgroup": "3",
         "line": {
          "color": "#ab63fa",
          "dash": "solid"
         },
         "mode": "lines",
         "name": "3",
         "orientation": "v",
         "showlegend": true,
         "type": "scatter",
         "x": [
          9
         ],
         "xaxis": "x",
         "y": [
          3
         ],
         "yaxis": "y"
        },
        {
         "hovertemplate": "patient=%{y}<br>time=%{x}<extra></extra>",
         "legendgroup": "4",
         "line": {
          "color": "#FFA15A",
          "dash": "solid"
         },
         "mode": "lines",
         "name": "4",
         "orientation": "v",
         "showlegend": true,
         "type": "scatter",
         "x": [
          13
         ],
         "xaxis": "x",
         "y": [
          4
         ],
         "yaxis": "y"
        },
        {
         "hovertemplate": "patient=%{y}<br>time=%{x}<extra></extra>",
         "legendgroup": "5",
         "line": {
          "color": "#19d3f3",
          "dash": "solid"
         },
         "mode": "lines",
         "name": "5",
         "orientation": "v",
         "showlegend": true,
         "type": "scatter",
         "x": [
          13
         ],
         "xaxis": "x",
         "y": [
          5
         ],
         "yaxis": "y"
        },
        {
         "hovertemplate": "patient=%{y}<br>time=%{x}<extra></extra>",
         "legendgroup": "6",
         "line": {
          "color": "#FF6692",
          "dash": "solid"
         },
         "mode": "lines",
         "name": "6",
         "orientation": "v",
         "showlegend": true,
         "type": "scatter",
         "x": [
          17
         ],
         "xaxis": "x",
         "y": [
          6
         ],
         "yaxis": "y"
        },
        {
         "hovertemplate": "patient=%{y}<br>time=%{x}<extra></extra>",
         "legendgroup": "7",
         "line": {
          "color": "#B6E880",
          "dash": "solid"
         },
         "mode": "lines",
         "name": "7",
         "orientation": "v",
         "showlegend": true,
         "type": "scatter",
         "x": [
          20
         ],
         "xaxis": "x",
         "y": [
          7
         ],
         "yaxis": "y"
        },
        {
         "hovertemplate": "patient=%{y}<br>time=%{x}<extra></extra>",
         "legendgroup": "8",
         "line": {
          "color": "#FF97FF",
          "dash": "solid"
         },
         "mode": "lines",
         "name": "8",
         "orientation": "v",
         "showlegend": true,
         "type": "scatter",
         "x": [
          26
         ],
         "xaxis": "x",
         "y": [
          8
         ],
         "yaxis": "y"
        },
        {
         "hovertemplate": "patient=%{y}<br>time=%{x}<extra></extra>",
         "legendgroup": "9",
         "line": {
          "color": "#FECB52",
          "dash": "solid"
         },
         "mode": "lines",
         "name": "9",
         "orientation": "v",
         "showlegend": true,
         "type": "scatter",
         "x": [
          26
         ],
         "xaxis": "x",
         "y": [
          9
         ],
         "yaxis": "y"
        },
        {
         "hovertemplate": "patient=%{y}<br>time=%{x}<extra></extra>",
         "legendgroup": "10",
         "line": {
          "color": "#636efa",
          "dash": "solid"
         },
         "mode": "lines",
         "name": "10",
         "orientation": "v",
         "showlegend": true,
         "type": "scatter",
         "x": [
          28
         ],
         "xaxis": "x",
         "y": [
          10
         ],
         "yaxis": "y"
        }
       ],
       "layout": {
        "legend": {
         "title": {
          "text": "patient"
         },
         "tracegroupgap": 0
        },
        "shapes": [
         {
          "line": {
           "color": "blue",
           "dash": "dash",
           "width": 2
          },
          "type": "line",
          "x0": 0,
          "x1": 1,
          "y0": 0,
          "y1": 0
         },
         {
          "line": {
           "color": "blue",
           "dash": "dash",
           "width": 2
          },
          "type": "line",
          "x0": 0,
          "x1": 5,
          "y0": 1,
          "y1": 1
         },
         {
          "line": {
           "color": "blue",
           "dash": "dash",
           "width": 2
          },
          "type": "line",
          "x0": 0,
          "x1": 7,
          "y0": 2,
          "y1": 2
         },
         {
          "line": {
           "color": "blue",
           "dash": "dash",
           "width": 2
          },
          "type": "line",
          "x0": 0,
          "x1": 9,
          "y0": 3,
          "y1": 3
         },
         {
          "line": {
           "color": "blue",
           "dash": "dash",
           "width": 2
          },
          "type": "line",
          "x0": 0,
          "x1": 13,
          "y0": 4,
          "y1": 4
         },
         {
          "line": {
           "color": "blue",
           "dash": "dash",
           "width": 2
          },
          "type": "line",
          "x0": 0,
          "x1": 13,
          "y0": 5,
          "y1": 5
         },
         {
          "line": {
           "color": "blue",
           "dash": "dash",
           "width": 2
          },
          "type": "line",
          "x0": 0,
          "x1": 17,
          "y0": 6,
          "y1": 6
         },
         {
          "line": {
           "color": "blue",
           "dash": "dash",
           "width": 2
          },
          "type": "line",
          "x0": 0,
          "x1": 20,
          "y0": 7,
          "y1": 7
         },
         {
          "line": {
           "color": "blue",
           "dash": "dash",
           "width": 2
          },
          "type": "line",
          "x0": 0,
          "x1": 26,
          "y0": 8,
          "y1": 8
         },
         {
          "line": {
           "color": "blue",
           "dash": "dash",
           "width": 2
          },
          "type": "line",
          "x0": 0,
          "x1": 26,
          "y0": 9,
          "y1": 9
         },
         {
          "line": {
           "color": "blue",
           "dash": "dash",
           "width": 2
          },
          "type": "line",
          "x0": 0,
          "x1": 28,
          "y0": 10,
          "y1": 10
         }
        ],
        "template": {
         "data": {
          "bar": [
           {
            "error_x": {
             "color": "#2a3f5f"
            },
            "error_y": {
             "color": "#2a3f5f"
            },
            "marker": {
             "line": {
              "color": "#E5ECF6",
              "width": 0.5
             }
            },
            "type": "bar"
           }
          ],
          "barpolar": [
           {
            "marker": {
             "line": {
              "color": "#E5ECF6",
              "width": 0.5
             }
            },
            "type": "barpolar"
           }
          ],
          "carpet": [
           {
            "aaxis": {
             "endlinecolor": "#2a3f5f",
             "gridcolor": "white",
             "linecolor": "white",
             "minorgridcolor": "white",
             "startlinecolor": "#2a3f5f"
            },
            "baxis": {
             "endlinecolor": "#2a3f5f",
             "gridcolor": "white",
             "linecolor": "white",
             "minorgridcolor": "white",
             "startlinecolor": "#2a3f5f"
            },
            "type": "carpet"
           }
          ],
          "choropleth": [
           {
            "colorbar": {
             "outlinewidth": 0,
             "ticks": ""
            },
            "type": "choropleth"
           }
          ],
          "contour": [
           {
            "colorbar": {
             "outlinewidth": 0,
             "ticks": ""
            },
            "colorscale": [
             [
              0,
              "#0d0887"
             ],
             [
              0.1111111111111111,
              "#46039f"
             ],
             [
              0.2222222222222222,
              "#7201a8"
             ],
             [
              0.3333333333333333,
              "#9c179e"
             ],
             [
              0.4444444444444444,
              "#bd3786"
             ],
             [
              0.5555555555555556,
              "#d8576b"
             ],
             [
              0.6666666666666666,
              "#ed7953"
             ],
             [
              0.7777777777777778,
              "#fb9f3a"
             ],
             [
              0.8888888888888888,
              "#fdca26"
             ],
             [
              1,
              "#f0f921"
             ]
            ],
            "type": "contour"
           }
          ],
          "contourcarpet": [
           {
            "colorbar": {
             "outlinewidth": 0,
             "ticks": ""
            },
            "type": "contourcarpet"
           }
          ],
          "heatmap": [
           {
            "colorbar": {
             "outlinewidth": 0,
             "ticks": ""
            },
            "colorscale": [
             [
              0,
              "#0d0887"
             ],
             [
              0.1111111111111111,
              "#46039f"
             ],
             [
              0.2222222222222222,
              "#7201a8"
             ],
             [
              0.3333333333333333,
              "#9c179e"
             ],
             [
              0.4444444444444444,
              "#bd3786"
             ],
             [
              0.5555555555555556,
              "#d8576b"
             ],
             [
              0.6666666666666666,
              "#ed7953"
             ],
             [
              0.7777777777777778,
              "#fb9f3a"
             ],
             [
              0.8888888888888888,
              "#fdca26"
             ],
             [
              1,
              "#f0f921"
             ]
            ],
            "type": "heatmap"
           }
          ],
          "heatmapgl": [
           {
            "colorbar": {
             "outlinewidth": 0,
             "ticks": ""
            },
            "colorscale": [
             [
              0,
              "#0d0887"
             ],
             [
              0.1111111111111111,
              "#46039f"
             ],
             [
              0.2222222222222222,
              "#7201a8"
             ],
             [
              0.3333333333333333,
              "#9c179e"
             ],
             [
              0.4444444444444444,
              "#bd3786"
             ],
             [
              0.5555555555555556,
              "#d8576b"
             ],
             [
              0.6666666666666666,
              "#ed7953"
             ],
             [
              0.7777777777777778,
              "#fb9f3a"
             ],
             [
              0.8888888888888888,
              "#fdca26"
             ],
             [
              1,
              "#f0f921"
             ]
            ],
            "type": "heatmapgl"
           }
          ],
          "histogram": [
           {
            "marker": {
             "colorbar": {
              "outlinewidth": 0,
              "ticks": ""
             }
            },
            "type": "histogram"
           }
          ],
          "histogram2d": [
           {
            "colorbar": {
             "outlinewidth": 0,
             "ticks": ""
            },
            "colorscale": [
             [
              0,
              "#0d0887"
             ],
             [
              0.1111111111111111,
              "#46039f"
             ],
             [
              0.2222222222222222,
              "#7201a8"
             ],
             [
              0.3333333333333333,
              "#9c179e"
             ],
             [
              0.4444444444444444,
              "#bd3786"
             ],
             [
              0.5555555555555556,
              "#d8576b"
             ],
             [
              0.6666666666666666,
              "#ed7953"
             ],
             [
              0.7777777777777778,
              "#fb9f3a"
             ],
             [
              0.8888888888888888,
              "#fdca26"
             ],
             [
              1,
              "#f0f921"
             ]
            ],
            "type": "histogram2d"
           }
          ],
          "histogram2dcontour": [
           {
            "colorbar": {
             "outlinewidth": 0,
             "ticks": ""
            },
            "colorscale": [
             [
              0,
              "#0d0887"
             ],
             [
              0.1111111111111111,
              "#46039f"
             ],
             [
              0.2222222222222222,
              "#7201a8"
             ],
             [
              0.3333333333333333,
              "#9c179e"
             ],
             [
              0.4444444444444444,
              "#bd3786"
             ],
             [
              0.5555555555555556,
              "#d8576b"
             ],
             [
              0.6666666666666666,
              "#ed7953"
             ],
             [
              0.7777777777777778,
              "#fb9f3a"
             ],
             [
              0.8888888888888888,
              "#fdca26"
             ],
             [
              1,
              "#f0f921"
             ]
            ],
            "type": "histogram2dcontour"
           }
          ],
          "mesh3d": [
           {
            "colorbar": {
             "outlinewidth": 0,
             "ticks": ""
            },
            "type": "mesh3d"
           }
          ],
          "parcoords": [
           {
            "line": {
             "colorbar": {
              "outlinewidth": 0,
              "ticks": ""
             }
            },
            "type": "parcoords"
           }
          ],
          "pie": [
           {
            "automargin": true,
            "type": "pie"
           }
          ],
          "scatter": [
           {
            "marker": {
             "colorbar": {
              "outlinewidth": 0,
              "ticks": ""
             }
            },
            "type": "scatter"
           }
          ],
          "scatter3d": [
           {
            "line": {
             "colorbar": {
              "outlinewidth": 0,
              "ticks": ""
             }
            },
            "marker": {
             "colorbar": {
              "outlinewidth": 0,
              "ticks": ""
             }
            },
            "type": "scatter3d"
           }
          ],
          "scattercarpet": [
           {
            "marker": {
             "colorbar": {
              "outlinewidth": 0,
              "ticks": ""
             }
            },
            "type": "scattercarpet"
           }
          ],
          "scattergeo": [
           {
            "marker": {
             "colorbar": {
              "outlinewidth": 0,
              "ticks": ""
             }
            },
            "type": "scattergeo"
           }
          ],
          "scattergl": [
           {
            "marker": {
             "colorbar": {
              "outlinewidth": 0,
              "ticks": ""
             }
            },
            "type": "scattergl"
           }
          ],
          "scattermapbox": [
           {
            "marker": {
             "colorbar": {
              "outlinewidth": 0,
              "ticks": ""
             }
            },
            "type": "scattermapbox"
           }
          ],
          "scatterpolar": [
           {
            "marker": {
             "colorbar": {
              "outlinewidth": 0,
              "ticks": ""
             }
            },
            "type": "scatterpolar"
           }
          ],
          "scatterpolargl": [
           {
            "marker": {
             "colorbar": {
              "outlinewidth": 0,
              "ticks": ""
             }
            },
            "type": "scatterpolargl"
           }
          ],
          "scatterternary": [
           {
            "marker": {
             "colorbar": {
              "outlinewidth": 0,
              "ticks": ""
             }
            },
            "type": "scatterternary"
           }
          ],
          "surface": [
           {
            "colorbar": {
             "outlinewidth": 0,
             "ticks": ""
            },
            "colorscale": [
             [
              0,
              "#0d0887"
             ],
             [
              0.1111111111111111,
              "#46039f"
             ],
             [
              0.2222222222222222,
              "#7201a8"
             ],
             [
              0.3333333333333333,
              "#9c179e"
             ],
             [
              0.4444444444444444,
              "#bd3786"
             ],
             [
              0.5555555555555556,
              "#d8576b"
             ],
             [
              0.6666666666666666,
              "#ed7953"
             ],
             [
              0.7777777777777778,
              "#fb9f3a"
             ],
             [
              0.8888888888888888,
              "#fdca26"
             ],
             [
              1,
              "#f0f921"
             ]
            ],
            "type": "surface"
           }
          ],
          "table": [
           {
            "cells": {
             "fill": {
              "color": "#EBF0F8"
             },
             "line": {
              "color": "white"
             }
            },
            "header": {
             "fill": {
              "color": "#C8D4E3"
             },
             "line": {
              "color": "white"
             }
            },
            "type": "table"
           }
          ]
         },
         "layout": {
          "annotationdefaults": {
           "arrowcolor": "#2a3f5f",
           "arrowhead": 0,
           "arrowwidth": 1
          },
          "autotypenumbers": "strict",
          "coloraxis": {
           "colorbar": {
            "outlinewidth": 0,
            "ticks": ""
           }
          },
          "colorscale": {
           "diverging": [
            [
             0,
             "#8e0152"
            ],
            [
             0.1,
             "#c51b7d"
            ],
            [
             0.2,
             "#de77ae"
            ],
            [
             0.3,
             "#f1b6da"
            ],
            [
             0.4,
             "#fde0ef"
            ],
            [
             0.5,
             "#f7f7f7"
            ],
            [
             0.6,
             "#e6f5d0"
            ],
            [
             0.7,
             "#b8e186"
            ],
            [
             0.8,
             "#7fbc41"
            ],
            [
             0.9,
             "#4d9221"
            ],
            [
             1,
             "#276419"
            ]
           ],
           "sequential": [
            [
             0,
             "#0d0887"
            ],
            [
             0.1111111111111111,
             "#46039f"
            ],
            [
             0.2222222222222222,
             "#7201a8"
            ],
            [
             0.3333333333333333,
             "#9c179e"
            ],
            [
             0.4444444444444444,
             "#bd3786"
            ],
            [
             0.5555555555555556,
             "#d8576b"
            ],
            [
             0.6666666666666666,
             "#ed7953"
            ],
            [
             0.7777777777777778,
             "#fb9f3a"
            ],
            [
             0.8888888888888888,
             "#fdca26"
            ],
            [
             1,
             "#f0f921"
            ]
           ],
           "sequentialminus": [
            [
             0,
             "#0d0887"
            ],
            [
             0.1111111111111111,
             "#46039f"
            ],
            [
             0.2222222222222222,
             "#7201a8"
            ],
            [
             0.3333333333333333,
             "#9c179e"
            ],
            [
             0.4444444444444444,
             "#bd3786"
            ],
            [
             0.5555555555555556,
             "#d8576b"
            ],
            [
             0.6666666666666666,
             "#ed7953"
            ],
            [
             0.7777777777777778,
             "#fb9f3a"
            ],
            [
             0.8888888888888888,
             "#fdca26"
            ],
            [
             1,
             "#f0f921"
            ]
           ]
          },
          "colorway": [
           "#636efa",
           "#EF553B",
           "#00cc96",
           "#ab63fa",
           "#FFA15A",
           "#19d3f3",
           "#FF6692",
           "#B6E880",
           "#FF97FF",
           "#FECB52"
          ],
          "font": {
           "color": "#2a3f5f"
          },
          "geo": {
           "bgcolor": "white",
           "lakecolor": "white",
           "landcolor": "#E5ECF6",
           "showlakes": true,
           "showland": true,
           "subunitcolor": "white"
          },
          "hoverlabel": {
           "align": "left"
          },
          "hovermode": "closest",
          "mapbox": {
           "style": "light"
          },
          "paper_bgcolor": "white",
          "plot_bgcolor": "#E5ECF6",
          "polar": {
           "angularaxis": {
            "gridcolor": "white",
            "linecolor": "white",
            "ticks": ""
           },
           "bgcolor": "#E5ECF6",
           "radialaxis": {
            "gridcolor": "white",
            "linecolor": "white",
            "ticks": ""
           }
          },
          "scene": {
           "xaxis": {
            "backgroundcolor": "#E5ECF6",
            "gridcolor": "white",
            "gridwidth": 2,
            "linecolor": "white",
            "showbackground": true,
            "ticks": "",
            "zerolinecolor": "white"
           },
           "yaxis": {
            "backgroundcolor": "#E5ECF6",
            "gridcolor": "white",
            "gridwidth": 2,
            "linecolor": "white",
            "showbackground": true,
            "ticks": "",
            "zerolinecolor": "white"
           },
           "zaxis": {
            "backgroundcolor": "#E5ECF6",
            "gridcolor": "white",
            "gridwidth": 2,
            "linecolor": "white",
            "showbackground": true,
            "ticks": "",
            "zerolinecolor": "white"
           }
          },
          "shapedefaults": {
           "line": {
            "color": "#2a3f5f"
           }
          },
          "ternary": {
           "aaxis": {
            "gridcolor": "white",
            "linecolor": "white",
            "ticks": ""
           },
           "baxis": {
            "gridcolor": "white",
            "linecolor": "white",
            "ticks": ""
           },
           "bgcolor": "#E5ECF6",
           "caxis": {
            "gridcolor": "white",
            "linecolor": "white",
            "ticks": ""
           }
          },
          "title": {
           "x": 0.05
          },
          "xaxis": {
           "automargin": true,
           "gridcolor": "white",
           "linecolor": "white",
           "ticks": "",
           "title": {
            "standoff": 15
           },
           "zerolinecolor": "white",
           "zerolinewidth": 2
          },
          "yaxis": {
           "automargin": true,
           "gridcolor": "white",
           "linecolor": "white",
           "ticks": "",
           "title": {
            "standoff": 15
           },
           "zerolinecolor": "white",
           "zerolinewidth": 2
          }
         }
        },
        "title": {
         "text": "Survival Time of Patients"
        },
        "xaxis": {
         "anchor": "y",
         "domain": [
          0,
          1
         ],
         "title": {
          "text": "time"
         }
        },
        "yaxis": {
         "anchor": "x",
         "categoryarray": [
          10,
          9,
          8,
          7,
          6,
          5,
          4,
          3,
          2,
          1,
          0
         ],
         "categoryorder": "array",
         "domain": [
          0,
          1
         ],
         "title": {
          "text": "patient"
         }
        }
       }
      }
     },
     "metadata": {},
     "output_type": "display_data"
    }
   ],
   "source": [
    "import numpy as np\n",
    "import pandas as pd\n",
    "import lifelines\n",
    "from lifelines.datasets import load_kidney_transplant\n",
    "from lifelines import KaplanMeierFitter\n",
    "from lifelines.statistics import logrank_test\n",
    "import plotly.express as px\n",
    "import plotly.graph_objs as go\n",
    "import os\n",
    "\n",
    "path = os.path.realpath('..')\n",
    "\n",
    "df = lifelines.datasets.df = lifelines.datasets.load_kidney_transplant().rename_axis('patient').reset_index()\n",
    "\n",
    "df['start'] = 0\n",
    "df['end'] = df.time\n",
    "\n",
    "new = df[0:11]\n",
    "fig = px.line(new, x='time', y='patient',color='patient', title='Survival Time of Patients')\n",
    "for r,col in new.iterrows():  \n",
    "    fig.add_shape(type=\"line\", x0=new.start[r], x1=new.end[r],y0=new.index[r],y1=new.patient[r], line_width=2, line_dash=\"dash\", line_color=\"blue\")\n",
    "fig"
   ]
  },
  {
   "cell_type": "markdown",
   "metadata": {},
   "source": [
    "## KM Estimators"
   ]
  },
  {
   "cell_type": "code",
   "execution_count": 33,
   "metadata": {},
   "outputs": [],
   "source": [
    "def KM(df):\n",
    "   \"\"\"Calculate KM estimator manually.\n",
    "   Following https://allendowney.github.io/SurvivalAnalysisPython/02_kaplan_meier.html\"\"\"\n",
    "   ts = df.time.unique()\n",
    "   ts.sort()\n",
    "   at_risk = pd.Series(0, index=ts)\n",
    "   for t in ts:\n",
    "      k = (t <= df['end']) # true false if time t is below or equal end time\n",
    "      at_risk[t] = k.sum() # sum trues to get all cancer patients by duration\n",
    "    \n",
    "   d = pd.Series(0, index=ts)\n",
    "\n",
    "   for t in ts:\n",
    "      # create condition that patient died and that death was observed\n",
    "      k = (df['death'] == 1) & (t == df['end'])\n",
    "      # sum the true values for the above condition\n",
    "      d[t] = k.sum()\n",
    "      dff = pd.DataFrame(dict(death=d, \n",
    "            at_risk=at_risk), index=ts)\n",
    "\n",
    "   dff['hazard'] = dff.death/dff.at_risk\n",
    "\n",
    "   # calculate values for survivor curve\n",
    "   dff['surv'] = (1-dff.hazard).cumprod()\n",
    "   return dff"
   ]
  },
  {
   "cell_type": "code",
   "execution_count": 34,
   "metadata": {},
   "outputs": [
    {
     "data": {
      "application/vnd.plotly.v1+json": {
       "config": {
        "plotlyServerURL": "https://plot.ly"
       },
       "data": [
        {
         "hovertemplate": "timeline=%{x}<br>KM_estimate=%{y}<extra></extra>",
         "legendgroup": "",
         "line": {
          "color": "#636efa",
          "dash": "solid"
         },
         "mode": "lines",
         "name": "",
         "orientation": "v",
         "showlegend": false,
         "type": "scatter",
         "x": [
          1,
          2,
          3,
          5,
          7,
          9,
          10,
          13,
          14,
          17,
          20,
          21,
          26,
          28,
          32,
          33,
          37,
          40,
          43,
          44,
          45,
          48,
          50,
          51,
          52,
          56,
          57,
          59,
          62,
          66,
          67,
          68,
          69,
          78,
          79,
          80,
          82,
          87,
          88,
          91,
          93,
          97,
          98,
          104,
          105,
          106,
          112,
          114,
          115,
          116,
          118,
          119,
          121,
          124,
          135,
          141,
          142,
          143,
          144,
          150,
          152,
          154,
          158,
          162,
          167,
          172,
          173,
          183,
          186,
          190,
          193,
          198,
          200,
          205,
          206,
          209,
          211,
          215,
          223,
          224,
          228,
          229,
          231,
          236,
          238,
          239,
          242,
          243,
          246,
          248,
          249,
          250,
          251,
          252,
          253,
          256,
          257,
          259,
          260,
          261,
          269,
          271,
          273,
          277,
          280,
          283,
          284,
          289,
          291,
          297,
          306,
          311,
          312,
          316,
          331,
          334,
          337,
          338,
          340,
          341,
          344,
          346,
          347,
          354,
          361,
          366,
          367,
          370,
          377,
          386,
          387,
          388,
          391,
          392,
          399,
          402,
          403,
          406,
          410,
          414,
          417,
          421,
          424,
          428,
          432,
          439,
          442,
          443,
          448,
          450,
          452,
          459,
          470,
          478,
          479,
          481,
          485,
          486,
          490,
          494,
          495,
          499,
          507,
          512,
          535,
          543,
          545,
          549,
          563,
          570,
          572,
          579,
          582,
          583,
          590,
          593,
          596,
          604,
          614,
          615,
          621,
          625,
          630,
          631,
          633,
          642,
          646,
          652,
          654,
          655,
          659,
          660,
          661,
          663,
          670,
          671,
          673,
          675,
          678,
          692,
          693,
          697,
          701,
          715,
          719,
          723,
          725,
          730,
          731,
          734,
          750,
          753,
          757,
          759,
          762,
          772,
          773,
          776,
          777,
          790,
          793,
          806,
          834,
          835,
          840,
          852,
          863,
          864,
          868,
          875,
          879,
          887,
          888,
          890,
          899,
          900,
          903,
          907,
          909,
          915,
          920,
          929,
          932,
          934,
          939,
          943,
          945,
          946,
          951,
          953,
          961,
          963,
          965,
          968,
          992,
          995,
          1001,
          1002,
          1012,
          1013,
          1016,
          1028,
          1050,
          1051,
          1058,
          1072,
          1086,
          1092,
          1105,
          1109,
          1110,
          1114,
          1115,
          1118,
          1122,
          1124,
          1125,
          1128,
          1145,
          1149,
          1151,
          1154,
          1164,
          1165,
          1178,
          1186,
          1191,
          1196,
          1208,
          1210,
          1224,
          1229,
          1230,
          1232,
          1242,
          1252,
          1254,
          1256,
          1269,
          1274,
          1275,
          1291,
          1297,
          1299,
          1302,
          1304,
          1309,
          1313,
          1315,
          1316,
          1326,
          1331,
          1350,
          1352,
          1357,
          1365,
          1368,
          1383,
          1384,
          1386,
          1388,
          1395,
          1418,
          1427,
          1428,
          1429,
          1435,
          1449,
          1450,
          1457,
          1463,
          1470,
          1473,
          1497,
          1500,
          1508,
          1509,
          1522,
          1527,
          1541,
          1567,
          1571,
          1578,
          1586,
          1594,
          1605,
          1606,
          1610,
          1611,
          1617,
          1623,
          1624,
          1638,
          1641,
          1655,
          1668,
          1673,
          1674,
          1681,
          1698,
          1699,
          1700,
          1702,
          1707,
          1717,
          1718,
          1732,
          1734,
          1736,
          1739,
          1745,
          1746,
          1749,
          1770,
          1777,
          1778,
          1785,
          1786,
          1791,
          1795,
          1802,
          1803,
          1808,
          1815,
          1820,
          1835,
          1839,
          1861,
          1875,
          1877,
          1893,
          1900,
          1914,
          1920,
          1937,
          1939,
          1940,
          1942,
          1947,
          1959,
          1962,
          1966,
          1973,
          1975,
          1980,
          1988,
          1989,
          1995,
          2001,
          2014,
          2016,
          2025,
          2026,
          2032,
          2034,
          2035,
          2038,
          2041,
          2043,
          2048,
          2049,
          2056,
          2060,
          2083,
          2090,
          2094,
          2095,
          2096,
          2098,
          2102,
          2108,
          2109,
          2129,
          2135,
          2147,
          2171,
          2190,
          2193,
          2211,
          2221,
          2223,
          2233,
          2236,
          2252,
          2253,
          2264,
          2267,
          2268,
          2270,
          2271,
          2276,
          2291,
          2301,
          2312,
          2313,
          2330,
          2332,
          2335,
          2356,
          2367,
          2369,
          2384,
          2392,
          2405,
          2413,
          2414,
          2418,
          2421,
          2425,
          2430,
          2433,
          2434,
          2451,
          2455,
          2462,
          2463,
          2486,
          2488,
          2489,
          2497,
          2504,
          2516,
          2529,
          2531,
          2533,
          2556,
          2557,
          2567,
          2575,
          2585,
          2589,
          2598,
          2601,
          2607,
          2625,
          2630,
          2632,
          2638,
          2646,
          2650,
          2654,
          2659,
          2663,
          2670,
          2680,
          2688,
          2690,
          2696,
          2700,
          2701,
          2705,
          2712,
          2714,
          2716,
          2726,
          2740,
          2741,
          2750,
          2759,
          2761,
          2762,
          2765,
          2768,
          2783,
          2789,
          2795,
          2812,
          2815,
          2827,
          2831,
          2846,
          2867,
          2870,
          2871,
          2876,
          2889,
          2900,
          2906,
          2909,
          2918,
          2922,
          2935,
          2936,
          2948,
          2955,
          2957,
          2961,
          2993,
          2994,
          2999,
          3007,
          3019,
          3028,
          3042,
          3045,
          3060,
          3063,
          3072,
          3077,
          3078,
          3084,
          3086,
          3096,
          3102,
          3106,
          3110,
          3116,
          3124,
          3130,
          3131,
          3142,
          3145,
          3146,
          3147,
          3161,
          3172,
          3173,
          3175,
          3179,
          3186,
          3187,
          3202,
          3211,
          3215,
          3224,
          3229,
          3255,
          3260,
          3265,
          3281,
          3287,
          3289,
          3300,
          3301,
          3304,
          3319,
          3325,
          3360,
          3361,
          3372,
          3379,
          3402,
          3412,
          3420,
          3425,
          3430,
          3434
         ],
         "xaxis": "x",
         "y": [
          1,
          0.9988385598141696,
          0.9976771196283392,
          0.9976771196283392,
          0.9953488182989848,
          0.9953488182989848,
          0.9930150578809332,
          0.9930150578809332,
          0.9930150578809332,
          0.9918440495579605,
          0.9918440495579605,
          0.9906688788831287,
          0.9883185375334653,
          0.9871419678459254,
          0.9871419678459254,
          0.9871419678459254,
          0.9859611760183585,
          0.9847803841907916,
          0.9824188005356579,
          0.981233735637545,
          0.980048670739432,
          0.980048670739432,
          0.9788621711380525,
          0.9788621711380525,
          0.9776698907834386,
          0.9764776104288246,
          0.9740930497195968,
          0.9729007693649828,
          0.9705162086557549,
          0.9705162086557549,
          0.9705162086557549,
          0.9681198723380865,
          0.9669217041792523,
          0.9657235360204179,
          0.9645253678615837,
          0.9645253678615837,
          0.9645253678615837,
          0.9645253678615837,
          0.9633166894557421,
          0.9621080110499006,
          0.9621080110499006,
          0.9608947600901907,
          0.9584682581707711,
          0.9572550072110613,
          0.9572550072110613,
          0.9548192438339339,
          0.9548192438339339,
          0.9548192438339339,
          0.9548192438339339,
          0.9548192438339339,
          0.9548192438339339,
          0.9535840313580815,
          0.9523472167908207,
          0.9523472167908207,
          0.9511055646176906,
          0.9511055646176906,
          0.9511055646176906,
          0.9498606620462015,
          0.9498606620462015,
          0.9486141257443035,
          0.9486141257443035,
          0.9473626559214219,
          0.9461111860985402,
          0.9448597162756586,
          0.9448597162756586,
          0.9448597162756586,
          0.9448597162756586,
          0.9448597162756586,
          0.9448597162756586,
          0.9435931482913749,
          0.9435931482913749,
          0.9435931482913749,
          0.9435931482913749,
          0.9435931482913749,
          0.942316296940507,
          0.9410394455896391,
          0.9410394455896391,
          0.9410394455896391,
          0.9410394455896391,
          0.9410394455896391,
          0.9397538725765386,
          0.938468299563438,
          0.938468299563438,
          0.938468299563438,
          0.938468299563438,
          0.938468299563438,
          0.9371720726303394,
          0.9371720726303394,
          0.9371720726303394,
          0.9358704447516861,
          0.9345688168730328,
          0.9345688168730328,
          0.9345688168730328,
          0.933261727618665,
          0.933261727618665,
          0.933261727618665,
          0.933261727618665,
          0.933261727618665,
          0.933261727618665,
          0.933261727618665,
          0.933261727618665,
          0.933261727618665,
          0.9319303984779821,
          0.9319303984779821,
          0.9319303984779821,
          0.9319303984779821,
          0.9319303984779821,
          0.9319303984779821,
          0.9305875592870916,
          0.9292447200962011,
          0.9292447200962011,
          0.9265512571394006,
          0.9265512571394006,
          0.9265512571394006,
          0.9265512571394006,
          0.9251906826061562,
          0.9251906826061562,
          0.9251906826061562,
          0.9238260945787136,
          0.9238260945787136,
          0.9224533960726531,
          0.9210806975665926,
          0.9210806975665926,
          0.9197038953280775,
          0.9197038953280775,
          0.9183250289182903,
          0.9183250289182903,
          0.9183250289182903,
          0.9183250289182903,
          0.9183250289182903,
          0.9183250289182903,
          0.9183250289182903,
          0.9169315159760774,
          0.9169315159760774,
          0.9169315159760774,
          0.9155316205318391,
          0.9155316205318391,
          0.9155316205318391,
          0.9155316205318391,
          0.9155316205318391,
          0.9155316205318391,
          0.91412094006877,
          0.91412094006877,
          0.91412094006877,
          0.91412094006877,
          0.9126992900842151,
          0.9126992900842151,
          0.9126992900842151,
          0.9126992900842151,
          0.9112664811515868,
          0.9112664811515868,
          0.9112664811515868,
          0.9098268816552968,
          0.9083872821590068,
          0.9083872821590068,
          0.9069453975841512,
          0.9069453975841512,
          0.9069453975841512,
          0.9054989136964571,
          0.9054989136964571,
          0.9040477936424564,
          0.9040477936424564,
          0.9040477936424564,
          0.9040477936424564,
          0.9040477936424564,
          0.9040477936424564,
          0.9040477936424564,
          0.9040477936424564,
          0.9040477936424564,
          0.9025633145067544,
          0.9025633145067544,
          0.9025633145067544,
          0.9025633145067544,
          0.9010690043833989,
          0.9010690043833989,
          0.9010690043833989,
          0.9010690043833989,
          0.9010690043833989,
          0.8995647155613898,
          0.8980604267393808,
          0.8965561379173718,
          0.8965561379173718,
          0.8965561379173718,
          0.8965561379173718,
          0.8965561379173718,
          0.8965561379173718,
          0.8965561379173718,
          0.8950339712995155,
          0.8950339712995155,
          0.8950339712995155,
          0.8950339712995155,
          0.8950339712995155,
          0.8950339712995155,
          0.8950339712995155,
          0.8950339712995155,
          0.8950339712995155,
          0.8950339712995155,
          0.8950339712995155,
          0.8950339712995155,
          0.8950339712995155,
          0.8950339712995155,
          0.8934637362621479,
          0.8934637362621479,
          0.8934637362621479,
          0.8934637362621479,
          0.8934637362621479,
          0.8934637362621479,
          0.8918795807013995,
          0.8918795807013995,
          0.8918795807013995,
          0.8918795807013995,
          0.8918795807013995,
          0.8918795807013995,
          0.8918795807013995,
          0.8918795807013995,
          0.8918795807013995,
          0.8902579814637606,
          0.8886363822261216,
          0.8886363822261216,
          0.8870028594646766,
          0.8853693367032315,
          0.8837358139417865,
          0.8837358139417865,
          0.8837358139417865,
          0.8820962298713935,
          0.8804566458010006,
          0.8804566458010006,
          0.8788109324443631,
          0.8788109324443631,
          0.8771527986095624,
          0.8771527986095624,
          0.8771527986095624,
          0.8771527986095624,
          0.8771527986095624,
          0.8771527986095624,
          0.8771527986095624,
          0.8771527986095624,
          0.8771527986095624,
          0.8771527986095624,
          0.8771527986095624,
          0.8771527986095624,
          0.8754429490996022,
          0.8754429490996022,
          0.8754429490996022,
          0.8737263942974461,
          0.8720098394952901,
          0.8685767298909779,
          0.8668601750888218,
          0.8668601750888218,
          0.8668601750888218,
          0.8668601750888218,
          0.8668601750888218,
          0.8668601750888218,
          0.8668601750888218,
          0.8668601750888218,
          0.8668601750888218,
          0.8651053974064559,
          0.8651053974064559,
          0.8651053974064559,
          0.8633434719534895,
          0.8615815465005232,
          0.8615815465005232,
          0.8615815465005232,
          0.8615815465005232,
          0.8615815465005232,
          0.8615815465005232,
          0.8615815465005232,
          0.8615815465005232,
          0.8597828376351777,
          0.8597828376351777,
          0.8597828376351777,
          0.8597828376351777,
          0.8597828376351777,
          0.8597828376351777,
          0.8597828376351777,
          0.8597828376351777,
          0.8597828376351777,
          0.8597828376351777,
          0.8597828376351777,
          0.8597828376351777,
          0.8597828376351777,
          0.8597828376351777,
          0.8579014747519498,
          0.8579014747519498,
          0.8579014747519498,
          0.856011823926505,
          0.8541221731010602,
          0.8522325222756154,
          0.8522325222756154,
          0.8503259618230973,
          0.8503259618230973,
          0.8503259618230973,
          0.8503259618230973,
          0.8503259618230973,
          0.8503259618230973,
          0.8503259618230973,
          0.8503259618230973,
          0.8503259618230973,
          0.8503259618230973,
          0.8503259618230973,
          0.8483484595862993,
          0.8483484595862993,
          0.8483484595862993,
          0.8483484595862993,
          0.8483484595862993,
          0.8483484595862993,
          0.8483484595862993,
          0.8483484595862993,
          0.8483484595862993,
          0.8483484595862993,
          0.8463042464306697,
          0.8442600332750401,
          0.8442600332750401,
          0.8442600332750401,
          0.8422008624621741,
          0.8422008624621741,
          0.8422008624621741,
          0.8422008624621741,
          0.8401058354411238,
          0.8401058354411238,
          0.838005570852521,
          0.838005570852521,
          0.8359000292172132,
          0.8359000292172132,
          0.8359000292172132,
          0.8359000292172132,
          0.8359000292172132,
          0.8359000292172132,
          0.8359000292172132,
          0.8359000292172132,
          0.8359000292172132,
          0.8359000292172132,
          0.8337175226135128,
          0.8337175226135128,
          0.8337175226135128,
          0.8337175226135128,
          0.8315060702988881,
          0.8315060702988881,
          0.8315060702988881,
          0.8315060702988881,
          0.8315060702988881,
          0.8315060702988881,
          0.8315060702988881,
          0.8315060702988881,
          0.8315060702988881,
          0.8315060702988881,
          0.8315060702988881,
          0.8315060702988881,
          0.8315060702988881,
          0.8315060702988881,
          0.8315060702988881,
          0.8315060702988881,
          0.8315060702988881,
          0.8315060702988881,
          0.8315060702988881,
          0.8315060702988881,
          0.8315060702988881,
          0.8315060702988881,
          0.8315060702988881,
          0.8315060702988881,
          0.8315060702988881,
          0.8315060702988881,
          0.8315060702988881,
          0.8315060702988881,
          0.8315060702988881,
          0.8315060702988881,
          0.8315060702988881,
          0.8289786962250314,
          0.8289786962250314,
          0.8289786962250314,
          0.8289786962250314,
          0.8289786962250314,
          0.8289786962250314,
          0.8289786962250314,
          0.8263302019878906,
          0.8263302019878906,
          0.8263302019878906,
          0.8263302019878906,
          0.8263302019878906,
          0.8263302019878906,
          0.8263302019878906,
          0.8263302019878906,
          0.8263302019878906,
          0.8263302019878906,
          0.8235290826591182,
          0.8207279633303457,
          0.8207279633303457,
          0.8207279633303457,
          0.8207279633303457,
          0.8178880741838739,
          0.8178880741838739,
          0.8178880741838739,
          0.8178880741838739,
          0.8178880741838739,
          0.8178880741838739,
          0.8178880741838739,
          0.8149670453475029,
          0.8149670453475029,
          0.8149670453475029,
          0.8149670453475029,
          0.8149670453475029,
          0.8149670453475029,
          0.8149670453475029,
          0.8149670453475029,
          0.8149670453475029,
          0.8149670453475029,
          0.8149670453475029,
          0.8149670453475029,
          0.8149670453475029,
          0.8149670453475029,
          0.8149670453475029,
          0.8149670453475029,
          0.8149670453475029,
          0.8149670453475029,
          0.8117585136729064,
          0.8117585136729064,
          0.8117585136729064,
          0.8117585136729064,
          0.8117585136729064,
          0.8117585136729064,
          0.8117585136729064,
          0.8084041396494647,
          0.8084041396494647,
          0.8084041396494647,
          0.8084041396494647,
          0.8084041396494647,
          0.8084041396494647,
          0.8084041396494647,
          0.8084041396494647,
          0.8084041396494647,
          0.8048428879329472,
          0.8048428879329472,
          0.8048428879329472,
          0.8048428879329472,
          0.8048428879329472,
          0.8012010649106263,
          0.8012010649106263,
          0.8012010649106263,
          0.8012010649106263,
          0.8012010649106263,
          0.8012010649106263,
          0.8012010649106263,
          0.8012010649106263,
          0.8012010649106263,
          0.8012010649106263,
          0.8012010649106263,
          0.8012010649106263,
          0.8012010649106263,
          0.8012010649106263,
          0.8012010649106263,
          0.7971950595860732,
          0.79318905426152,
          0.7891421713316144,
          0.7891421713316144,
          0.7850744281804205,
          0.7850744281804205,
          0.7850744281804205,
          0.7850744281804205,
          0.7850744281804205,
          0.7850744281804205,
          0.7807844039827133,
          0.7807844039827133,
          0.7807844039827133,
          0.7807844039827133,
          0.7807844039827133,
          0.7763481289600842,
          0.7763481289600842,
          0.7718863581039918,
          0.7718863581039918,
          0.7718863581039918,
          0.7718863581039918,
          0.7718863581039918,
          0.7718863581039918,
          0.7718863581039918,
          0.7718863581039918,
          0.7718863581039918,
          0.7718863581039918,
          0.7718863581039918,
          0.7669383686289661,
          0.7669383686289661,
          0.7669383686289661,
          0.7669383686289661,
          0.7669383686289661,
          0.7669383686289661,
          0.7669383686289661,
          0.7669383686289661,
          0.7616853661041102,
          0.7564323635792543,
          0.7564323635792543,
          0.7564323635792543,
          0.7564323635792543,
          0.7564323635792543,
          0.7564323635792543,
          0.7564323635792543,
          0.7564323635792543,
          0.7564323635792543,
          0.7564323635792543,
          0.7564323635792543,
          0.7564323635792543,
          0.7506580707275042,
          0.7506580707275042,
          0.7506580707275042,
          0.7506580707275042,
          0.7506580707275042,
          0.7506580707275042,
          0.7506580707275042,
          0.7506580707275042,
          0.7506580707275042,
          0.7506580707275042,
          0.7506580707275042,
          0.7506580707275042,
          0.7506580707275042,
          0.7506580707275042,
          0.7506580707275042,
          0.7506580707275042,
          0.7506580707275042,
          0.7506580707275042,
          0.7506580707275042,
          0.7506580707275042,
          0.7506580707275042,
          0.7506580707275042,
          0.7506580707275042,
          0.7506580707275042,
          0.7506580707275042,
          0.7506580707275042,
          0.7429193277303136,
          0.7429193277303136,
          0.7429193277303136,
          0.7429193277303136,
          0.7429193277303136,
          0.7429193277303136,
          0.7429193277303136,
          0.7429193277303136,
          0.7429193277303136,
          0.7429193277303136,
          0.7429193277303136,
          0.7429193277303136,
          0.7429193277303136,
          0.7429193277303136,
          0.7429193277303136,
          0.7429193277303136,
          0.7429193277303136,
          0.7429193277303136,
          0.7429193277303136,
          0.7429193277303136,
          0.7429193277303136,
          0.7429193277303136,
          0.7429193277303136,
          0.7429193277303136,
          0.7429193277303136,
          0.7429193277303136,
          0.7429193277303136,
          0.7429193277303136,
          0.7429193277303136,
          0.7429193277303136,
          0.7429193277303136,
          0.7429193277303136,
          0.7429193277303136,
          0.7429193277303136,
          0.7429193277303136,
          0.7429193277303136,
          0.7429193277303136,
          0.7429193277303136,
          0.7429193277303136,
          0.7429193277303136,
          0.7429193277303136,
          0.7429193277303136,
          0.7429193277303136,
          0.7429193277303136,
          0.7429193277303136,
          0.7429193277303136,
          0.7429193277303136,
          0.723870114198767,
          0.723870114198767,
          0.723870114198767,
          0.723870114198767,
          0.723870114198767,
          0.723870114198767,
          0.723870114198767,
          0.723870114198767,
          0.723870114198767,
          0.723870114198767,
          0.723870114198767,
          0.723870114198767,
          0.723870114198767,
          0.723870114198767,
          0.723870114198767,
          0.723870114198767,
          0.723870114198767,
          0.723870114198767,
          0.723870114198767,
          0.723870114198767,
          0.723870114198767,
          0.723870114198767,
          0.723870114198767,
          0.723870114198767,
          0.723870114198767,
          0.723870114198767,
          0.723870114198767,
          0.723870114198767,
          0.723870114198767,
          0.723870114198767,
          0.723870114198767,
          0.723870114198767,
          0.723870114198767,
          0.723870114198767,
          0.723870114198767
         ],
         "yaxis": "y"
        }
       ],
       "layout": {
        "legend": {
         "tracegroupgap": 0
        },
        "template": {
         "data": {
          "bar": [
           {
            "error_x": {
             "color": "#2a3f5f"
            },
            "error_y": {
             "color": "#2a3f5f"
            },
            "marker": {
             "line": {
              "color": "#E5ECF6",
              "width": 0.5
             }
            },
            "type": "bar"
           }
          ],
          "barpolar": [
           {
            "marker": {
             "line": {
              "color": "#E5ECF6",
              "width": 0.5
             }
            },
            "type": "barpolar"
           }
          ],
          "carpet": [
           {
            "aaxis": {
             "endlinecolor": "#2a3f5f",
             "gridcolor": "white",
             "linecolor": "white",
             "minorgridcolor": "white",
             "startlinecolor": "#2a3f5f"
            },
            "baxis": {
             "endlinecolor": "#2a3f5f",
             "gridcolor": "white",
             "linecolor": "white",
             "minorgridcolor": "white",
             "startlinecolor": "#2a3f5f"
            },
            "type": "carpet"
           }
          ],
          "choropleth": [
           {
            "colorbar": {
             "outlinewidth": 0,
             "ticks": ""
            },
            "type": "choropleth"
           }
          ],
          "contour": [
           {
            "colorbar": {
             "outlinewidth": 0,
             "ticks": ""
            },
            "colorscale": [
             [
              0,
              "#0d0887"
             ],
             [
              0.1111111111111111,
              "#46039f"
             ],
             [
              0.2222222222222222,
              "#7201a8"
             ],
             [
              0.3333333333333333,
              "#9c179e"
             ],
             [
              0.4444444444444444,
              "#bd3786"
             ],
             [
              0.5555555555555556,
              "#d8576b"
             ],
             [
              0.6666666666666666,
              "#ed7953"
             ],
             [
              0.7777777777777778,
              "#fb9f3a"
             ],
             [
              0.8888888888888888,
              "#fdca26"
             ],
             [
              1,
              "#f0f921"
             ]
            ],
            "type": "contour"
           }
          ],
          "contourcarpet": [
           {
            "colorbar": {
             "outlinewidth": 0,
             "ticks": ""
            },
            "type": "contourcarpet"
           }
          ],
          "heatmap": [
           {
            "colorbar": {
             "outlinewidth": 0,
             "ticks": ""
            },
            "colorscale": [
             [
              0,
              "#0d0887"
             ],
             [
              0.1111111111111111,
              "#46039f"
             ],
             [
              0.2222222222222222,
              "#7201a8"
             ],
             [
              0.3333333333333333,
              "#9c179e"
             ],
             [
              0.4444444444444444,
              "#bd3786"
             ],
             [
              0.5555555555555556,
              "#d8576b"
             ],
             [
              0.6666666666666666,
              "#ed7953"
             ],
             [
              0.7777777777777778,
              "#fb9f3a"
             ],
             [
              0.8888888888888888,
              "#fdca26"
             ],
             [
              1,
              "#f0f921"
             ]
            ],
            "type": "heatmap"
           }
          ],
          "heatmapgl": [
           {
            "colorbar": {
             "outlinewidth": 0,
             "ticks": ""
            },
            "colorscale": [
             [
              0,
              "#0d0887"
             ],
             [
              0.1111111111111111,
              "#46039f"
             ],
             [
              0.2222222222222222,
              "#7201a8"
             ],
             [
              0.3333333333333333,
              "#9c179e"
             ],
             [
              0.4444444444444444,
              "#bd3786"
             ],
             [
              0.5555555555555556,
              "#d8576b"
             ],
             [
              0.6666666666666666,
              "#ed7953"
             ],
             [
              0.7777777777777778,
              "#fb9f3a"
             ],
             [
              0.8888888888888888,
              "#fdca26"
             ],
             [
              1,
              "#f0f921"
             ]
            ],
            "type": "heatmapgl"
           }
          ],
          "histogram": [
           {
            "marker": {
             "colorbar": {
              "outlinewidth": 0,
              "ticks": ""
             }
            },
            "type": "histogram"
           }
          ],
          "histogram2d": [
           {
            "colorbar": {
             "outlinewidth": 0,
             "ticks": ""
            },
            "colorscale": [
             [
              0,
              "#0d0887"
             ],
             [
              0.1111111111111111,
              "#46039f"
             ],
             [
              0.2222222222222222,
              "#7201a8"
             ],
             [
              0.3333333333333333,
              "#9c179e"
             ],
             [
              0.4444444444444444,
              "#bd3786"
             ],
             [
              0.5555555555555556,
              "#d8576b"
             ],
             [
              0.6666666666666666,
              "#ed7953"
             ],
             [
              0.7777777777777778,
              "#fb9f3a"
             ],
             [
              0.8888888888888888,
              "#fdca26"
             ],
             [
              1,
              "#f0f921"
             ]
            ],
            "type": "histogram2d"
           }
          ],
          "histogram2dcontour": [
           {
            "colorbar": {
             "outlinewidth": 0,
             "ticks": ""
            },
            "colorscale": [
             [
              0,
              "#0d0887"
             ],
             [
              0.1111111111111111,
              "#46039f"
             ],
             [
              0.2222222222222222,
              "#7201a8"
             ],
             [
              0.3333333333333333,
              "#9c179e"
             ],
             [
              0.4444444444444444,
              "#bd3786"
             ],
             [
              0.5555555555555556,
              "#d8576b"
             ],
             [
              0.6666666666666666,
              "#ed7953"
             ],
             [
              0.7777777777777778,
              "#fb9f3a"
             ],
             [
              0.8888888888888888,
              "#fdca26"
             ],
             [
              1,
              "#f0f921"
             ]
            ],
            "type": "histogram2dcontour"
           }
          ],
          "mesh3d": [
           {
            "colorbar": {
             "outlinewidth": 0,
             "ticks": ""
            },
            "type": "mesh3d"
           }
          ],
          "parcoords": [
           {
            "line": {
             "colorbar": {
              "outlinewidth": 0,
              "ticks": ""
             }
            },
            "type": "parcoords"
           }
          ],
          "pie": [
           {
            "automargin": true,
            "type": "pie"
           }
          ],
          "scatter": [
           {
            "marker": {
             "colorbar": {
              "outlinewidth": 0,
              "ticks": ""
             }
            },
            "type": "scatter"
           }
          ],
          "scatter3d": [
           {
            "line": {
             "colorbar": {
              "outlinewidth": 0,
              "ticks": ""
             }
            },
            "marker": {
             "colorbar": {
              "outlinewidth": 0,
              "ticks": ""
             }
            },
            "type": "scatter3d"
           }
          ],
          "scattercarpet": [
           {
            "marker": {
             "colorbar": {
              "outlinewidth": 0,
              "ticks": ""
             }
            },
            "type": "scattercarpet"
           }
          ],
          "scattergeo": [
           {
            "marker": {
             "colorbar": {
              "outlinewidth": 0,
              "ticks": ""
             }
            },
            "type": "scattergeo"
           }
          ],
          "scattergl": [
           {
            "marker": {
             "colorbar": {
              "outlinewidth": 0,
              "ticks": ""
             }
            },
            "type": "scattergl"
           }
          ],
          "scattermapbox": [
           {
            "marker": {
             "colorbar": {
              "outlinewidth": 0,
              "ticks": ""
             }
            },
            "type": "scattermapbox"
           }
          ],
          "scatterpolar": [
           {
            "marker": {
             "colorbar": {
              "outlinewidth": 0,
              "ticks": ""
             }
            },
            "type": "scatterpolar"
           }
          ],
          "scatterpolargl": [
           {
            "marker": {
             "colorbar": {
              "outlinewidth": 0,
              "ticks": ""
             }
            },
            "type": "scatterpolargl"
           }
          ],
          "scatterternary": [
           {
            "marker": {
             "colorbar": {
              "outlinewidth": 0,
              "ticks": ""
             }
            },
            "type": "scatterternary"
           }
          ],
          "surface": [
           {
            "colorbar": {
             "outlinewidth": 0,
             "ticks": ""
            },
            "colorscale": [
             [
              0,
              "#0d0887"
             ],
             [
              0.1111111111111111,
              "#46039f"
             ],
             [
              0.2222222222222222,
              "#7201a8"
             ],
             [
              0.3333333333333333,
              "#9c179e"
             ],
             [
              0.4444444444444444,
              "#bd3786"
             ],
             [
              0.5555555555555556,
              "#d8576b"
             ],
             [
              0.6666666666666666,
              "#ed7953"
             ],
             [
              0.7777777777777778,
              "#fb9f3a"
             ],
             [
              0.8888888888888888,
              "#fdca26"
             ],
             [
              1,
              "#f0f921"
             ]
            ],
            "type": "surface"
           }
          ],
          "table": [
           {
            "cells": {
             "fill": {
              "color": "#EBF0F8"
             },
             "line": {
              "color": "white"
             }
            },
            "header": {
             "fill": {
              "color": "#C8D4E3"
             },
             "line": {
              "color": "white"
             }
            },
            "type": "table"
           }
          ]
         },
         "layout": {
          "annotationdefaults": {
           "arrowcolor": "#2a3f5f",
           "arrowhead": 0,
           "arrowwidth": 1
          },
          "autotypenumbers": "strict",
          "coloraxis": {
           "colorbar": {
            "outlinewidth": 0,
            "ticks": ""
           }
          },
          "colorscale": {
           "diverging": [
            [
             0,
             "#8e0152"
            ],
            [
             0.1,
             "#c51b7d"
            ],
            [
             0.2,
             "#de77ae"
            ],
            [
             0.3,
             "#f1b6da"
            ],
            [
             0.4,
             "#fde0ef"
            ],
            [
             0.5,
             "#f7f7f7"
            ],
            [
             0.6,
             "#e6f5d0"
            ],
            [
             0.7,
             "#b8e186"
            ],
            [
             0.8,
             "#7fbc41"
            ],
            [
             0.9,
             "#4d9221"
            ],
            [
             1,
             "#276419"
            ]
           ],
           "sequential": [
            [
             0,
             "#0d0887"
            ],
            [
             0.1111111111111111,
             "#46039f"
            ],
            [
             0.2222222222222222,
             "#7201a8"
            ],
            [
             0.3333333333333333,
             "#9c179e"
            ],
            [
             0.4444444444444444,
             "#bd3786"
            ],
            [
             0.5555555555555556,
             "#d8576b"
            ],
            [
             0.6666666666666666,
             "#ed7953"
            ],
            [
             0.7777777777777778,
             "#fb9f3a"
            ],
            [
             0.8888888888888888,
             "#fdca26"
            ],
            [
             1,
             "#f0f921"
            ]
           ],
           "sequentialminus": [
            [
             0,
             "#0d0887"
            ],
            [
             0.1111111111111111,
             "#46039f"
            ],
            [
             0.2222222222222222,
             "#7201a8"
            ],
            [
             0.3333333333333333,
             "#9c179e"
            ],
            [
             0.4444444444444444,
             "#bd3786"
            ],
            [
             0.5555555555555556,
             "#d8576b"
            ],
            [
             0.6666666666666666,
             "#ed7953"
            ],
            [
             0.7777777777777778,
             "#fb9f3a"
            ],
            [
             0.8888888888888888,
             "#fdca26"
            ],
            [
             1,
             "#f0f921"
            ]
           ]
          },
          "colorway": [
           "#636efa",
           "#EF553B",
           "#00cc96",
           "#ab63fa",
           "#FFA15A",
           "#19d3f3",
           "#FF6692",
           "#B6E880",
           "#FF97FF",
           "#FECB52"
          ],
          "font": {
           "color": "#2a3f5f"
          },
          "geo": {
           "bgcolor": "white",
           "lakecolor": "white",
           "landcolor": "#E5ECF6",
           "showlakes": true,
           "showland": true,
           "subunitcolor": "white"
          },
          "hoverlabel": {
           "align": "left"
          },
          "hovermode": "closest",
          "mapbox": {
           "style": "light"
          },
          "paper_bgcolor": "white",
          "plot_bgcolor": "#E5ECF6",
          "polar": {
           "angularaxis": {
            "gridcolor": "white",
            "linecolor": "white",
            "ticks": ""
           },
           "bgcolor": "#E5ECF6",
           "radialaxis": {
            "gridcolor": "white",
            "linecolor": "white",
            "ticks": ""
           }
          },
          "scene": {
           "xaxis": {
            "backgroundcolor": "#E5ECF6",
            "gridcolor": "white",
            "gridwidth": 2,
            "linecolor": "white",
            "showbackground": true,
            "ticks": "",
            "zerolinecolor": "white"
           },
           "yaxis": {
            "backgroundcolor": "#E5ECF6",
            "gridcolor": "white",
            "gridwidth": 2,
            "linecolor": "white",
            "showbackground": true,
            "ticks": "",
            "zerolinecolor": "white"
           },
           "zaxis": {
            "backgroundcolor": "#E5ECF6",
            "gridcolor": "white",
            "gridwidth": 2,
            "linecolor": "white",
            "showbackground": true,
            "ticks": "",
            "zerolinecolor": "white"
           }
          },
          "shapedefaults": {
           "line": {
            "color": "#2a3f5f"
           }
          },
          "ternary": {
           "aaxis": {
            "gridcolor": "white",
            "linecolor": "white",
            "ticks": ""
           },
           "baxis": {
            "gridcolor": "white",
            "linecolor": "white",
            "ticks": ""
           },
           "bgcolor": "#E5ECF6",
           "caxis": {
            "gridcolor": "white",
            "linecolor": "white",
            "ticks": ""
           }
          },
          "title": {
           "x": 0.05
          },
          "xaxis": {
           "automargin": true,
           "gridcolor": "white",
           "linecolor": "white",
           "ticks": "",
           "title": {
            "standoff": 15
           },
           "zerolinecolor": "white",
           "zerolinewidth": 2
          },
          "yaxis": {
           "automargin": true,
           "gridcolor": "white",
           "linecolor": "white",
           "ticks": "",
           "title": {
            "standoff": 15
           },
           "zerolinecolor": "white",
           "zerolinewidth": 2
          }
         }
        },
        "title": {
         "text": "Kaplan Meier Survival Function"
        },
        "xaxis": {
         "anchor": "y",
         "domain": [
          0,
          1
         ],
         "title": {
          "text": "timeline"
         }
        },
        "yaxis": {
         "anchor": "x",
         "domain": [
          0,
          1
         ],
         "title": {
          "text": "KM_estimate"
         }
        }
       }
      }
     },
     "metadata": {},
     "output_type": "display_data"
    }
   ],
   "source": [
    "dff = KM(df)\n",
    "dff = dff.reset_index()\n",
    "fig1 = px.line(dff, x='index',  y='surv', title='Kaplan Meier Survival Function', labels={'surv':'KM_estimate', 'index':'timeline'})\n",
    "fig1\n"
   ]
  },
  {
   "cell_type": "code",
   "execution_count": 35,
   "metadata": {},
   "outputs": [
    {
     "data": {
      "application/vnd.plotly.v1+json": {
       "config": {
        "plotlyServerURL": "https://plot.ly"
       },
       "data": [
        {
         "hovertemplate": "timeline=%{x}<br>KM_estimate=%{y}<extra></extra>",
         "legendgroup": "",
         "line": {
          "color": "#636efa",
          "dash": "solid"
         },
         "mode": "lines",
         "name": "",
         "orientation": "v",
         "showlegend": false,
         "type": "scatter",
         "x": [
          0,
          1,
          2,
          3,
          5,
          7,
          9,
          10,
          13,
          14,
          17,
          20,
          21,
          26,
          28,
          32,
          33,
          37,
          40,
          43,
          44,
          45,
          48,
          50,
          51,
          52,
          56,
          57,
          59,
          62,
          66,
          67,
          68,
          69,
          78,
          79,
          80,
          82,
          87,
          88,
          91,
          93,
          97,
          98,
          104,
          105,
          106,
          112,
          114,
          115,
          116,
          118,
          119,
          121,
          124,
          135,
          141,
          142,
          143,
          144,
          150,
          152,
          154,
          158,
          162,
          167,
          172,
          173,
          183,
          186,
          190,
          193,
          198,
          200,
          205,
          206,
          209,
          211,
          215,
          223,
          224,
          228,
          229,
          231,
          236,
          238,
          239,
          242,
          243,
          246,
          248,
          249,
          250,
          251,
          252,
          253,
          256,
          257,
          259,
          260,
          261,
          269,
          271,
          273,
          277,
          280,
          283,
          284,
          289,
          291,
          297,
          306,
          311,
          312,
          316,
          331,
          334,
          337,
          338,
          340,
          341,
          344,
          346,
          347,
          354,
          361,
          366,
          367,
          370,
          377,
          386,
          387,
          388,
          391,
          392,
          399,
          402,
          403,
          406,
          410,
          414,
          417,
          421,
          424,
          428,
          432,
          439,
          442,
          443,
          448,
          450,
          452,
          459,
          470,
          478,
          479,
          481,
          485,
          486,
          490,
          494,
          495,
          499,
          507,
          512,
          535,
          543,
          545,
          549,
          563,
          570,
          572,
          579,
          582,
          583,
          590,
          593,
          596,
          604,
          614,
          615,
          621,
          625,
          630,
          631,
          633,
          642,
          646,
          652,
          654,
          655,
          659,
          660,
          661,
          663,
          670,
          671,
          673,
          675,
          678,
          692,
          693,
          697,
          701,
          715,
          719,
          723,
          725,
          730,
          731,
          734,
          750,
          753,
          757,
          759,
          762,
          772,
          773,
          776,
          777,
          790,
          793,
          806,
          834,
          835,
          840,
          852,
          863,
          864,
          868,
          875,
          879,
          887,
          888,
          890,
          899,
          900,
          903,
          907,
          909,
          915,
          920,
          929,
          932,
          934,
          939,
          943,
          945,
          946,
          951,
          953,
          961,
          963,
          965,
          968,
          992,
          995,
          1001,
          1002,
          1012,
          1013,
          1016,
          1028,
          1050,
          1051,
          1058,
          1072,
          1086,
          1092,
          1105,
          1109,
          1110,
          1114,
          1115,
          1118,
          1122,
          1124,
          1125,
          1128,
          1145,
          1149,
          1151,
          1154,
          1164,
          1165,
          1178,
          1186,
          1191,
          1196,
          1208,
          1210,
          1224,
          1229,
          1230,
          1232,
          1242,
          1252,
          1254,
          1256,
          1269,
          1274,
          1275,
          1291,
          1297,
          1299,
          1302,
          1304,
          1309,
          1313,
          1315,
          1316,
          1326,
          1331,
          1350,
          1352,
          1357,
          1365,
          1368,
          1383,
          1384,
          1386,
          1388,
          1395,
          1418,
          1427,
          1428,
          1429,
          1435,
          1449,
          1450,
          1457,
          1463,
          1470,
          1473,
          1497,
          1500,
          1508,
          1509,
          1522,
          1527,
          1541,
          1567,
          1571,
          1578,
          1586,
          1594,
          1605,
          1606,
          1610,
          1611,
          1617,
          1623,
          1624,
          1638,
          1641,
          1655,
          1668,
          1673,
          1674,
          1681,
          1698,
          1699,
          1700,
          1702,
          1707,
          1717,
          1718,
          1732,
          1734,
          1736,
          1739,
          1745,
          1746,
          1749,
          1770,
          1777,
          1778,
          1785,
          1786,
          1791,
          1795,
          1802,
          1803,
          1808,
          1815,
          1820,
          1835,
          1839,
          1861,
          1875,
          1877,
          1893,
          1900,
          1914,
          1920,
          1937,
          1939,
          1940,
          1942,
          1947,
          1959,
          1962,
          1966,
          1973,
          1975,
          1980,
          1988,
          1989,
          1995,
          2001,
          2014,
          2016,
          2025,
          2026,
          2032,
          2034,
          2035,
          2038,
          2041,
          2043,
          2048,
          2049,
          2056,
          2060,
          2083,
          2090,
          2094,
          2095,
          2096,
          2098,
          2102,
          2108,
          2109,
          2129,
          2135,
          2147,
          2171,
          2190,
          2193,
          2211,
          2221,
          2223,
          2233,
          2236,
          2252,
          2253,
          2264,
          2267,
          2268,
          2270,
          2271,
          2276,
          2291,
          2301,
          2312,
          2313,
          2330,
          2332,
          2335,
          2356,
          2367,
          2369,
          2384,
          2392,
          2405,
          2413,
          2414,
          2418,
          2421,
          2425,
          2430,
          2433,
          2434,
          2451,
          2455,
          2462,
          2463,
          2486,
          2488,
          2489,
          2497,
          2504,
          2516,
          2529,
          2531,
          2533,
          2556,
          2557,
          2567,
          2575,
          2585,
          2589,
          2598,
          2601,
          2607,
          2625,
          2630,
          2632,
          2638,
          2646,
          2650,
          2654,
          2659,
          2663,
          2670,
          2680,
          2688,
          2690,
          2696,
          2700,
          2701,
          2705,
          2712,
          2714,
          2716,
          2726,
          2740,
          2741,
          2750,
          2759,
          2761,
          2762,
          2765,
          2768,
          2783,
          2789,
          2795,
          2812,
          2815,
          2827,
          2831,
          2846,
          2867,
          2870,
          2871,
          2876,
          2889,
          2900,
          2906,
          2909,
          2918,
          2922,
          2935,
          2936,
          2948,
          2955,
          2957,
          2961,
          2993,
          2994,
          2999,
          3007,
          3019,
          3028,
          3042,
          3045,
          3060,
          3063,
          3072,
          3077,
          3078,
          3084,
          3086,
          3096,
          3102,
          3106,
          3110,
          3116,
          3124,
          3130,
          3131,
          3142,
          3145,
          3146,
          3147,
          3161,
          3172,
          3173,
          3175,
          3179,
          3186,
          3187,
          3202,
          3211,
          3215,
          3224,
          3229,
          3255,
          3260,
          3265,
          3281,
          3287,
          3289,
          3300,
          3301,
          3304,
          3319,
          3325,
          3360,
          3361,
          3372,
          3379,
          3402,
          3412,
          3420,
          3425,
          3430,
          3434
         ],
         "xaxis": "x",
         "y": [
          1,
          1,
          0.9988385598141697,
          0.9976771196283389,
          0.9976771196283389,
          0.9953488182989841,
          0.9953488182989841,
          0.9930150578809327,
          0.9930150578809327,
          0.9930150578809327,
          0.9918440495579603,
          0.9918440495579603,
          0.9906688788831283,
          0.9883185375334651,
          0.987141967845925,
          0.987141967845925,
          0.987141967845925,
          0.9859611760183575,
          0.9847803841907913,
          0.9824188005356573,
          0.9812337356375441,
          0.9800486707394311,
          0.9800486707394311,
          0.9788621711380519,
          0.9788621711380519,
          0.9776698907834379,
          0.9764776104288247,
          0.9740930497195966,
          0.9729007693649824,
          0.9705162086557543,
          0.9705162086557543,
          0.9705162086557543,
          0.9681198723380857,
          0.966921704179252,
          0.9657235360204173,
          0.9645253678615835,
          0.9645253678615835,
          0.9645253678615835,
          0.9645253678615835,
          0.9633166894557418,
          0.9621080110499001,
          0.9621080110499001,
          0.9608947600901907,
          0.9584682581707711,
          0.9572550072110607,
          0.9572550072110607,
          0.954819243833933,
          0.954819243833933,
          0.954819243833933,
          0.954819243833933,
          0.954819243833933,
          0.954819243833933,
          0.9535840313580805,
          0.9523472167908195,
          0.9523472167908195,
          0.9511055646176894,
          0.9511055646176894,
          0.9511055646176894,
          0.9498606620461999,
          0.9498606620461999,
          0.9486141257443019,
          0.9486141257443019,
          0.94736265592142,
          0.946111186098539,
          0.944859716275657,
          0.944859716275657,
          0.944859716275657,
          0.944859716275657,
          0.944859716275657,
          0.944859716275657,
          0.9435931482913739,
          0.9435931482913739,
          0.9435931482913739,
          0.9435931482913739,
          0.9435931482913739,
          0.9423162969405062,
          0.9410394455896381,
          0.9410394455896381,
          0.9410394455896381,
          0.9410394455896381,
          0.9410394455896381,
          0.9397538725765374,
          0.9384682995634372,
          0.9384682995634372,
          0.9384682995634372,
          0.9384682995634372,
          0.9384682995634372,
          0.9371720726303391,
          0.9371720726303391,
          0.9371720726303391,
          0.9358704447516858,
          0.9345688168730322,
          0.9345688168730322,
          0.9345688168730322,
          0.9332617276186642,
          0.9332617276186642,
          0.9332617276186642,
          0.9332617276186642,
          0.9332617276186642,
          0.9332617276186642,
          0.9332617276186642,
          0.9332617276186642,
          0.9332617276186642,
          0.9319303984779811,
          0.9319303984779811,
          0.9319303984779811,
          0.9319303984779811,
          0.9319303984779811,
          0.9319303984779811,
          0.9305875592870905,
          0.9292447200961996,
          0.9292447200961996,
          0.9265512571393993,
          0.9265512571393993,
          0.9265512571393993,
          0.9265512571393993,
          0.9251906826061549,
          0.9251906826061549,
          0.9251906826061549,
          0.9238260945787125,
          0.9238260945787125,
          0.9224533960726519,
          0.9210806975665916,
          0.9210806975665916,
          0.9197038953280758,
          0.9197038953280758,
          0.918325028918289,
          0.918325028918289,
          0.918325028918289,
          0.918325028918289,
          0.918325028918289,
          0.918325028918289,
          0.918325028918289,
          0.9169315159760763,
          0.9169315159760763,
          0.9169315159760763,
          0.9155316205318383,
          0.9155316205318383,
          0.9155316205318383,
          0.9155316205318383,
          0.9155316205318383,
          0.9155316205318383,
          0.9141209400687687,
          0.9141209400687687,
          0.9141209400687687,
          0.9141209400687687,
          0.9126992900842141,
          0.9126992900842141,
          0.9126992900842141,
          0.9126992900842141,
          0.9112664811515861,
          0.9112664811515861,
          0.9112664811515861,
          0.9098268816552967,
          0.9083872821590061,
          0.9083872821590061,
          0.9069453975841508,
          0.9069453975841508,
          0.9069453975841508,
          0.9054989136964564,
          0.9054989136964564,
          0.9040477936424554,
          0.9040477936424554,
          0.9040477936424554,
          0.9040477936424554,
          0.9040477936424554,
          0.9040477936424554,
          0.9040477936424554,
          0.9040477936424554,
          0.9040477936424554,
          0.9025633145067536,
          0.9025633145067536,
          0.9025633145067536,
          0.9025633145067536,
          0.9010690043833982,
          0.9010690043833982,
          0.9010690043833982,
          0.9010690043833982,
          0.9010690043833982,
          0.899564715561389,
          0.8980604267393805,
          0.8965561379173714,
          0.8965561379173714,
          0.8965561379173714,
          0.8965561379173714,
          0.8965561379173714,
          0.8965561379173714,
          0.8965561379173714,
          0.8950339712995152,
          0.8950339712995152,
          0.8950339712995152,
          0.8950339712995152,
          0.8950339712995152,
          0.8950339712995152,
          0.8950339712995152,
          0.8950339712995152,
          0.8950339712995152,
          0.8950339712995152,
          0.8950339712995152,
          0.8950339712995152,
          0.8950339712995152,
          0.8950339712995152,
          0.8934637362621473,
          0.8934637362621473,
          0.8934637362621473,
          0.8934637362621473,
          0.8934637362621473,
          0.8934637362621473,
          0.8918795807013986,
          0.8918795807013986,
          0.8918795807013986,
          0.8918795807013986,
          0.8918795807013986,
          0.8918795807013986,
          0.8918795807013986,
          0.8918795807013986,
          0.8918795807013986,
          0.89025798146376,
          0.8886363822261215,
          0.8886363822261215,
          0.8870028594646765,
          0.8853693367032319,
          0.8837358139417862,
          0.8837358139417862,
          0.8837358139417862,
          0.882096229871393,
          0.8804566458010002,
          0.8804566458010002,
          0.8788109324443633,
          0.8788109324443633,
          0.8771527986095626,
          0.8771527986095626,
          0.8771527986095626,
          0.8771527986095626,
          0.8771527986095626,
          0.8771527986095626,
          0.8771527986095626,
          0.8771527986095626,
          0.8771527986095626,
          0.8771527986095626,
          0.8771527986095626,
          0.8771527986095626,
          0.8754429490996025,
          0.8754429490996025,
          0.8754429490996025,
          0.8737263942974465,
          0.8720098394952907,
          0.8685767298909786,
          0.8668601750888226,
          0.8668601750888226,
          0.8668601750888226,
          0.8668601750888226,
          0.8668601750888226,
          0.8668601750888226,
          0.8668601750888226,
          0.8668601750888226,
          0.8668601750888226,
          0.8651053974064561,
          0.8651053974064561,
          0.8651053974064561,
          0.8633434719534897,
          0.861581546500524,
          0.861581546500524,
          0.861581546500524,
          0.861581546500524,
          0.861581546500524,
          0.861581546500524,
          0.861581546500524,
          0.861581546500524,
          0.859782837635179,
          0.859782837635179,
          0.859782837635179,
          0.859782837635179,
          0.859782837635179,
          0.859782837635179,
          0.859782837635179,
          0.859782837635179,
          0.859782837635179,
          0.859782837635179,
          0.859782837635179,
          0.859782837635179,
          0.859782837635179,
          0.859782837635179,
          0.8579014747519511,
          0.8579014747519511,
          0.8579014747519511,
          0.8560118239265062,
          0.8541221731010614,
          0.8522325222756165,
          0.8522325222756165,
          0.8503259618230982,
          0.8503259618230982,
          0.8503259618230982,
          0.8503259618230982,
          0.8503259618230982,
          0.8503259618230982,
          0.8503259618230982,
          0.8503259618230982,
          0.8503259618230982,
          0.8503259618230982,
          0.8503259618230982,
          0.8483484595863006,
          0.8483484595863006,
          0.8483484595863006,
          0.8483484595863006,
          0.8483484595863006,
          0.8483484595863006,
          0.8483484595863006,
          0.8483484595863006,
          0.8483484595863006,
          0.8483484595863006,
          0.846304246430671,
          0.844260033275042,
          0.844260033275042,
          0.844260033275042,
          0.8422008624621761,
          0.8422008624621761,
          0.8422008624621761,
          0.8422008624621761,
          0.8401058354411259,
          0.8401058354411259,
          0.8380055708525236,
          0.8380055708525236,
          0.835900029217216,
          0.835900029217216,
          0.835900029217216,
          0.835900029217216,
          0.835900029217216,
          0.835900029217216,
          0.835900029217216,
          0.835900029217216,
          0.835900029217216,
          0.835900029217216,
          0.8337175226135161,
          0.8337175226135161,
          0.8337175226135161,
          0.8337175226135161,
          0.8315060702988913,
          0.8315060702988913,
          0.8315060702988913,
          0.8315060702988913,
          0.8315060702988913,
          0.8315060702988913,
          0.8315060702988913,
          0.8315060702988913,
          0.8315060702988913,
          0.8315060702988913,
          0.8315060702988913,
          0.8315060702988913,
          0.8315060702988913,
          0.8315060702988913,
          0.8315060702988913,
          0.8315060702988913,
          0.8315060702988913,
          0.8315060702988913,
          0.8315060702988913,
          0.8315060702988913,
          0.8315060702988913,
          0.8315060702988913,
          0.8315060702988913,
          0.8315060702988913,
          0.8315060702988913,
          0.8315060702988913,
          0.8315060702988913,
          0.8315060702988913,
          0.8315060702988913,
          0.8315060702988913,
          0.8315060702988913,
          0.8289786962250348,
          0.8289786962250348,
          0.8289786962250348,
          0.8289786962250348,
          0.8289786962250348,
          0.8289786962250348,
          0.8289786962250348,
          0.8263302019878945,
          0.8263302019878945,
          0.8263302019878945,
          0.8263302019878945,
          0.8263302019878945,
          0.8263302019878945,
          0.8263302019878945,
          0.8263302019878945,
          0.8263302019878945,
          0.8263302019878945,
          0.8235290826591215,
          0.8207279633303495,
          0.8207279633303495,
          0.8207279633303495,
          0.8207279633303495,
          0.8178880741838777,
          0.8178880741838777,
          0.8178880741838777,
          0.8178880741838777,
          0.8178880741838777,
          0.8178880741838777,
          0.8178880741838777,
          0.8149670453475067,
          0.8149670453475067,
          0.8149670453475067,
          0.8149670453475067,
          0.8149670453475067,
          0.8149670453475067,
          0.8149670453475067,
          0.8149670453475067,
          0.8149670453475067,
          0.8149670453475067,
          0.8149670453475067,
          0.8149670453475067,
          0.8149670453475067,
          0.8149670453475067,
          0.8149670453475067,
          0.8149670453475067,
          0.8149670453475067,
          0.8149670453475067,
          0.8117585136729104,
          0.8117585136729104,
          0.8117585136729104,
          0.8117585136729104,
          0.8117585136729104,
          0.8117585136729104,
          0.8117585136729104,
          0.8084041396494681,
          0.8084041396494681,
          0.8084041396494681,
          0.8084041396494681,
          0.8084041396494681,
          0.8084041396494681,
          0.8084041396494681,
          0.8084041396494681,
          0.8084041396494681,
          0.8048428879329507,
          0.8048428879329507,
          0.8048428879329507,
          0.8048428879329507,
          0.8048428879329507,
          0.8012010649106303,
          0.8012010649106303,
          0.8012010649106303,
          0.8012010649106303,
          0.8012010649106303,
          0.8012010649106303,
          0.8012010649106303,
          0.8012010649106303,
          0.8012010649106303,
          0.8012010649106303,
          0.8012010649106303,
          0.8012010649106303,
          0.8012010649106303,
          0.8012010649106303,
          0.8012010649106303,
          0.7971950595860774,
          0.7931890542615243,
          0.7891421713316188,
          0.7891421713316188,
          0.7850744281804249,
          0.7850744281804249,
          0.7850744281804249,
          0.7850744281804249,
          0.7850744281804249,
          0.7850744281804249,
          0.7807844039827172,
          0.7807844039827172,
          0.7807844039827172,
          0.7807844039827172,
          0.7807844039827172,
          0.7763481289600888,
          0.7763481289600888,
          0.7718863581039965,
          0.7718863581039965,
          0.7718863581039965,
          0.7718863581039965,
          0.7718863581039965,
          0.7718863581039965,
          0.7718863581039965,
          0.7718863581039965,
          0.7718863581039965,
          0.7718863581039965,
          0.7718863581039965,
          0.7669383686289709,
          0.7669383686289709,
          0.7669383686289709,
          0.7669383686289709,
          0.7669383686289709,
          0.7669383686289709,
          0.7669383686289709,
          0.7669383686289709,
          0.7616853661041149,
          0.7564323635792591,
          0.7564323635792591,
          0.7564323635792591,
          0.7564323635792591,
          0.7564323635792591,
          0.7564323635792591,
          0.7564323635792591,
          0.7564323635792591,
          0.7564323635792591,
          0.7564323635792591,
          0.7564323635792591,
          0.7564323635792591,
          0.7506580707275092,
          0.7506580707275092,
          0.7506580707275092,
          0.7506580707275092,
          0.7506580707275092,
          0.7506580707275092,
          0.7506580707275092,
          0.7506580707275092,
          0.7506580707275092,
          0.7506580707275092,
          0.7506580707275092,
          0.7506580707275092,
          0.7506580707275092,
          0.7506580707275092,
          0.7506580707275092,
          0.7506580707275092,
          0.7506580707275092,
          0.7506580707275092,
          0.7506580707275092,
          0.7506580707275092,
          0.7506580707275092,
          0.7506580707275092,
          0.7506580707275092,
          0.7506580707275092,
          0.7506580707275092,
          0.7506580707275092,
          0.7429193277303183,
          0.7429193277303183,
          0.7429193277303183,
          0.7429193277303183,
          0.7429193277303183,
          0.7429193277303183,
          0.7429193277303183,
          0.7429193277303183,
          0.7429193277303183,
          0.7429193277303183,
          0.7429193277303183,
          0.7429193277303183,
          0.7429193277303183,
          0.7429193277303183,
          0.7429193277303183,
          0.7429193277303183,
          0.7429193277303183,
          0.7429193277303183,
          0.7429193277303183,
          0.7429193277303183,
          0.7429193277303183,
          0.7429193277303183,
          0.7429193277303183,
          0.7429193277303183,
          0.7429193277303183,
          0.7429193277303183,
          0.7429193277303183,
          0.7429193277303183,
          0.7429193277303183,
          0.7429193277303183,
          0.7429193277303183,
          0.7429193277303183,
          0.7429193277303183,
          0.7429193277303183,
          0.7429193277303183,
          0.7429193277303183,
          0.7429193277303183,
          0.7429193277303183,
          0.7429193277303183,
          0.7429193277303183,
          0.7429193277303183,
          0.7429193277303183,
          0.7429193277303183,
          0.7429193277303183,
          0.7429193277303183,
          0.7429193277303183,
          0.7429193277303183,
          0.7238701141987717,
          0.7238701141987717,
          0.7238701141987717,
          0.7238701141987717,
          0.7238701141987717,
          0.7238701141987717,
          0.7238701141987717,
          0.7238701141987717,
          0.7238701141987717,
          0.7238701141987717,
          0.7238701141987717,
          0.7238701141987717,
          0.7238701141987717,
          0.7238701141987717,
          0.7238701141987717,
          0.7238701141987717,
          0.7238701141987717,
          0.7238701141987717,
          0.7238701141987717,
          0.7238701141987717,
          0.7238701141987717,
          0.7238701141987717,
          0.7238701141987717,
          0.7238701141987717,
          0.7238701141987717,
          0.7238701141987717,
          0.7238701141987717,
          0.7238701141987717,
          0.7238701141987717,
          0.7238701141987717,
          0.7238701141987717,
          0.7238701141987717,
          0.7238701141987717,
          0.7238701141987717,
          0.7238701141987717
         ],
         "yaxis": "y"
        }
       ],
       "layout": {
        "legend": {
         "tracegroupgap": 0
        },
        "template": {
         "data": {
          "bar": [
           {
            "error_x": {
             "color": "#2a3f5f"
            },
            "error_y": {
             "color": "#2a3f5f"
            },
            "marker": {
             "line": {
              "color": "#E5ECF6",
              "width": 0.5
             }
            },
            "type": "bar"
           }
          ],
          "barpolar": [
           {
            "marker": {
             "line": {
              "color": "#E5ECF6",
              "width": 0.5
             }
            },
            "type": "barpolar"
           }
          ],
          "carpet": [
           {
            "aaxis": {
             "endlinecolor": "#2a3f5f",
             "gridcolor": "white",
             "linecolor": "white",
             "minorgridcolor": "white",
             "startlinecolor": "#2a3f5f"
            },
            "baxis": {
             "endlinecolor": "#2a3f5f",
             "gridcolor": "white",
             "linecolor": "white",
             "minorgridcolor": "white",
             "startlinecolor": "#2a3f5f"
            },
            "type": "carpet"
           }
          ],
          "choropleth": [
           {
            "colorbar": {
             "outlinewidth": 0,
             "ticks": ""
            },
            "type": "choropleth"
           }
          ],
          "contour": [
           {
            "colorbar": {
             "outlinewidth": 0,
             "ticks": ""
            },
            "colorscale": [
             [
              0,
              "#0d0887"
             ],
             [
              0.1111111111111111,
              "#46039f"
             ],
             [
              0.2222222222222222,
              "#7201a8"
             ],
             [
              0.3333333333333333,
              "#9c179e"
             ],
             [
              0.4444444444444444,
              "#bd3786"
             ],
             [
              0.5555555555555556,
              "#d8576b"
             ],
             [
              0.6666666666666666,
              "#ed7953"
             ],
             [
              0.7777777777777778,
              "#fb9f3a"
             ],
             [
              0.8888888888888888,
              "#fdca26"
             ],
             [
              1,
              "#f0f921"
             ]
            ],
            "type": "contour"
           }
          ],
          "contourcarpet": [
           {
            "colorbar": {
             "outlinewidth": 0,
             "ticks": ""
            },
            "type": "contourcarpet"
           }
          ],
          "heatmap": [
           {
            "colorbar": {
             "outlinewidth": 0,
             "ticks": ""
            },
            "colorscale": [
             [
              0,
              "#0d0887"
             ],
             [
              0.1111111111111111,
              "#46039f"
             ],
             [
              0.2222222222222222,
              "#7201a8"
             ],
             [
              0.3333333333333333,
              "#9c179e"
             ],
             [
              0.4444444444444444,
              "#bd3786"
             ],
             [
              0.5555555555555556,
              "#d8576b"
             ],
             [
              0.6666666666666666,
              "#ed7953"
             ],
             [
              0.7777777777777778,
              "#fb9f3a"
             ],
             [
              0.8888888888888888,
              "#fdca26"
             ],
             [
              1,
              "#f0f921"
             ]
            ],
            "type": "heatmap"
           }
          ],
          "heatmapgl": [
           {
            "colorbar": {
             "outlinewidth": 0,
             "ticks": ""
            },
            "colorscale": [
             [
              0,
              "#0d0887"
             ],
             [
              0.1111111111111111,
              "#46039f"
             ],
             [
              0.2222222222222222,
              "#7201a8"
             ],
             [
              0.3333333333333333,
              "#9c179e"
             ],
             [
              0.4444444444444444,
              "#bd3786"
             ],
             [
              0.5555555555555556,
              "#d8576b"
             ],
             [
              0.6666666666666666,
              "#ed7953"
             ],
             [
              0.7777777777777778,
              "#fb9f3a"
             ],
             [
              0.8888888888888888,
              "#fdca26"
             ],
             [
              1,
              "#f0f921"
             ]
            ],
            "type": "heatmapgl"
           }
          ],
          "histogram": [
           {
            "marker": {
             "colorbar": {
              "outlinewidth": 0,
              "ticks": ""
             }
            },
            "type": "histogram"
           }
          ],
          "histogram2d": [
           {
            "colorbar": {
             "outlinewidth": 0,
             "ticks": ""
            },
            "colorscale": [
             [
              0,
              "#0d0887"
             ],
             [
              0.1111111111111111,
              "#46039f"
             ],
             [
              0.2222222222222222,
              "#7201a8"
             ],
             [
              0.3333333333333333,
              "#9c179e"
             ],
             [
              0.4444444444444444,
              "#bd3786"
             ],
             [
              0.5555555555555556,
              "#d8576b"
             ],
             [
              0.6666666666666666,
              "#ed7953"
             ],
             [
              0.7777777777777778,
              "#fb9f3a"
             ],
             [
              0.8888888888888888,
              "#fdca26"
             ],
             [
              1,
              "#f0f921"
             ]
            ],
            "type": "histogram2d"
           }
          ],
          "histogram2dcontour": [
           {
            "colorbar": {
             "outlinewidth": 0,
             "ticks": ""
            },
            "colorscale": [
             [
              0,
              "#0d0887"
             ],
             [
              0.1111111111111111,
              "#46039f"
             ],
             [
              0.2222222222222222,
              "#7201a8"
             ],
             [
              0.3333333333333333,
              "#9c179e"
             ],
             [
              0.4444444444444444,
              "#bd3786"
             ],
             [
              0.5555555555555556,
              "#d8576b"
             ],
             [
              0.6666666666666666,
              "#ed7953"
             ],
             [
              0.7777777777777778,
              "#fb9f3a"
             ],
             [
              0.8888888888888888,
              "#fdca26"
             ],
             [
              1,
              "#f0f921"
             ]
            ],
            "type": "histogram2dcontour"
           }
          ],
          "mesh3d": [
           {
            "colorbar": {
             "outlinewidth": 0,
             "ticks": ""
            },
            "type": "mesh3d"
           }
          ],
          "parcoords": [
           {
            "line": {
             "colorbar": {
              "outlinewidth": 0,
              "ticks": ""
             }
            },
            "type": "parcoords"
           }
          ],
          "pie": [
           {
            "automargin": true,
            "type": "pie"
           }
          ],
          "scatter": [
           {
            "marker": {
             "colorbar": {
              "outlinewidth": 0,
              "ticks": ""
             }
            },
            "type": "scatter"
           }
          ],
          "scatter3d": [
           {
            "line": {
             "colorbar": {
              "outlinewidth": 0,
              "ticks": ""
             }
            },
            "marker": {
             "colorbar": {
              "outlinewidth": 0,
              "ticks": ""
             }
            },
            "type": "scatter3d"
           }
          ],
          "scattercarpet": [
           {
            "marker": {
             "colorbar": {
              "outlinewidth": 0,
              "ticks": ""
             }
            },
            "type": "scattercarpet"
           }
          ],
          "scattergeo": [
           {
            "marker": {
             "colorbar": {
              "outlinewidth": 0,
              "ticks": ""
             }
            },
            "type": "scattergeo"
           }
          ],
          "scattergl": [
           {
            "marker": {
             "colorbar": {
              "outlinewidth": 0,
              "ticks": ""
             }
            },
            "type": "scattergl"
           }
          ],
          "scattermapbox": [
           {
            "marker": {
             "colorbar": {
              "outlinewidth": 0,
              "ticks": ""
             }
            },
            "type": "scattermapbox"
           }
          ],
          "scatterpolar": [
           {
            "marker": {
             "colorbar": {
              "outlinewidth": 0,
              "ticks": ""
             }
            },
            "type": "scatterpolar"
           }
          ],
          "scatterpolargl": [
           {
            "marker": {
             "colorbar": {
              "outlinewidth": 0,
              "ticks": ""
             }
            },
            "type": "scatterpolargl"
           }
          ],
          "scatterternary": [
           {
            "marker": {
             "colorbar": {
              "outlinewidth": 0,
              "ticks": ""
             }
            },
            "type": "scatterternary"
           }
          ],
          "surface": [
           {
            "colorbar": {
             "outlinewidth": 0,
             "ticks": ""
            },
            "colorscale": [
             [
              0,
              "#0d0887"
             ],
             [
              0.1111111111111111,
              "#46039f"
             ],
             [
              0.2222222222222222,
              "#7201a8"
             ],
             [
              0.3333333333333333,
              "#9c179e"
             ],
             [
              0.4444444444444444,
              "#bd3786"
             ],
             [
              0.5555555555555556,
              "#d8576b"
             ],
             [
              0.6666666666666666,
              "#ed7953"
             ],
             [
              0.7777777777777778,
              "#fb9f3a"
             ],
             [
              0.8888888888888888,
              "#fdca26"
             ],
             [
              1,
              "#f0f921"
             ]
            ],
            "type": "surface"
           }
          ],
          "table": [
           {
            "cells": {
             "fill": {
              "color": "#EBF0F8"
             },
             "line": {
              "color": "white"
             }
            },
            "header": {
             "fill": {
              "color": "#C8D4E3"
             },
             "line": {
              "color": "white"
             }
            },
            "type": "table"
           }
          ]
         },
         "layout": {
          "annotationdefaults": {
           "arrowcolor": "#2a3f5f",
           "arrowhead": 0,
           "arrowwidth": 1
          },
          "autotypenumbers": "strict",
          "coloraxis": {
           "colorbar": {
            "outlinewidth": 0,
            "ticks": ""
           }
          },
          "colorscale": {
           "diverging": [
            [
             0,
             "#8e0152"
            ],
            [
             0.1,
             "#c51b7d"
            ],
            [
             0.2,
             "#de77ae"
            ],
            [
             0.3,
             "#f1b6da"
            ],
            [
             0.4,
             "#fde0ef"
            ],
            [
             0.5,
             "#f7f7f7"
            ],
            [
             0.6,
             "#e6f5d0"
            ],
            [
             0.7,
             "#b8e186"
            ],
            [
             0.8,
             "#7fbc41"
            ],
            [
             0.9,
             "#4d9221"
            ],
            [
             1,
             "#276419"
            ]
           ],
           "sequential": [
            [
             0,
             "#0d0887"
            ],
            [
             0.1111111111111111,
             "#46039f"
            ],
            [
             0.2222222222222222,
             "#7201a8"
            ],
            [
             0.3333333333333333,
             "#9c179e"
            ],
            [
             0.4444444444444444,
             "#bd3786"
            ],
            [
             0.5555555555555556,
             "#d8576b"
            ],
            [
             0.6666666666666666,
             "#ed7953"
            ],
            [
             0.7777777777777778,
             "#fb9f3a"
            ],
            [
             0.8888888888888888,
             "#fdca26"
            ],
            [
             1,
             "#f0f921"
            ]
           ],
           "sequentialminus": [
            [
             0,
             "#0d0887"
            ],
            [
             0.1111111111111111,
             "#46039f"
            ],
            [
             0.2222222222222222,
             "#7201a8"
            ],
            [
             0.3333333333333333,
             "#9c179e"
            ],
            [
             0.4444444444444444,
             "#bd3786"
            ],
            [
             0.5555555555555556,
             "#d8576b"
            ],
            [
             0.6666666666666666,
             "#ed7953"
            ],
            [
             0.7777777777777778,
             "#fb9f3a"
            ],
            [
             0.8888888888888888,
             "#fdca26"
            ],
            [
             1,
             "#f0f921"
            ]
           ]
          },
          "colorway": [
           "#636efa",
           "#EF553B",
           "#00cc96",
           "#ab63fa",
           "#FFA15A",
           "#19d3f3",
           "#FF6692",
           "#B6E880",
           "#FF97FF",
           "#FECB52"
          ],
          "font": {
           "color": "#2a3f5f"
          },
          "geo": {
           "bgcolor": "white",
           "lakecolor": "white",
           "landcolor": "#E5ECF6",
           "showlakes": true,
           "showland": true,
           "subunitcolor": "white"
          },
          "hoverlabel": {
           "align": "left"
          },
          "hovermode": "closest",
          "mapbox": {
           "style": "light"
          },
          "paper_bgcolor": "white",
          "plot_bgcolor": "#E5ECF6",
          "polar": {
           "angularaxis": {
            "gridcolor": "white",
            "linecolor": "white",
            "ticks": ""
           },
           "bgcolor": "#E5ECF6",
           "radialaxis": {
            "gridcolor": "white",
            "linecolor": "white",
            "ticks": ""
           }
          },
          "scene": {
           "xaxis": {
            "backgroundcolor": "#E5ECF6",
            "gridcolor": "white",
            "gridwidth": 2,
            "linecolor": "white",
            "showbackground": true,
            "ticks": "",
            "zerolinecolor": "white"
           },
           "yaxis": {
            "backgroundcolor": "#E5ECF6",
            "gridcolor": "white",
            "gridwidth": 2,
            "linecolor": "white",
            "showbackground": true,
            "ticks": "",
            "zerolinecolor": "white"
           },
           "zaxis": {
            "backgroundcolor": "#E5ECF6",
            "gridcolor": "white",
            "gridwidth": 2,
            "linecolor": "white",
            "showbackground": true,
            "ticks": "",
            "zerolinecolor": "white"
           }
          },
          "shapedefaults": {
           "line": {
            "color": "#2a3f5f"
           }
          },
          "ternary": {
           "aaxis": {
            "gridcolor": "white",
            "linecolor": "white",
            "ticks": ""
           },
           "baxis": {
            "gridcolor": "white",
            "linecolor": "white",
            "ticks": ""
           },
           "bgcolor": "#E5ECF6",
           "caxis": {
            "gridcolor": "white",
            "linecolor": "white",
            "ticks": ""
           }
          },
          "title": {
           "x": 0.05
          },
          "xaxis": {
           "automargin": true,
           "gridcolor": "white",
           "linecolor": "white",
           "ticks": "",
           "title": {
            "standoff": 15
           },
           "zerolinecolor": "white",
           "zerolinewidth": 2
          },
          "yaxis": {
           "automargin": true,
           "gridcolor": "white",
           "linecolor": "white",
           "ticks": "",
           "title": {
            "standoff": 15
           },
           "zerolinecolor": "white",
           "zerolinewidth": 2
          }
         }
        },
        "title": {
         "text": "Kaplan Meier Survival Function (lifelines)"
        },
        "xaxis": {
         "anchor": "y",
         "domain": [
          0,
          1
         ],
         "title": {
          "text": "timeline"
         }
        },
        "yaxis": {
         "anchor": "x",
         "domain": [
          0,
          1
         ],
         "title": {
          "text": "KM_estimate"
         }
        }
       }
      }
     },
     "metadata": {},
     "output_type": "display_data"
    }
   ],
   "source": [
    "kmf = KaplanMeierFitter()\n",
    "kmf.fit(df.time, df.death)\n",
    "est = kmf.survival_function_\n",
    "est = est.reset_index()\n",
    "fig2 = px.line(est, x='timeline',  y='KM_estimate', title='Kaplan Meier Survival Function (lifelines)')\n",
    "fig2"
   ]
  },
  {
   "cell_type": "markdown",
   "metadata": {},
   "source": [
    "## Confidence Intervals (Greenwood's Formula)"
   ]
  },
  {
   "cell_type": "code",
   "execution_count": 44,
   "metadata": {},
   "outputs": [
    {
     "data": {
      "application/vnd.plotly.v1+json": {
       "config": {
        "plotlyServerURL": "https://plot.ly"
       },
       "data": [
        {
         "line": {
          "color": "rgb(31, 119, 180)",
          "shape": "hv",
          "width": 3
         },
         "showlegend": false,
         "type": "scatter",
         "x": [
          0,
          1,
          2,
          3,
          5,
          7,
          9,
          10,
          13,
          14,
          17,
          20,
          21,
          26,
          28,
          32,
          33,
          37,
          40,
          43,
          44,
          45,
          48,
          50,
          51,
          52,
          56,
          57,
          59,
          62,
          66,
          67,
          68,
          69,
          78,
          79,
          80,
          82,
          87,
          88,
          91,
          93,
          97,
          98,
          104,
          105,
          106,
          112,
          114,
          115,
          116,
          118,
          119,
          121,
          124,
          135,
          141,
          142,
          143,
          144,
          150,
          152,
          154,
          158,
          162,
          167,
          172,
          173,
          183,
          186,
          190,
          193,
          198,
          200,
          205,
          206,
          209,
          211,
          215,
          223,
          224,
          228,
          229,
          231,
          236,
          238,
          239,
          242,
          243,
          246,
          248,
          249,
          250,
          251,
          252,
          253,
          256,
          257,
          259,
          260,
          261,
          269,
          271,
          273,
          277,
          280,
          283,
          284,
          289,
          291,
          297,
          306,
          311,
          312,
          316,
          331,
          334,
          337,
          338,
          340,
          341,
          344,
          346,
          347,
          354,
          361,
          366,
          367,
          370,
          377,
          386,
          387,
          388,
          391,
          392,
          399,
          402,
          403,
          406,
          410,
          414,
          417,
          421,
          424,
          428,
          432,
          439,
          442,
          443,
          448,
          450,
          452,
          459,
          470,
          478,
          479,
          481,
          485,
          486,
          490,
          494,
          495,
          499,
          507,
          512,
          535,
          543,
          545,
          549,
          563,
          570,
          572,
          579,
          582,
          583,
          590,
          593,
          596,
          604,
          614,
          615,
          621,
          625,
          630,
          631,
          633,
          642,
          646,
          652,
          654,
          655,
          659,
          660,
          661,
          663,
          670,
          671,
          673,
          675,
          678,
          692,
          693,
          697,
          701,
          715,
          719,
          723,
          725,
          730,
          731,
          734,
          750,
          753,
          757,
          759,
          762,
          772,
          773,
          776,
          777,
          790,
          793,
          806,
          834,
          835,
          840,
          852,
          863,
          864,
          868,
          875,
          879,
          887,
          888,
          890,
          899,
          900,
          903,
          907,
          909,
          915,
          920,
          929,
          932,
          934,
          939,
          943,
          945,
          946,
          951,
          953,
          961,
          963,
          965,
          968,
          992,
          995,
          1001,
          1002,
          1012,
          1013,
          1016,
          1028,
          1050,
          1051,
          1058,
          1072,
          1086,
          1092,
          1105,
          1109,
          1110,
          1114,
          1115,
          1118,
          1122,
          1124,
          1125,
          1128,
          1145,
          1149,
          1151,
          1154,
          1164,
          1165,
          1178,
          1186,
          1191,
          1196,
          1208,
          1210,
          1224,
          1229,
          1230,
          1232,
          1242,
          1252,
          1254,
          1256,
          1269,
          1274,
          1275,
          1291,
          1297,
          1299,
          1302,
          1304,
          1309,
          1313,
          1315,
          1316,
          1326,
          1331,
          1350,
          1352,
          1357,
          1365,
          1368,
          1383,
          1384,
          1386,
          1388,
          1395,
          1418,
          1427,
          1428,
          1429,
          1435,
          1449,
          1450,
          1457,
          1463,
          1470,
          1473,
          1497,
          1500,
          1508,
          1509,
          1522,
          1527,
          1541,
          1567,
          1571,
          1578,
          1586,
          1594,
          1605,
          1606,
          1610,
          1611,
          1617,
          1623,
          1624,
          1638,
          1641,
          1655,
          1668,
          1673,
          1674,
          1681,
          1698,
          1699,
          1700,
          1702,
          1707,
          1717,
          1718,
          1732,
          1734,
          1736,
          1739,
          1745,
          1746,
          1749,
          1770,
          1777,
          1778,
          1785,
          1786,
          1791,
          1795,
          1802,
          1803,
          1808,
          1815,
          1820,
          1835,
          1839,
          1861,
          1875,
          1877,
          1893,
          1900,
          1914,
          1920,
          1937,
          1939,
          1940,
          1942,
          1947,
          1959,
          1962,
          1966,
          1973,
          1975,
          1980,
          1988,
          1989,
          1995,
          2001,
          2014,
          2016,
          2025,
          2026,
          2032,
          2034,
          2035,
          2038,
          2041,
          2043,
          2048,
          2049,
          2056,
          2060,
          2083,
          2090,
          2094,
          2095,
          2096,
          2098,
          2102,
          2108,
          2109,
          2129,
          2135,
          2147,
          2171,
          2190,
          2193,
          2211,
          2221,
          2223,
          2233,
          2236,
          2252,
          2253,
          2264,
          2267,
          2268,
          2270,
          2271,
          2276,
          2291,
          2301,
          2312,
          2313,
          2330,
          2332,
          2335,
          2356,
          2367,
          2369,
          2384,
          2392,
          2405,
          2413,
          2414,
          2418,
          2421,
          2425,
          2430,
          2433,
          2434,
          2451,
          2455,
          2462,
          2463,
          2486,
          2488,
          2489,
          2497,
          2504,
          2516,
          2529,
          2531,
          2533,
          2556,
          2557,
          2567,
          2575,
          2585,
          2589,
          2598,
          2601,
          2607,
          2625,
          2630,
          2632,
          2638,
          2646,
          2650,
          2654,
          2659,
          2663,
          2670,
          2680,
          2688,
          2690,
          2696,
          2700,
          2701,
          2705,
          2712,
          2714,
          2716,
          2726,
          2740,
          2741,
          2750,
          2759,
          2761,
          2762,
          2765,
          2768,
          2783,
          2789,
          2795,
          2812,
          2815,
          2827,
          2831,
          2846,
          2867,
          2870,
          2871,
          2876,
          2889,
          2900,
          2906,
          2909,
          2918,
          2922,
          2935,
          2936,
          2948,
          2955,
          2957,
          2961,
          2993,
          2994,
          2999,
          3007,
          3019,
          3028,
          3042,
          3045,
          3060,
          3063,
          3072,
          3077,
          3078,
          3084,
          3086,
          3096,
          3102,
          3106,
          3110,
          3116,
          3124,
          3130,
          3131,
          3142,
          3145,
          3146,
          3147,
          3161,
          3172,
          3173,
          3175,
          3179,
          3186,
          3187,
          3202,
          3211,
          3215,
          3224,
          3229,
          3255,
          3260,
          3265,
          3281,
          3287,
          3289,
          3300,
          3301,
          3304,
          3319,
          3325,
          3360,
          3361,
          3372,
          3379,
          3402,
          3412,
          3420,
          3425,
          3430,
          3434
         ],
         "y": [
          1,
          1,
          0.9988385598141697,
          0.9976771196283389,
          0.9976771196283389,
          0.9953488182989841,
          0.9953488182989841,
          0.9930150578809327,
          0.9930150578809327,
          0.9930150578809327,
          0.9918440495579603,
          0.9918440495579603,
          0.9906688788831283,
          0.9883185375334651,
          0.987141967845925,
          0.987141967845925,
          0.987141967845925,
          0.9859611760183575,
          0.9847803841907913,
          0.9824188005356573,
          0.9812337356375441,
          0.9800486707394311,
          0.9800486707394311,
          0.9788621711380519,
          0.9788621711380519,
          0.9776698907834379,
          0.9764776104288247,
          0.9740930497195966,
          0.9729007693649824,
          0.9705162086557543,
          0.9705162086557543,
          0.9705162086557543,
          0.9681198723380857,
          0.966921704179252,
          0.9657235360204173,
          0.9645253678615835,
          0.9645253678615835,
          0.9645253678615835,
          0.9645253678615835,
          0.9633166894557418,
          0.9621080110499001,
          0.9621080110499001,
          0.9608947600901907,
          0.9584682581707711,
          0.9572550072110607,
          0.9572550072110607,
          0.954819243833933,
          0.954819243833933,
          0.954819243833933,
          0.954819243833933,
          0.954819243833933,
          0.954819243833933,
          0.9535840313580805,
          0.9523472167908195,
          0.9523472167908195,
          0.9511055646176894,
          0.9511055646176894,
          0.9511055646176894,
          0.9498606620461999,
          0.9498606620461999,
          0.9486141257443019,
          0.9486141257443019,
          0.94736265592142,
          0.946111186098539,
          0.944859716275657,
          0.944859716275657,
          0.944859716275657,
          0.944859716275657,
          0.944859716275657,
          0.944859716275657,
          0.9435931482913739,
          0.9435931482913739,
          0.9435931482913739,
          0.9435931482913739,
          0.9435931482913739,
          0.9423162969405062,
          0.9410394455896381,
          0.9410394455896381,
          0.9410394455896381,
          0.9410394455896381,
          0.9410394455896381,
          0.9397538725765374,
          0.9384682995634372,
          0.9384682995634372,
          0.9384682995634372,
          0.9384682995634372,
          0.9384682995634372,
          0.9371720726303391,
          0.9371720726303391,
          0.9371720726303391,
          0.9358704447516858,
          0.9345688168730322,
          0.9345688168730322,
          0.9345688168730322,
          0.9332617276186642,
          0.9332617276186642,
          0.9332617276186642,
          0.9332617276186642,
          0.9332617276186642,
          0.9332617276186642,
          0.9332617276186642,
          0.9332617276186642,
          0.9332617276186642,
          0.9319303984779811,
          0.9319303984779811,
          0.9319303984779811,
          0.9319303984779811,
          0.9319303984779811,
          0.9319303984779811,
          0.9305875592870905,
          0.9292447200961996,
          0.9292447200961996,
          0.9265512571393993,
          0.9265512571393993,
          0.9265512571393993,
          0.9265512571393993,
          0.9251906826061549,
          0.9251906826061549,
          0.9251906826061549,
          0.9238260945787125,
          0.9238260945787125,
          0.9224533960726519,
          0.9210806975665916,
          0.9210806975665916,
          0.9197038953280758,
          0.9197038953280758,
          0.918325028918289,
          0.918325028918289,
          0.918325028918289,
          0.918325028918289,
          0.918325028918289,
          0.918325028918289,
          0.918325028918289,
          0.9169315159760763,
          0.9169315159760763,
          0.9169315159760763,
          0.9155316205318383,
          0.9155316205318383,
          0.9155316205318383,
          0.9155316205318383,
          0.9155316205318383,
          0.9155316205318383,
          0.9141209400687687,
          0.9141209400687687,
          0.9141209400687687,
          0.9141209400687687,
          0.9126992900842141,
          0.9126992900842141,
          0.9126992900842141,
          0.9126992900842141,
          0.9112664811515861,
          0.9112664811515861,
          0.9112664811515861,
          0.9098268816552967,
          0.9083872821590061,
          0.9083872821590061,
          0.9069453975841508,
          0.9069453975841508,
          0.9069453975841508,
          0.9054989136964564,
          0.9054989136964564,
          0.9040477936424554,
          0.9040477936424554,
          0.9040477936424554,
          0.9040477936424554,
          0.9040477936424554,
          0.9040477936424554,
          0.9040477936424554,
          0.9040477936424554,
          0.9040477936424554,
          0.9025633145067536,
          0.9025633145067536,
          0.9025633145067536,
          0.9025633145067536,
          0.9010690043833982,
          0.9010690043833982,
          0.9010690043833982,
          0.9010690043833982,
          0.9010690043833982,
          0.899564715561389,
          0.8980604267393805,
          0.8965561379173714,
          0.8965561379173714,
          0.8965561379173714,
          0.8965561379173714,
          0.8965561379173714,
          0.8965561379173714,
          0.8965561379173714,
          0.8950339712995152,
          0.8950339712995152,
          0.8950339712995152,
          0.8950339712995152,
          0.8950339712995152,
          0.8950339712995152,
          0.8950339712995152,
          0.8950339712995152,
          0.8950339712995152,
          0.8950339712995152,
          0.8950339712995152,
          0.8950339712995152,
          0.8950339712995152,
          0.8950339712995152,
          0.8934637362621473,
          0.8934637362621473,
          0.8934637362621473,
          0.8934637362621473,
          0.8934637362621473,
          0.8934637362621473,
          0.8918795807013986,
          0.8918795807013986,
          0.8918795807013986,
          0.8918795807013986,
          0.8918795807013986,
          0.8918795807013986,
          0.8918795807013986,
          0.8918795807013986,
          0.8918795807013986,
          0.89025798146376,
          0.8886363822261215,
          0.8886363822261215,
          0.8870028594646765,
          0.8853693367032319,
          0.8837358139417862,
          0.8837358139417862,
          0.8837358139417862,
          0.882096229871393,
          0.8804566458010002,
          0.8804566458010002,
          0.8788109324443633,
          0.8788109324443633,
          0.8771527986095626,
          0.8771527986095626,
          0.8771527986095626,
          0.8771527986095626,
          0.8771527986095626,
          0.8771527986095626,
          0.8771527986095626,
          0.8771527986095626,
          0.8771527986095626,
          0.8771527986095626,
          0.8771527986095626,
          0.8771527986095626,
          0.8754429490996025,
          0.8754429490996025,
          0.8754429490996025,
          0.8737263942974465,
          0.8720098394952907,
          0.8685767298909786,
          0.8668601750888226,
          0.8668601750888226,
          0.8668601750888226,
          0.8668601750888226,
          0.8668601750888226,
          0.8668601750888226,
          0.8668601750888226,
          0.8668601750888226,
          0.8668601750888226,
          0.8651053974064561,
          0.8651053974064561,
          0.8651053974064561,
          0.8633434719534897,
          0.861581546500524,
          0.861581546500524,
          0.861581546500524,
          0.861581546500524,
          0.861581546500524,
          0.861581546500524,
          0.861581546500524,
          0.861581546500524,
          0.859782837635179,
          0.859782837635179,
          0.859782837635179,
          0.859782837635179,
          0.859782837635179,
          0.859782837635179,
          0.859782837635179,
          0.859782837635179,
          0.859782837635179,
          0.859782837635179,
          0.859782837635179,
          0.859782837635179,
          0.859782837635179,
          0.859782837635179,
          0.8579014747519511,
          0.8579014747519511,
          0.8579014747519511,
          0.8560118239265062,
          0.8541221731010614,
          0.8522325222756165,
          0.8522325222756165,
          0.8503259618230982,
          0.8503259618230982,
          0.8503259618230982,
          0.8503259618230982,
          0.8503259618230982,
          0.8503259618230982,
          0.8503259618230982,
          0.8503259618230982,
          0.8503259618230982,
          0.8503259618230982,
          0.8503259618230982,
          0.8483484595863006,
          0.8483484595863006,
          0.8483484595863006,
          0.8483484595863006,
          0.8483484595863006,
          0.8483484595863006,
          0.8483484595863006,
          0.8483484595863006,
          0.8483484595863006,
          0.8483484595863006,
          0.846304246430671,
          0.844260033275042,
          0.844260033275042,
          0.844260033275042,
          0.8422008624621761,
          0.8422008624621761,
          0.8422008624621761,
          0.8422008624621761,
          0.8401058354411259,
          0.8401058354411259,
          0.8380055708525236,
          0.8380055708525236,
          0.835900029217216,
          0.835900029217216,
          0.835900029217216,
          0.835900029217216,
          0.835900029217216,
          0.835900029217216,
          0.835900029217216,
          0.835900029217216,
          0.835900029217216,
          0.835900029217216,
          0.8337175226135161,
          0.8337175226135161,
          0.8337175226135161,
          0.8337175226135161,
          0.8315060702988913,
          0.8315060702988913,
          0.8315060702988913,
          0.8315060702988913,
          0.8315060702988913,
          0.8315060702988913,
          0.8315060702988913,
          0.8315060702988913,
          0.8315060702988913,
          0.8315060702988913,
          0.8315060702988913,
          0.8315060702988913,
          0.8315060702988913,
          0.8315060702988913,
          0.8315060702988913,
          0.8315060702988913,
          0.8315060702988913,
          0.8315060702988913,
          0.8315060702988913,
          0.8315060702988913,
          0.8315060702988913,
          0.8315060702988913,
          0.8315060702988913,
          0.8315060702988913,
          0.8315060702988913,
          0.8315060702988913,
          0.8315060702988913,
          0.8315060702988913,
          0.8315060702988913,
          0.8315060702988913,
          0.8315060702988913,
          0.8289786962250348,
          0.8289786962250348,
          0.8289786962250348,
          0.8289786962250348,
          0.8289786962250348,
          0.8289786962250348,
          0.8289786962250348,
          0.8263302019878945,
          0.8263302019878945,
          0.8263302019878945,
          0.8263302019878945,
          0.8263302019878945,
          0.8263302019878945,
          0.8263302019878945,
          0.8263302019878945,
          0.8263302019878945,
          0.8263302019878945,
          0.8235290826591215,
          0.8207279633303495,
          0.8207279633303495,
          0.8207279633303495,
          0.8207279633303495,
          0.8178880741838777,
          0.8178880741838777,
          0.8178880741838777,
          0.8178880741838777,
          0.8178880741838777,
          0.8178880741838777,
          0.8178880741838777,
          0.8149670453475067,
          0.8149670453475067,
          0.8149670453475067,
          0.8149670453475067,
          0.8149670453475067,
          0.8149670453475067,
          0.8149670453475067,
          0.8149670453475067,
          0.8149670453475067,
          0.8149670453475067,
          0.8149670453475067,
          0.8149670453475067,
          0.8149670453475067,
          0.8149670453475067,
          0.8149670453475067,
          0.8149670453475067,
          0.8149670453475067,
          0.8149670453475067,
          0.8117585136729104,
          0.8117585136729104,
          0.8117585136729104,
          0.8117585136729104,
          0.8117585136729104,
          0.8117585136729104,
          0.8117585136729104,
          0.8084041396494681,
          0.8084041396494681,
          0.8084041396494681,
          0.8084041396494681,
          0.8084041396494681,
          0.8084041396494681,
          0.8084041396494681,
          0.8084041396494681,
          0.8084041396494681,
          0.8048428879329507,
          0.8048428879329507,
          0.8048428879329507,
          0.8048428879329507,
          0.8048428879329507,
          0.8012010649106303,
          0.8012010649106303,
          0.8012010649106303,
          0.8012010649106303,
          0.8012010649106303,
          0.8012010649106303,
          0.8012010649106303,
          0.8012010649106303,
          0.8012010649106303,
          0.8012010649106303,
          0.8012010649106303,
          0.8012010649106303,
          0.8012010649106303,
          0.8012010649106303,
          0.8012010649106303,
          0.7971950595860774,
          0.7931890542615243,
          0.7891421713316188,
          0.7891421713316188,
          0.7850744281804249,
          0.7850744281804249,
          0.7850744281804249,
          0.7850744281804249,
          0.7850744281804249,
          0.7850744281804249,
          0.7807844039827172,
          0.7807844039827172,
          0.7807844039827172,
          0.7807844039827172,
          0.7807844039827172,
          0.7763481289600888,
          0.7763481289600888,
          0.7718863581039965,
          0.7718863581039965,
          0.7718863581039965,
          0.7718863581039965,
          0.7718863581039965,
          0.7718863581039965,
          0.7718863581039965,
          0.7718863581039965,
          0.7718863581039965,
          0.7718863581039965,
          0.7718863581039965,
          0.7669383686289709,
          0.7669383686289709,
          0.7669383686289709,
          0.7669383686289709,
          0.7669383686289709,
          0.7669383686289709,
          0.7669383686289709,
          0.7669383686289709,
          0.7616853661041149,
          0.7564323635792591,
          0.7564323635792591,
          0.7564323635792591,
          0.7564323635792591,
          0.7564323635792591,
          0.7564323635792591,
          0.7564323635792591,
          0.7564323635792591,
          0.7564323635792591,
          0.7564323635792591,
          0.7564323635792591,
          0.7564323635792591,
          0.7506580707275092,
          0.7506580707275092,
          0.7506580707275092,
          0.7506580707275092,
          0.7506580707275092,
          0.7506580707275092,
          0.7506580707275092,
          0.7506580707275092,
          0.7506580707275092,
          0.7506580707275092,
          0.7506580707275092,
          0.7506580707275092,
          0.7506580707275092,
          0.7506580707275092,
          0.7506580707275092,
          0.7506580707275092,
          0.7506580707275092,
          0.7506580707275092,
          0.7506580707275092,
          0.7506580707275092,
          0.7506580707275092,
          0.7506580707275092,
          0.7506580707275092,
          0.7506580707275092,
          0.7506580707275092,
          0.7506580707275092,
          0.7429193277303183,
          0.7429193277303183,
          0.7429193277303183,
          0.7429193277303183,
          0.7429193277303183,
          0.7429193277303183,
          0.7429193277303183,
          0.7429193277303183,
          0.7429193277303183,
          0.7429193277303183,
          0.7429193277303183,
          0.7429193277303183,
          0.7429193277303183,
          0.7429193277303183,
          0.7429193277303183,
          0.7429193277303183,
          0.7429193277303183,
          0.7429193277303183,
          0.7429193277303183,
          0.7429193277303183,
          0.7429193277303183,
          0.7429193277303183,
          0.7429193277303183,
          0.7429193277303183,
          0.7429193277303183,
          0.7429193277303183,
          0.7429193277303183,
          0.7429193277303183,
          0.7429193277303183,
          0.7429193277303183,
          0.7429193277303183,
          0.7429193277303183,
          0.7429193277303183,
          0.7429193277303183,
          0.7429193277303183,
          0.7429193277303183,
          0.7429193277303183,
          0.7429193277303183,
          0.7429193277303183,
          0.7429193277303183,
          0.7429193277303183,
          0.7429193277303183,
          0.7429193277303183,
          0.7429193277303183,
          0.7429193277303183,
          0.7429193277303183,
          0.7429193277303183,
          0.7238701141987717,
          0.7238701141987717,
          0.7238701141987717,
          0.7238701141987717,
          0.7238701141987717,
          0.7238701141987717,
          0.7238701141987717,
          0.7238701141987717,
          0.7238701141987717,
          0.7238701141987717,
          0.7238701141987717,
          0.7238701141987717,
          0.7238701141987717,
          0.7238701141987717,
          0.7238701141987717,
          0.7238701141987717,
          0.7238701141987717,
          0.7238701141987717,
          0.7238701141987717,
          0.7238701141987717,
          0.7238701141987717,
          0.7238701141987717,
          0.7238701141987717,
          0.7238701141987717,
          0.7238701141987717,
          0.7238701141987717,
          0.7238701141987717,
          0.7238701141987717,
          0.7238701141987717,
          0.7238701141987717,
          0.7238701141987717,
          0.7238701141987717,
          0.7238701141987717,
          0.7238701141987717,
          0.7238701141987717
         ]
        },
        {
         "line": {
          "shape": "hv",
          "width": 0
         },
         "showlegend": false,
         "type": "scatter",
         "x": [
          0,
          1,
          2,
          3,
          5,
          7,
          9,
          10,
          13,
          14,
          17,
          20,
          21,
          26,
          28,
          32,
          33,
          37,
          40,
          43,
          44,
          45,
          48,
          50,
          51,
          52,
          56,
          57,
          59,
          62,
          66,
          67,
          68,
          69,
          78,
          79,
          80,
          82,
          87,
          88,
          91,
          93,
          97,
          98,
          104,
          105,
          106,
          112,
          114,
          115,
          116,
          118,
          119,
          121,
          124,
          135,
          141,
          142,
          143,
          144,
          150,
          152,
          154,
          158,
          162,
          167,
          172,
          173,
          183,
          186,
          190,
          193,
          198,
          200,
          205,
          206,
          209,
          211,
          215,
          223,
          224,
          228,
          229,
          231,
          236,
          238,
          239,
          242,
          243,
          246,
          248,
          249,
          250,
          251,
          252,
          253,
          256,
          257,
          259,
          260,
          261,
          269,
          271,
          273,
          277,
          280,
          283,
          284,
          289,
          291,
          297,
          306,
          311,
          312,
          316,
          331,
          334,
          337,
          338,
          340,
          341,
          344,
          346,
          347,
          354,
          361,
          366,
          367,
          370,
          377,
          386,
          387,
          388,
          391,
          392,
          399,
          402,
          403,
          406,
          410,
          414,
          417,
          421,
          424,
          428,
          432,
          439,
          442,
          443,
          448,
          450,
          452,
          459,
          470,
          478,
          479,
          481,
          485,
          486,
          490,
          494,
          495,
          499,
          507,
          512,
          535,
          543,
          545,
          549,
          563,
          570,
          572,
          579,
          582,
          583,
          590,
          593,
          596,
          604,
          614,
          615,
          621,
          625,
          630,
          631,
          633,
          642,
          646,
          652,
          654,
          655,
          659,
          660,
          661,
          663,
          670,
          671,
          673,
          675,
          678,
          692,
          693,
          697,
          701,
          715,
          719,
          723,
          725,
          730,
          731,
          734,
          750,
          753,
          757,
          759,
          762,
          772,
          773,
          776,
          777,
          790,
          793,
          806,
          834,
          835,
          840,
          852,
          863,
          864,
          868,
          875,
          879,
          887,
          888,
          890,
          899,
          900,
          903,
          907,
          909,
          915,
          920,
          929,
          932,
          934,
          939,
          943,
          945,
          946,
          951,
          953,
          961,
          963,
          965,
          968,
          992,
          995,
          1001,
          1002,
          1012,
          1013,
          1016,
          1028,
          1050,
          1051,
          1058,
          1072,
          1086,
          1092,
          1105,
          1109,
          1110,
          1114,
          1115,
          1118,
          1122,
          1124,
          1125,
          1128,
          1145,
          1149,
          1151,
          1154,
          1164,
          1165,
          1178,
          1186,
          1191,
          1196,
          1208,
          1210,
          1224,
          1229,
          1230,
          1232,
          1242,
          1252,
          1254,
          1256,
          1269,
          1274,
          1275,
          1291,
          1297,
          1299,
          1302,
          1304,
          1309,
          1313,
          1315,
          1316,
          1326,
          1331,
          1350,
          1352,
          1357,
          1365,
          1368,
          1383,
          1384,
          1386,
          1388,
          1395,
          1418,
          1427,
          1428,
          1429,
          1435,
          1449,
          1450,
          1457,
          1463,
          1470,
          1473,
          1497,
          1500,
          1508,
          1509,
          1522,
          1527,
          1541,
          1567,
          1571,
          1578,
          1586,
          1594,
          1605,
          1606,
          1610,
          1611,
          1617,
          1623,
          1624,
          1638,
          1641,
          1655,
          1668,
          1673,
          1674,
          1681,
          1698,
          1699,
          1700,
          1702,
          1707,
          1717,
          1718,
          1732,
          1734,
          1736,
          1739,
          1745,
          1746,
          1749,
          1770,
          1777,
          1778,
          1785,
          1786,
          1791,
          1795,
          1802,
          1803,
          1808,
          1815,
          1820,
          1835,
          1839,
          1861,
          1875,
          1877,
          1893,
          1900,
          1914,
          1920,
          1937,
          1939,
          1940,
          1942,
          1947,
          1959,
          1962,
          1966,
          1973,
          1975,
          1980,
          1988,
          1989,
          1995,
          2001,
          2014,
          2016,
          2025,
          2026,
          2032,
          2034,
          2035,
          2038,
          2041,
          2043,
          2048,
          2049,
          2056,
          2060,
          2083,
          2090,
          2094,
          2095,
          2096,
          2098,
          2102,
          2108,
          2109,
          2129,
          2135,
          2147,
          2171,
          2190,
          2193,
          2211,
          2221,
          2223,
          2233,
          2236,
          2252,
          2253,
          2264,
          2267,
          2268,
          2270,
          2271,
          2276,
          2291,
          2301,
          2312,
          2313,
          2330,
          2332,
          2335,
          2356,
          2367,
          2369,
          2384,
          2392,
          2405,
          2413,
          2414,
          2418,
          2421,
          2425,
          2430,
          2433,
          2434,
          2451,
          2455,
          2462,
          2463,
          2486,
          2488,
          2489,
          2497,
          2504,
          2516,
          2529,
          2531,
          2533,
          2556,
          2557,
          2567,
          2575,
          2585,
          2589,
          2598,
          2601,
          2607,
          2625,
          2630,
          2632,
          2638,
          2646,
          2650,
          2654,
          2659,
          2663,
          2670,
          2680,
          2688,
          2690,
          2696,
          2700,
          2701,
          2705,
          2712,
          2714,
          2716,
          2726,
          2740,
          2741,
          2750,
          2759,
          2761,
          2762,
          2765,
          2768,
          2783,
          2789,
          2795,
          2812,
          2815,
          2827,
          2831,
          2846,
          2867,
          2870,
          2871,
          2876,
          2889,
          2900,
          2906,
          2909,
          2918,
          2922,
          2935,
          2936,
          2948,
          2955,
          2957,
          2961,
          2993,
          2994,
          2999,
          3007,
          3019,
          3028,
          3042,
          3045,
          3060,
          3063,
          3072,
          3077,
          3078,
          3084,
          3086,
          3096,
          3102,
          3106,
          3110,
          3116,
          3124,
          3130,
          3131,
          3142,
          3145,
          3146,
          3147,
          3161,
          3172,
          3173,
          3175,
          3179,
          3186,
          3187,
          3202,
          3211,
          3215,
          3224,
          3229,
          3255,
          3260,
          3265,
          3281,
          3287,
          3289,
          3300,
          3301,
          3304,
          3319,
          3325,
          3360,
          3361,
          3372,
          3379,
          3402,
          3412,
          3420,
          3425,
          3430,
          3434
         ],
         "y": [
          1,
          1,
          0.9998363138112821,
          0.9994185465796667,
          0.9994185465796667,
          0.99825179104668,
          0.99825179104668,
          0.9968559011354534,
          0.9968559011354534,
          0.9968559011354534,
          0.9961034864109738,
          0.9961034864109738,
          0.9953226603522957,
          0.9936977990250736,
          0.9928588159927244,
          0.9928588159927244,
          0.9928588159927244,
          0.9920030700153227,
          0.9911344725185398,
          0.9893639176186274,
          0.9884614286530411,
          0.9875502582382699,
          0.9875502582382699,
          0.986630213228225,
          0.986630213228225,
          0.9856991096576044,
          0.9847610781809689,
          0.9828661190728732,
          0.9819100054551708,
          0.9799822337556493,
          0.9799822337556493,
          0.9799822337556493,
          0.9780275797342428,
          0.9770437307456503,
          0.976055827389754,
          0.9750640668246774,
          0.9750640668246774,
          0.9750640668246774,
          0.9750640668246774,
          0.9740612497118084,
          0.9730548324529801,
          0.9730548324529801,
          0.9720417332740459,
          0.9700056863664094,
          0.9689830079037337,
          0.9689830079037337,
          0.9669222188287092,
          0.9669222188287092,
          0.9669222188287092,
          0.9669222188287092,
          0.9669222188287092,
          0.9669222188287092,
          0.9658750367588218,
          0.9648239183974102,
          0.9648239183974102,
          0.9637665826341681,
          0.9637665826341681,
          0.9637665826341681,
          0.9627042458614321,
          0.9627042458614321,
          0.9616381598889892,
          0.9616381598889892,
          0.960565959630345,
          0.9594913409548577,
          0.9584143822291442,
          0.9584143822291442,
          0.9584143822291442,
          0.9584143822291442,
          0.9584143822291442,
          0.9584143822291442,
          0.9573239073785481,
          0.9573239073785481,
          0.9573239073785481,
          0.9573239073785481,
          0.9573239073785481,
          0.9562234850843621,
          0.9551207942273231,
          0.9551207942273231,
          0.9551207942273231,
          0.9551207942273231,
          0.9551207942273231,
          0.9540093702573466,
          0.9528957646897943,
          0.9528957646897943,
          0.9528957646897943,
          0.9528957646897943,
          0.9528957646897943,
          0.9517720248786071,
          0.9517720248786071,
          0.9517720248786071,
          0.9506421027419041,
          0.9495101001202023,
          0.9495101001202023,
          0.9495101001202023,
          0.9483719387708448,
          0.9483719387708448,
          0.9483719387708448,
          0.9483719387708448,
          0.9483719387708448,
          0.9483719387708448,
          0.9483719387708448,
          0.9483719387708448,
          0.9483719387708448,
          0.947213429258115,
          0.947213429258115,
          0.947213429258115,
          0.947213429258115,
          0.947213429258115,
          0.947213429258115,
          0.9460441511766241,
          0.9448728105115672,
          0.9448728105115672,
          0.9425182268542281,
          0.9425182268542281,
          0.9425182268542281,
          0.9425182268542281,
          0.9413274657898942,
          0.9413274657898942,
          0.9413274657898942,
          0.9401317023051826,
          0.9401317023051826,
          0.9389278284828193,
          0.9377220582574947,
          0.9377220582574947,
          0.9365112863915537,
          0.9365112863915537,
          0.9352971030526621,
          0.9352971030526621,
          0.9352971030526621,
          0.9352971030526621,
          0.9352971030526621,
          0.9352971030526621,
          0.9352971030526621,
          0.9340698479263763,
          0.9340698479263763,
          0.9340698479263763,
          0.9328358639813666,
          0.9328358639813666,
          0.9328358639813666,
          0.9328358639813666,
          0.9328358639813666,
          0.9328358639813666,
          0.9315917656723307,
          0.9315917656723307,
          0.9315917656723307,
          0.9315917656723307,
          0.9303374026830967,
          0.9303374026830967,
          0.9303374026830967,
          0.9303374026830967,
          0.9290726201848435,
          0.9290726201848435,
          0.9290726201848435,
          0.9278007803806879,
          0.9265271427250903,
          0.9265271427250903,
          0.9252499751142762,
          0.9252499751142762,
          0.9252499751142762,
          0.9239675054681928,
          0.9239675054681928,
          0.9226797190042845,
          0.9226797190042845,
          0.9226797190042845,
          0.9226797190042845,
          0.9226797190042845,
          0.9226797190042845,
          0.9226797190042845,
          0.9226797190042845,
          0.9226797190042845,
          0.92136430856803,
          0.92136430856803,
          0.92136430856803,
          0.92136430856803,
          0.9200394789407895,
          0.9200394789407895,
          0.9200394789407895,
          0.9200394789407895,
          0.9200394789407895,
          0.9187051094932215,
          0.9173689477778139,
          0.9160310326795715,
          0.9160310326795715,
          0.9160310326795715,
          0.9160310326795715,
          0.9160310326795715,
          0.9160310326795715,
          0.9160310326795715,
          0.9146774537843565,
          0.9146774537843565,
          0.9146774537843565,
          0.9146774537843565,
          0.9146774537843565,
          0.9146774537843565,
          0.9146774537843565,
          0.9146774537843565,
          0.9146774537843565,
          0.9146774537843565,
          0.9146774537843565,
          0.9146774537843565,
          0.9146774537843565,
          0.9146774537843565,
          0.9132847596839856,
          0.9132847596839856,
          0.9132847596839856,
          0.9132847596839856,
          0.9132847596839856,
          0.9132847596839856,
          0.9118793658844271,
          0.9118793658844271,
          0.9118793658844271,
          0.9118793658844271,
          0.9118793658844271,
          0.9118793658844271,
          0.9118793658844271,
          0.9118793658844271,
          0.9118793658844271,
          0.9104430885367517,
          0.9090047590141023,
          0.9090047590141023,
          0.9075551965147888,
          0.9061036204843177,
          0.9046500753126827,
          0.9046500753126827,
          0.9046500753126827,
          0.9031898849598021,
          0.9017277837142839,
          0.9017277837142839,
          0.9002590223713852,
          0.9002590223713852,
          0.8987786917925997,
          0.8987786917925997,
          0.8987786917925997,
          0.8987786917925997,
          0.8987786917925997,
          0.8987786917925997,
          0.8987786917925997,
          0.8987786917925997,
          0.8987786917925997,
          0.8987786917925997,
          0.8987786917925997,
          0.8987786917925997,
          0.8972561782802109,
          0.8972561782802109,
          0.8972561782802109,
          0.8957264051989507,
          0.8941946017340621,
          0.8911250729393644,
          0.8895874280884769,
          0.8895874280884769,
          0.8895874280884769,
          0.8895874280884769,
          0.8895874280884769,
          0.8895874280884769,
          0.8895874280884769,
          0.8895874280884769,
          0.8895874280884769,
          0.8880179501468031,
          0.8880179501468031,
          0.8880179501468031,
          0.8864408912908109,
          0.8848618582855399,
          0.8848618582855399,
          0.8848618582855399,
          0.8848618582855399,
          0.8848618582855399,
          0.8848618582855399,
          0.8848618582855399,
          0.8848618582855399,
          0.8832520628342823,
          0.8832520628342823,
          0.8832520628342823,
          0.8832520628342823,
          0.8832520628342823,
          0.8832520628342823,
          0.8832520628342823,
          0.8832520628342823,
          0.8832520628342823,
          0.8832520628342823,
          0.8832520628342823,
          0.8832520628342823,
          0.8832520628342823,
          0.8832520628342823,
          0.8815759044613537,
          0.8815759044613537,
          0.8815759044613537,
          0.8798909623113386,
          0.8782036699470044,
          0.8765140780356825,
          0.8765140780356825,
          0.8748090617815305,
          0.8748090617815305,
          0.8748090617815305,
          0.8748090617815305,
          0.8748090617815305,
          0.8748090617815305,
          0.8748090617815305,
          0.8748090617815305,
          0.8748090617815305,
          0.8748090617815305,
          0.8748090617815305,
          0.8730467349432833,
          0.8730467349432833,
          0.8730467349432833,
          0.8730467349432833,
          0.8730467349432833,
          0.8730467349432833,
          0.8730467349432833,
          0.8730467349432833,
          0.8730467349432833,
          0.8730467349432833,
          0.8712305069280636,
          0.869411451943862,
          0.869411451943862,
          0.869411451943862,
          0.8675781274908877,
          0.8675781274908877,
          0.8675781274908877,
          0.8675781274908877,
          0.8657144684372631,
          0.8657144684372631,
          0.8638438932192645,
          0.8638438932192645,
          0.8619664030509829,
          0.8619664030509829,
          0.8619664030509829,
          0.8619664030509829,
          0.8619664030509829,
          0.8619664030509829,
          0.8619664030509829,
          0.8619664030509829,
          0.8619664030509829,
          0.8619664030509829,
          0.8600270087956288,
          0.8600270087956288,
          0.8600270087956288,
          0.8600270087956288,
          0.8580623479884055,
          0.8580623479884055,
          0.8580623479884055,
          0.8580623479884055,
          0.8580623479884055,
          0.8580623479884055,
          0.8580623479884055,
          0.8580623479884055,
          0.8580623479884055,
          0.8580623479884055,
          0.8580623479884055,
          0.8580623479884055,
          0.8580623479884055,
          0.8580623479884055,
          0.8580623479884055,
          0.8580623479884055,
          0.8580623479884055,
          0.8580623479884055,
          0.8580623479884055,
          0.8580623479884055,
          0.8580623479884055,
          0.8580623479884055,
          0.8580623479884055,
          0.8580623479884055,
          0.8580623479884055,
          0.8580623479884055,
          0.8580623479884055,
          0.8580623479884055,
          0.8580623479884055,
          0.8580623479884055,
          0.8580623479884055,
          0.8558582983915878,
          0.8558582983915878,
          0.8558582983915878,
          0.8558582983915878,
          0.8558582983915878,
          0.8558582983915878,
          0.8558582983915878,
          0.8535609474132527,
          0.8535609474132527,
          0.8535609474132527,
          0.8535609474132527,
          0.8535609474132527,
          0.8535609474132527,
          0.8535609474132527,
          0.8535609474132527,
          0.8535609474132527,
          0.8535609474132527,
          0.8511482038849981,
          0.8487281927989508,
          0.8487281927989508,
          0.8487281927989508,
          0.8487281927989508,
          0.8462734746937725,
          0.8462734746937725,
          0.8462734746937725,
          0.8462734746937725,
          0.8462734746937725,
          0.8462734746937725,
          0.8462734746937725,
          0.8437538021788221,
          0.8437538021788221,
          0.8437538021788221,
          0.8437538021788221,
          0.8437538021788221,
          0.8437538021788221,
          0.8437538021788221,
          0.8437538021788221,
          0.8437538021788221,
          0.8437538021788221,
          0.8437538021788221,
          0.8437538021788221,
          0.8437538021788221,
          0.8437538021788221,
          0.8437538021788221,
          0.8437538021788221,
          0.8437538021788221,
          0.8437538021788221,
          0.8410255796989116,
          0.8410255796989116,
          0.8410255796989116,
          0.8410255796989116,
          0.8410255796989116,
          0.8410255796989116,
          0.8410255796989116,
          0.8381872113949788,
          0.8381872113949788,
          0.8381872113949788,
          0.8381872113949788,
          0.8381872113949788,
          0.8381872113949788,
          0.8381872113949788,
          0.8381872113949788,
          0.8381872113949788,
          0.8351978657308783,
          0.8351978657308783,
          0.8351978657308783,
          0.8351978657308783,
          0.8351978657308783,
          0.8321405622769931,
          0.8321405622769931,
          0.8321405622769931,
          0.8321405622769931,
          0.8321405622769931,
          0.8321405622769931,
          0.8321405622769931,
          0.8321405622769931,
          0.8321405622769931,
          0.8321405622769931,
          0.8321405622769931,
          0.8321405622769931,
          0.8321405622769931,
          0.8321405622769931,
          0.8321405622769931,
          0.8288310665968698,
          0.8255012347867425,
          0.8221257418848588,
          0.8221257418848588,
          0.818717896682141,
          0.818717896682141,
          0.818717896682141,
          0.818717896682141,
          0.818717896682141,
          0.818717896682141,
          0.8151469344247493,
          0.8151469344247493,
          0.8151469344247493,
          0.8151469344247493,
          0.8151469344247493,
          0.8114606297965554,
          0.8114606297965554,
          0.8077354378463725,
          0.8077354378463725,
          0.8077354378463725,
          0.8077354378463725,
          0.8077354378463725,
          0.8077354378463725,
          0.8077354378463725,
          0.8077354378463725,
          0.8077354378463725,
          0.8077354378463725,
          0.8077354378463725,
          0.8036797290379859,
          0.8036797290379859,
          0.8036797290379859,
          0.8036797290379859,
          0.8036797290379859,
          0.8036797290379859,
          0.8036797290379859,
          0.8036797290379859,
          0.7994060877705369,
          0.7950968971617265,
          0.7950968971617265,
          0.7950968971617265,
          0.7950968971617265,
          0.7950968971617265,
          0.7950968971617265,
          0.7950968971617265,
          0.7950968971617265,
          0.7950968971617265,
          0.7950968971617265,
          0.7950968971617265,
          0.7950968971617265,
          0.7904382611825149,
          0.7904382611825149,
          0.7904382611825149,
          0.7904382611825149,
          0.7904382611825149,
          0.7904382611825149,
          0.7904382611825149,
          0.7904382611825149,
          0.7904382611825149,
          0.7904382611825149,
          0.7904382611825149,
          0.7904382611825149,
          0.7904382611825149,
          0.7904382611825149,
          0.7904382611825149,
          0.7904382611825149,
          0.7904382611825149,
          0.7904382611825149,
          0.7904382611825149,
          0.7904382611825149,
          0.7904382611825149,
          0.7904382611825149,
          0.7904382611825149,
          0.7904382611825149,
          0.7904382611825149,
          0.7904382611825149,
          0.7846852240840071,
          0.7846852240840071,
          0.7846852240840071,
          0.7846852240840071,
          0.7846852240840071,
          0.7846852240840071,
          0.7846852240840071,
          0.7846852240840071,
          0.7846852240840071,
          0.7846852240840071,
          0.7846852240840071,
          0.7846852240840071,
          0.7846852240840071,
          0.7846852240840071,
          0.7846852240840071,
          0.7846852240840071,
          0.7846852240840071,
          0.7846852240840071,
          0.7846852240840071,
          0.7846852240840071,
          0.7846852240840071,
          0.7846852240840071,
          0.7846852240840071,
          0.7846852240840071,
          0.7846852240840071,
          0.7846852240840071,
          0.7846852240840071,
          0.7846852240840071,
          0.7846852240840071,
          0.7846852240840071,
          0.7846852240840071,
          0.7846852240840071,
          0.7846852240840071,
          0.7846852240840071,
          0.7846852240840071,
          0.7846852240840071,
          0.7846852240840071,
          0.7846852240840071,
          0.7846852240840071,
          0.7846852240840071,
          0.7846852240840071,
          0.7846852240840071,
          0.7846852240840071,
          0.7846852240840071,
          0.7846852240840071,
          0.7846852240840071,
          0.7846852240840071,
          0.7764407647008063,
          0.7764407647008063,
          0.7764407647008063,
          0.7764407647008063,
          0.7764407647008063,
          0.7764407647008063,
          0.7764407647008063,
          0.7764407647008063,
          0.7764407647008063,
          0.7764407647008063,
          0.7764407647008063,
          0.7764407647008063,
          0.7764407647008063,
          0.7764407647008063,
          0.7764407647008063,
          0.7764407647008063,
          0.7764407647008063,
          0.7764407647008063,
          0.7764407647008063,
          0.7764407647008063,
          0.7764407647008063,
          0.7764407647008063,
          0.7764407647008063,
          0.7764407647008063,
          0.7764407647008063,
          0.7764407647008063,
          0.7764407647008063,
          0.7764407647008063,
          0.7764407647008063,
          0.7764407647008063,
          0.7764407647008063,
          0.7764407647008063,
          0.7764407647008063,
          0.7764407647008063,
          0.7764407647008063
         ]
        },
        {
         "fill": "tonexty",
         "fillcolor": "rgba(31, 119, 180, 0.4)",
         "line": {
          "shape": "hv",
          "width": 0
         },
         "showlegend": false,
         "type": "scatter",
         "x": [
          0,
          1,
          2,
          3,
          5,
          7,
          9,
          10,
          13,
          14,
          17,
          20,
          21,
          26,
          28,
          32,
          33,
          37,
          40,
          43,
          44,
          45,
          48,
          50,
          51,
          52,
          56,
          57,
          59,
          62,
          66,
          67,
          68,
          69,
          78,
          79,
          80,
          82,
          87,
          88,
          91,
          93,
          97,
          98,
          104,
          105,
          106,
          112,
          114,
          115,
          116,
          118,
          119,
          121,
          124,
          135,
          141,
          142,
          143,
          144,
          150,
          152,
          154,
          158,
          162,
          167,
          172,
          173,
          183,
          186,
          190,
          193,
          198,
          200,
          205,
          206,
          209,
          211,
          215,
          223,
          224,
          228,
          229,
          231,
          236,
          238,
          239,
          242,
          243,
          246,
          248,
          249,
          250,
          251,
          252,
          253,
          256,
          257,
          259,
          260,
          261,
          269,
          271,
          273,
          277,
          280,
          283,
          284,
          289,
          291,
          297,
          306,
          311,
          312,
          316,
          331,
          334,
          337,
          338,
          340,
          341,
          344,
          346,
          347,
          354,
          361,
          366,
          367,
          370,
          377,
          386,
          387,
          388,
          391,
          392,
          399,
          402,
          403,
          406,
          410,
          414,
          417,
          421,
          424,
          428,
          432,
          439,
          442,
          443,
          448,
          450,
          452,
          459,
          470,
          478,
          479,
          481,
          485,
          486,
          490,
          494,
          495,
          499,
          507,
          512,
          535,
          543,
          545,
          549,
          563,
          570,
          572,
          579,
          582,
          583,
          590,
          593,
          596,
          604,
          614,
          615,
          621,
          625,
          630,
          631,
          633,
          642,
          646,
          652,
          654,
          655,
          659,
          660,
          661,
          663,
          670,
          671,
          673,
          675,
          678,
          692,
          693,
          697,
          701,
          715,
          719,
          723,
          725,
          730,
          731,
          734,
          750,
          753,
          757,
          759,
          762,
          772,
          773,
          776,
          777,
          790,
          793,
          806,
          834,
          835,
          840,
          852,
          863,
          864,
          868,
          875,
          879,
          887,
          888,
          890,
          899,
          900,
          903,
          907,
          909,
          915,
          920,
          929,
          932,
          934,
          939,
          943,
          945,
          946,
          951,
          953,
          961,
          963,
          965,
          968,
          992,
          995,
          1001,
          1002,
          1012,
          1013,
          1016,
          1028,
          1050,
          1051,
          1058,
          1072,
          1086,
          1092,
          1105,
          1109,
          1110,
          1114,
          1115,
          1118,
          1122,
          1124,
          1125,
          1128,
          1145,
          1149,
          1151,
          1154,
          1164,
          1165,
          1178,
          1186,
          1191,
          1196,
          1208,
          1210,
          1224,
          1229,
          1230,
          1232,
          1242,
          1252,
          1254,
          1256,
          1269,
          1274,
          1275,
          1291,
          1297,
          1299,
          1302,
          1304,
          1309,
          1313,
          1315,
          1316,
          1326,
          1331,
          1350,
          1352,
          1357,
          1365,
          1368,
          1383,
          1384,
          1386,
          1388,
          1395,
          1418,
          1427,
          1428,
          1429,
          1435,
          1449,
          1450,
          1457,
          1463,
          1470,
          1473,
          1497,
          1500,
          1508,
          1509,
          1522,
          1527,
          1541,
          1567,
          1571,
          1578,
          1586,
          1594,
          1605,
          1606,
          1610,
          1611,
          1617,
          1623,
          1624,
          1638,
          1641,
          1655,
          1668,
          1673,
          1674,
          1681,
          1698,
          1699,
          1700,
          1702,
          1707,
          1717,
          1718,
          1732,
          1734,
          1736,
          1739,
          1745,
          1746,
          1749,
          1770,
          1777,
          1778,
          1785,
          1786,
          1791,
          1795,
          1802,
          1803,
          1808,
          1815,
          1820,
          1835,
          1839,
          1861,
          1875,
          1877,
          1893,
          1900,
          1914,
          1920,
          1937,
          1939,
          1940,
          1942,
          1947,
          1959,
          1962,
          1966,
          1973,
          1975,
          1980,
          1988,
          1989,
          1995,
          2001,
          2014,
          2016,
          2025,
          2026,
          2032,
          2034,
          2035,
          2038,
          2041,
          2043,
          2048,
          2049,
          2056,
          2060,
          2083,
          2090,
          2094,
          2095,
          2096,
          2098,
          2102,
          2108,
          2109,
          2129,
          2135,
          2147,
          2171,
          2190,
          2193,
          2211,
          2221,
          2223,
          2233,
          2236,
          2252,
          2253,
          2264,
          2267,
          2268,
          2270,
          2271,
          2276,
          2291,
          2301,
          2312,
          2313,
          2330,
          2332,
          2335,
          2356,
          2367,
          2369,
          2384,
          2392,
          2405,
          2413,
          2414,
          2418,
          2421,
          2425,
          2430,
          2433,
          2434,
          2451,
          2455,
          2462,
          2463,
          2486,
          2488,
          2489,
          2497,
          2504,
          2516,
          2529,
          2531,
          2533,
          2556,
          2557,
          2567,
          2575,
          2585,
          2589,
          2598,
          2601,
          2607,
          2625,
          2630,
          2632,
          2638,
          2646,
          2650,
          2654,
          2659,
          2663,
          2670,
          2680,
          2688,
          2690,
          2696,
          2700,
          2701,
          2705,
          2712,
          2714,
          2716,
          2726,
          2740,
          2741,
          2750,
          2759,
          2761,
          2762,
          2765,
          2768,
          2783,
          2789,
          2795,
          2812,
          2815,
          2827,
          2831,
          2846,
          2867,
          2870,
          2871,
          2876,
          2889,
          2900,
          2906,
          2909,
          2918,
          2922,
          2935,
          2936,
          2948,
          2955,
          2957,
          2961,
          2993,
          2994,
          2999,
          3007,
          3019,
          3028,
          3042,
          3045,
          3060,
          3063,
          3072,
          3077,
          3078,
          3084,
          3086,
          3096,
          3102,
          3106,
          3110,
          3116,
          3124,
          3130,
          3131,
          3142,
          3145,
          3146,
          3147,
          3161,
          3172,
          3173,
          3175,
          3179,
          3186,
          3187,
          3202,
          3211,
          3215,
          3224,
          3229,
          3255,
          3260,
          3265,
          3281,
          3287,
          3289,
          3300,
          3301,
          3304,
          3319,
          3325,
          3360,
          3361,
          3372,
          3379,
          3402,
          3412,
          3420,
          3425,
          3430,
          3434
         ],
         "y": [
          1,
          1,
          0.9917839978292847,
          0.9907443987375367,
          0.9907443987375367,
          0.9876552368561623,
          0.9876552368561623,
          0.9845188007275751,
          0.9845188007275751,
          0.9845188007275751,
          0.9829684265505431,
          0.9829684265505431,
          0.981428156973135,
          0.9783979713182005,
          0.9769020632933214,
          0.9769020632933214,
          0.9769020632933214,
          0.9754113934269073,
          0.9739324825708334,
          0.9710056152641462,
          0.969548924891319,
          0.9681005871315086,
          0.9681005871315086,
          0.9666576770082447,
          0.9666576770082447,
          0.9652129098688756,
          0.9637750315848511,
          0.9609180714896608,
          0.9594981829763561,
          0.9566738801840066,
          0.9566738801840066,
          0.9566738801840066,
          0.9538512143465298,
          0.9524464777901528,
          0.9510458379011352,
          0.9496490930412816,
          0.9496490930412816,
          0.9496490930412816,
          0.9496490930412816,
          0.9482411632703609,
          0.9468369558526718,
          0.9468369558526718,
          0.9454298809727898,
          0.9426259768595961,
          0.9412288554567145,
          0.9412288554567145,
          0.9384309332678753,
          0.9384309332678753,
          0.9384309332678753,
          0.9384309332678753,
          0.9384309332678753,
          0.9384309332678753,
          0.9370126235834727,
          0.9355951031228048,
          0.9355951031228048,
          0.9341738822771959,
          0.9341738822771959,
          0.9341738822771959,
          0.9327510827238407,
          0.9327510827238407,
          0.9313288360503222,
          0.9313288360503222,
          0.9299026218549953,
          0.9284790425600972,
          0.9270580049340834,
          0.9270580049340834,
          0.9270580049340834,
          0.9270580049340834,
          0.9270580049340834,
          0.9270580049340834,
          0.9256192657133133,
          0.9256192657133133,
          0.9256192657133133,
          0.9256192657133133,
          0.9256192657133133,
          0.9241693301593408,
          0.9227219336871679,
          0.9227219336871679,
          0.9227219336871679,
          0.9227219336871679,
          0.9227219336871679,
          0.9212654110848699,
          0.9198113429069412,
          0.9198113429069412,
          0.9198113429069412,
          0.9198113429069412,
          0.9198113429069412,
          0.9183455682732842,
          0.9183455682732842,
          0.9183455682732842,
          0.9168750605516421,
          0.915406918224957,
          0.915406918224957,
          0.915406918224957,
          0.9139338965691765,
          0.9139338965691765,
          0.9139338965691765,
          0.9139338965691765,
          0.9139338965691765,
          0.9139338965691765,
          0.9139338965691765,
          0.9139338965691765,
          0.9139338965691765,
          0.9124313153472635,
          0.9124313153472635,
          0.9124313153472635,
          0.9124313153472635,
          0.9124313153472635,
          0.9124313153472635,
          0.9109160152941884,
          0.909403141164553,
          0.909403141164553,
          0.9063742214223932,
          0.9063742214223932,
          0.9063742214223932,
          0.9063742214223932,
          0.9048451247990481,
          0.9048451247990481,
          0.9048451247990481,
          0.9033130889248097,
          0.9033130889248097,
          0.9017727635829184,
          0.9002346817038491,
          0.9002346817038491,
          0.8986934700597413,
          0.8986934700597413,
          0.8971517408523033,
          0.8971517408523033,
          0.8971517408523033,
          0.8971517408523033,
          0.8971517408523033,
          0.8971517408523033,
          0.8971517408523033,
          0.8955932254541729,
          0.8955932254541729,
          0.8955932254541729,
          0.8940286326651267,
          0.8940286326651267,
          0.8940286326651267,
          0.8940286326651267,
          0.8940286326651267,
          0.8940286326651267,
          0.8924522877290946,
          0.8924522877290946,
          0.8924522877290946,
          0.8924522877290946,
          0.8908639780306574,
          0.8908639780306574,
          0.8908639780306574,
          0.8908639780306574,
          0.8892634851433497,
          0.8892634851433497,
          0.8892634851433497,
          0.8876564543053939,
          0.8860515993908649,
          0.8860515993908649,
          0.8844459375594055,
          0.8844459375594055,
          0.8844459375594055,
          0.8828364769137712,
          0.8828364769137712,
          0.8812231555588687,
          0.8812231555588687,
          0.8812231555588687,
          0.8812231555588687,
          0.8812231555588687,
          0.8812231555588687,
          0.8812231555588687,
          0.8812231555588687,
          0.8812231555588687,
          0.8795692704500553,
          0.8795692704500553,
          0.8795692704500553,
          0.8795692704500553,
          0.8779050110332141,
          0.8779050110332141,
          0.8779050110332141,
          0.8779050110332141,
          0.8779050110332141,
          0.8762302048556481,
          0.8745576090345788,
          0.8728871664346849,
          0.8728871664346849,
          0.8728871664346849,
          0.8728871664346849,
          0.8728871664346849,
          0.8728871664346849,
          0.8728871664346849,
          0.8711960867916796,
          0.8711960867916796,
          0.8711960867916796,
          0.8711960867916796,
          0.8711960867916796,
          0.8711960867916796,
          0.8711960867916796,
          0.8711960867916796,
          0.8711960867916796,
          0.8711960867916796,
          0.8711960867916796,
          0.8711960867916796,
          0.8711960867916796,
          0.8711960867916796,
          0.8694458434447266,
          0.8694458434447266,
          0.8694458434447266,
          0.8694458434447266,
          0.8694458434447266,
          0.8694458434447266,
          0.8676802114978979,
          0.8676802114978979,
          0.8676802114978979,
          0.8676802114978979,
          0.8676802114978979,
          0.8676802114978979,
          0.8676802114978979,
          0.8676802114978979,
          0.8676802114978979,
          0.8658690529096131,
          0.8640605334765327,
          0.8640605334765327,
          0.862239321711189,
          0.8604206905314631,
          0.8586045716490639,
          0.8586045716490639,
          0.8586045716490639,
          0.8567831874086892,
          0.8549642271000647,
          0.8549642271000647,
          0.8531398590898861,
          0.8531398590898861,
          0.8513021001462527,
          0.8513021001462527,
          0.8513021001462527,
          0.8513021001462527,
          0.8513021001462527,
          0.8513021001462527,
          0.8513021001462527,
          0.8513021001462527,
          0.8513021001462527,
          0.8513021001462527,
          0.8513021001462527,
          0.8513021001462527,
          0.8494010249389811,
          0.8494010249389811,
          0.8494010249389811,
          0.8474940509565859,
          0.8455896871022588,
          0.8417885297884845,
          0.8398916134371703,
          0.8398916134371703,
          0.8398916134371703,
          0.8398916134371703,
          0.8398916134371703,
          0.8398916134371703,
          0.8398916134371703,
          0.8398916134371703,
          0.8398916134371703,
          0.8379488079531876,
          0.8379488079531876,
          0.8379488079531876,
          0.8359995094453685,
          0.8340527330762336,
          0.8340527330762336,
          0.8340527330762336,
          0.8340527330762336,
          0.8340527330762336,
          0.8340527330762336,
          0.8340527330762336,
          0.8340527330762336,
          0.8320619967843422,
          0.8320619967843422,
          0.8320619967843422,
          0.8320619967843422,
          0.8320619967843422,
          0.8320619967843422,
          0.8320619967843422,
          0.8320619967843422,
          0.8320619967843422,
          0.8320619967843422,
          0.8320619967843422,
          0.8320619967843422,
          0.8320619967843422,
          0.8320619967843422,
          0.8299689551223346,
          0.8299689551223346,
          0.8299689551223346,
          0.8278684578012955,
          0.8257710421636545,
          0.8236766295677448,
          0.8236766295677448,
          0.821563714907627,
          0.821563714907627,
          0.821563714907627,
          0.821563714907627,
          0.821563714907627,
          0.821563714907627,
          0.821563714907627,
          0.821563714907627,
          0.821563714907627,
          0.821563714907627,
          0.821563714907627,
          0.8193635547880935,
          0.8193635547880935,
          0.8193635547880935,
          0.8193635547880935,
          0.8193635547880935,
          0.8193635547880935,
          0.8193635547880935,
          0.8193635547880935,
          0.8193635547880935,
          0.8193635547880935,
          0.8170814003658314,
          0.8148030209422937,
          0.8148030209422937,
          0.8148030209422937,
          0.8125091752781758,
          0.8125091752781758,
          0.8125091752781758,
          0.8125091752781758,
          0.8101731105432799,
          0.8101731105432799,
          0.8078341955827765,
          0.8078341955827765,
          0.8054923287268337,
          0.8054923287268337,
          0.8054923287268337,
          0.8054923287268337,
          0.8054923287268337,
          0.8054923287268337,
          0.8054923287268337,
          0.8054923287268337,
          0.8054923287268337,
          0.8054923287268337,
          0.8030556295691083,
          0.8030556295691083,
          0.8030556295691083,
          0.8030556295691083,
          0.8005859447057099,
          0.8005859447057099,
          0.8005859447057099,
          0.8005859447057099,
          0.8005859447057099,
          0.8005859447057099,
          0.8005859447057099,
          0.8005859447057099,
          0.8005859447057099,
          0.8005859447057099,
          0.8005859447057099,
          0.8005859447057099,
          0.8005859447057099,
          0.8005859447057099,
          0.8005859447057099,
          0.8005859447057099,
          0.8005859447057099,
          0.8005859447057099,
          0.8005859447057099,
          0.8005859447057099,
          0.8005859447057099,
          0.8005859447057099,
          0.8005859447057099,
          0.8005859447057099,
          0.8005859447057099,
          0.8005859447057099,
          0.8005859447057099,
          0.8005859447057099,
          0.8005859447057099,
          0.8005859447057099,
          0.8005859447057099,
          0.7977075489075734,
          0.7977075489075734,
          0.7977075489075734,
          0.7977075489075734,
          0.7977075489075734,
          0.7977075489075734,
          0.7977075489075734,
          0.7946747379816878,
          0.7946747379816878,
          0.7946747379816878,
          0.7946747379816878,
          0.7946747379816878,
          0.7946747379816878,
          0.7946747379816878,
          0.7946747379816878,
          0.7946747379816878,
          0.7946747379816878,
          0.7914444868010236,
          0.7882243781613011,
          0.7882243781613011,
          0.7882243781613011,
          0.7882243781613011,
          0.7849616664320895,
          0.7849616664320895,
          0.7849616664320895,
          0.7849616664320895,
          0.7849616664320895,
          0.7849616664320895,
          0.7849616664320895,
          0.7815991289371063,
          0.7815991289371063,
          0.7815991289371063,
          0.7815991289371063,
          0.7815991289371063,
          0.7815991289371063,
          0.7815991289371063,
          0.7815991289371063,
          0.7815991289371063,
          0.7815991289371063,
          0.7815991289371063,
          0.7815991289371063,
          0.7815991289371063,
          0.7815991289371063,
          0.7815991289371063,
          0.7815991289371063,
          0.7815991289371063,
          0.7815991289371063,
          0.7778531493548713,
          0.7778531493548713,
          0.7778531493548713,
          0.7778531493548713,
          0.7778531493548713,
          0.7778531493548713,
          0.7778531493548713,
          0.7739189747257196,
          0.7739189747257196,
          0.7739189747257196,
          0.7739189747257196,
          0.7739189747257196,
          0.7739189747257196,
          0.7739189747257196,
          0.7739189747257196,
          0.7739189747257196,
          0.7697107150604012,
          0.7697107150604012,
          0.7697107150604012,
          0.7697107150604012,
          0.7697107150604012,
          0.7654086079382914,
          0.7654086079382914,
          0.7654086079382914,
          0.7654086079382914,
          0.7654086079382914,
          0.7654086079382914,
          0.7654086079382914,
          0.7654086079382914,
          0.7654086079382914,
          0.7654086079382914,
          0.7654086079382914,
          0.7654086079382914,
          0.7654086079382914,
          0.7654086079382914,
          0.7654086079382914,
          0.7606057944665416,
          0.7558314446420472,
          0.7510252675274653,
          0.7510252675274653,
          0.7462155646857236,
          0.7462155646857236,
          0.7462155646857236,
          0.7462155646857236,
          0.7462155646857236,
          0.7462155646857236,
          0.7411136408282066,
          0.7411136408282066,
          0.7411136408282066,
          0.7411136408282066,
          0.7411136408282066,
          0.7358308719666654,
          0.7358308719666654,
          0.7305429731868752,
          0.7305429731868752,
          0.7305429731868752,
          0.7305429731868752,
          0.7305429731868752,
          0.7305429731868752,
          0.7305429731868752,
          0.7305429731868752,
          0.7305429731868752,
          0.7305429731868752,
          0.7305429731868752,
          0.7245805673288239,
          0.7245805673288239,
          0.7245805673288239,
          0.7245805673288239,
          0.7245805673288239,
          0.7245805673288239,
          0.7245805673288239,
          0.7245805673288239,
          0.7182105467537165,
          0.7118904488030579,
          0.7118904488030579,
          0.7118904488030579,
          0.7118904488030579,
          0.7118904488030579,
          0.7118904488030579,
          0.7118904488030579,
          0.7118904488030579,
          0.7118904488030579,
          0.7118904488030579,
          0.7118904488030579,
          0.7118904488030579,
          0.704842665676966,
          0.704842665676966,
          0.704842665676966,
          0.704842665676966,
          0.704842665676966,
          0.704842665676966,
          0.704842665676966,
          0.704842665676966,
          0.704842665676966,
          0.704842665676966,
          0.704842665676966,
          0.704842665676966,
          0.704842665676966,
          0.704842665676966,
          0.704842665676966,
          0.704842665676966,
          0.704842665676966,
          0.704842665676966,
          0.704842665676966,
          0.704842665676966,
          0.704842665676966,
          0.704842665676966,
          0.704842665676966,
          0.704842665676966,
          0.704842665676966,
          0.704842665676966,
          0.6947517165423088,
          0.6947517165423088,
          0.6947517165423088,
          0.6947517165423088,
          0.6947517165423088,
          0.6947517165423088,
          0.6947517165423088,
          0.6947517165423088,
          0.6947517165423088,
          0.6947517165423088,
          0.6947517165423088,
          0.6947517165423088,
          0.6947517165423088,
          0.6947517165423088,
          0.6947517165423088,
          0.6947517165423088,
          0.6947517165423088,
          0.6947517165423088,
          0.6947517165423088,
          0.6947517165423088,
          0.6947517165423088,
          0.6947517165423088,
          0.6947517165423088,
          0.6947517165423088,
          0.6947517165423088,
          0.6947517165423088,
          0.6947517165423088,
          0.6947517165423088,
          0.6947517165423088,
          0.6947517165423088,
          0.6947517165423088,
          0.6947517165423088,
          0.6947517165423088,
          0.6947517165423088,
          0.6947517165423088,
          0.6947517165423088,
          0.6947517165423088,
          0.6947517165423088,
          0.6947517165423088,
          0.6947517165423088,
          0.6947517165423088,
          0.6947517165423088,
          0.6947517165423088,
          0.6947517165423088,
          0.6947517165423088,
          0.6947517165423088,
          0.6947517165423088,
          0.6618762937506287,
          0.6618762937506287,
          0.6618762937506287,
          0.6618762937506287,
          0.6618762937506287,
          0.6618762937506287,
          0.6618762937506287,
          0.6618762937506287,
          0.6618762937506287,
          0.6618762937506287,
          0.6618762937506287,
          0.6618762937506287,
          0.6618762937506287,
          0.6618762937506287,
          0.6618762937506287,
          0.6618762937506287,
          0.6618762937506287,
          0.6618762937506287,
          0.6618762937506287,
          0.6618762937506287,
          0.6618762937506287,
          0.6618762937506287,
          0.6618762937506287,
          0.6618762937506287,
          0.6618762937506287,
          0.6618762937506287,
          0.6618762937506287,
          0.6618762937506287,
          0.6618762937506287,
          0.6618762937506287,
          0.6618762937506287,
          0.6618762937506287,
          0.6618762937506287,
          0.6618762937506287,
          0.6618762937506287
         ]
        }
       ],
       "layout": {
        "template": {
         "data": {
          "bar": [
           {
            "error_x": {
             "color": "#2a3f5f"
            },
            "error_y": {
             "color": "#2a3f5f"
            },
            "marker": {
             "line": {
              "color": "#E5ECF6",
              "width": 0.5
             }
            },
            "type": "bar"
           }
          ],
          "barpolar": [
           {
            "marker": {
             "line": {
              "color": "#E5ECF6",
              "width": 0.5
             }
            },
            "type": "barpolar"
           }
          ],
          "carpet": [
           {
            "aaxis": {
             "endlinecolor": "#2a3f5f",
             "gridcolor": "white",
             "linecolor": "white",
             "minorgridcolor": "white",
             "startlinecolor": "#2a3f5f"
            },
            "baxis": {
             "endlinecolor": "#2a3f5f",
             "gridcolor": "white",
             "linecolor": "white",
             "minorgridcolor": "white",
             "startlinecolor": "#2a3f5f"
            },
            "type": "carpet"
           }
          ],
          "choropleth": [
           {
            "colorbar": {
             "outlinewidth": 0,
             "ticks": ""
            },
            "type": "choropleth"
           }
          ],
          "contour": [
           {
            "colorbar": {
             "outlinewidth": 0,
             "ticks": ""
            },
            "colorscale": [
             [
              0,
              "#0d0887"
             ],
             [
              0.1111111111111111,
              "#46039f"
             ],
             [
              0.2222222222222222,
              "#7201a8"
             ],
             [
              0.3333333333333333,
              "#9c179e"
             ],
             [
              0.4444444444444444,
              "#bd3786"
             ],
             [
              0.5555555555555556,
              "#d8576b"
             ],
             [
              0.6666666666666666,
              "#ed7953"
             ],
             [
              0.7777777777777778,
              "#fb9f3a"
             ],
             [
              0.8888888888888888,
              "#fdca26"
             ],
             [
              1,
              "#f0f921"
             ]
            ],
            "type": "contour"
           }
          ],
          "contourcarpet": [
           {
            "colorbar": {
             "outlinewidth": 0,
             "ticks": ""
            },
            "type": "contourcarpet"
           }
          ],
          "heatmap": [
           {
            "colorbar": {
             "outlinewidth": 0,
             "ticks": ""
            },
            "colorscale": [
             [
              0,
              "#0d0887"
             ],
             [
              0.1111111111111111,
              "#46039f"
             ],
             [
              0.2222222222222222,
              "#7201a8"
             ],
             [
              0.3333333333333333,
              "#9c179e"
             ],
             [
              0.4444444444444444,
              "#bd3786"
             ],
             [
              0.5555555555555556,
              "#d8576b"
             ],
             [
              0.6666666666666666,
              "#ed7953"
             ],
             [
              0.7777777777777778,
              "#fb9f3a"
             ],
             [
              0.8888888888888888,
              "#fdca26"
             ],
             [
              1,
              "#f0f921"
             ]
            ],
            "type": "heatmap"
           }
          ],
          "heatmapgl": [
           {
            "colorbar": {
             "outlinewidth": 0,
             "ticks": ""
            },
            "colorscale": [
             [
              0,
              "#0d0887"
             ],
             [
              0.1111111111111111,
              "#46039f"
             ],
             [
              0.2222222222222222,
              "#7201a8"
             ],
             [
              0.3333333333333333,
              "#9c179e"
             ],
             [
              0.4444444444444444,
              "#bd3786"
             ],
             [
              0.5555555555555556,
              "#d8576b"
             ],
             [
              0.6666666666666666,
              "#ed7953"
             ],
             [
              0.7777777777777778,
              "#fb9f3a"
             ],
             [
              0.8888888888888888,
              "#fdca26"
             ],
             [
              1,
              "#f0f921"
             ]
            ],
            "type": "heatmapgl"
           }
          ],
          "histogram": [
           {
            "marker": {
             "colorbar": {
              "outlinewidth": 0,
              "ticks": ""
             }
            },
            "type": "histogram"
           }
          ],
          "histogram2d": [
           {
            "colorbar": {
             "outlinewidth": 0,
             "ticks": ""
            },
            "colorscale": [
             [
              0,
              "#0d0887"
             ],
             [
              0.1111111111111111,
              "#46039f"
             ],
             [
              0.2222222222222222,
              "#7201a8"
             ],
             [
              0.3333333333333333,
              "#9c179e"
             ],
             [
              0.4444444444444444,
              "#bd3786"
             ],
             [
              0.5555555555555556,
              "#d8576b"
             ],
             [
              0.6666666666666666,
              "#ed7953"
             ],
             [
              0.7777777777777778,
              "#fb9f3a"
             ],
             [
              0.8888888888888888,
              "#fdca26"
             ],
             [
              1,
              "#f0f921"
             ]
            ],
            "type": "histogram2d"
           }
          ],
          "histogram2dcontour": [
           {
            "colorbar": {
             "outlinewidth": 0,
             "ticks": ""
            },
            "colorscale": [
             [
              0,
              "#0d0887"
             ],
             [
              0.1111111111111111,
              "#46039f"
             ],
             [
              0.2222222222222222,
              "#7201a8"
             ],
             [
              0.3333333333333333,
              "#9c179e"
             ],
             [
              0.4444444444444444,
              "#bd3786"
             ],
             [
              0.5555555555555556,
              "#d8576b"
             ],
             [
              0.6666666666666666,
              "#ed7953"
             ],
             [
              0.7777777777777778,
              "#fb9f3a"
             ],
             [
              0.8888888888888888,
              "#fdca26"
             ],
             [
              1,
              "#f0f921"
             ]
            ],
            "type": "histogram2dcontour"
           }
          ],
          "mesh3d": [
           {
            "colorbar": {
             "outlinewidth": 0,
             "ticks": ""
            },
            "type": "mesh3d"
           }
          ],
          "parcoords": [
           {
            "line": {
             "colorbar": {
              "outlinewidth": 0,
              "ticks": ""
             }
            },
            "type": "parcoords"
           }
          ],
          "pie": [
           {
            "automargin": true,
            "type": "pie"
           }
          ],
          "scatter": [
           {
            "marker": {
             "colorbar": {
              "outlinewidth": 0,
              "ticks": ""
             }
            },
            "type": "scatter"
           }
          ],
          "scatter3d": [
           {
            "line": {
             "colorbar": {
              "outlinewidth": 0,
              "ticks": ""
             }
            },
            "marker": {
             "colorbar": {
              "outlinewidth": 0,
              "ticks": ""
             }
            },
            "type": "scatter3d"
           }
          ],
          "scattercarpet": [
           {
            "marker": {
             "colorbar": {
              "outlinewidth": 0,
              "ticks": ""
             }
            },
            "type": "scattercarpet"
           }
          ],
          "scattergeo": [
           {
            "marker": {
             "colorbar": {
              "outlinewidth": 0,
              "ticks": ""
             }
            },
            "type": "scattergeo"
           }
          ],
          "scattergl": [
           {
            "marker": {
             "colorbar": {
              "outlinewidth": 0,
              "ticks": ""
             }
            },
            "type": "scattergl"
           }
          ],
          "scattermapbox": [
           {
            "marker": {
             "colorbar": {
              "outlinewidth": 0,
              "ticks": ""
             }
            },
            "type": "scattermapbox"
           }
          ],
          "scatterpolar": [
           {
            "marker": {
             "colorbar": {
              "outlinewidth": 0,
              "ticks": ""
             }
            },
            "type": "scatterpolar"
           }
          ],
          "scatterpolargl": [
           {
            "marker": {
             "colorbar": {
              "outlinewidth": 0,
              "ticks": ""
             }
            },
            "type": "scatterpolargl"
           }
          ],
          "scatterternary": [
           {
            "marker": {
             "colorbar": {
              "outlinewidth": 0,
              "ticks": ""
             }
            },
            "type": "scatterternary"
           }
          ],
          "surface": [
           {
            "colorbar": {
             "outlinewidth": 0,
             "ticks": ""
            },
            "colorscale": [
             [
              0,
              "#0d0887"
             ],
             [
              0.1111111111111111,
              "#46039f"
             ],
             [
              0.2222222222222222,
              "#7201a8"
             ],
             [
              0.3333333333333333,
              "#9c179e"
             ],
             [
              0.4444444444444444,
              "#bd3786"
             ],
             [
              0.5555555555555556,
              "#d8576b"
             ],
             [
              0.6666666666666666,
              "#ed7953"
             ],
             [
              0.7777777777777778,
              "#fb9f3a"
             ],
             [
              0.8888888888888888,
              "#fdca26"
             ],
             [
              1,
              "#f0f921"
             ]
            ],
            "type": "surface"
           }
          ],
          "table": [
           {
            "cells": {
             "fill": {
              "color": "#EBF0F8"
             },
             "line": {
              "color": "white"
             }
            },
            "header": {
             "fill": {
              "color": "#C8D4E3"
             },
             "line": {
              "color": "white"
             }
            },
            "type": "table"
           }
          ]
         },
         "layout": {
          "annotationdefaults": {
           "arrowcolor": "#2a3f5f",
           "arrowhead": 0,
           "arrowwidth": 1
          },
          "autotypenumbers": "strict",
          "coloraxis": {
           "colorbar": {
            "outlinewidth": 0,
            "ticks": ""
           }
          },
          "colorscale": {
           "diverging": [
            [
             0,
             "#8e0152"
            ],
            [
             0.1,
             "#c51b7d"
            ],
            [
             0.2,
             "#de77ae"
            ],
            [
             0.3,
             "#f1b6da"
            ],
            [
             0.4,
             "#fde0ef"
            ],
            [
             0.5,
             "#f7f7f7"
            ],
            [
             0.6,
             "#e6f5d0"
            ],
            [
             0.7,
             "#b8e186"
            ],
            [
             0.8,
             "#7fbc41"
            ],
            [
             0.9,
             "#4d9221"
            ],
            [
             1,
             "#276419"
            ]
           ],
           "sequential": [
            [
             0,
             "#0d0887"
            ],
            [
             0.1111111111111111,
             "#46039f"
            ],
            [
             0.2222222222222222,
             "#7201a8"
            ],
            [
             0.3333333333333333,
             "#9c179e"
            ],
            [
             0.4444444444444444,
             "#bd3786"
            ],
            [
             0.5555555555555556,
             "#d8576b"
            ],
            [
             0.6666666666666666,
             "#ed7953"
            ],
            [
             0.7777777777777778,
             "#fb9f3a"
            ],
            [
             0.8888888888888888,
             "#fdca26"
            ],
            [
             1,
             "#f0f921"
            ]
           ],
           "sequentialminus": [
            [
             0,
             "#0d0887"
            ],
            [
             0.1111111111111111,
             "#46039f"
            ],
            [
             0.2222222222222222,
             "#7201a8"
            ],
            [
             0.3333333333333333,
             "#9c179e"
            ],
            [
             0.4444444444444444,
             "#bd3786"
            ],
            [
             0.5555555555555556,
             "#d8576b"
            ],
            [
             0.6666666666666666,
             "#ed7953"
            ],
            [
             0.7777777777777778,
             "#fb9f3a"
            ],
            [
             0.8888888888888888,
             "#fdca26"
            ],
            [
             1,
             "#f0f921"
            ]
           ]
          },
          "colorway": [
           "#636efa",
           "#EF553B",
           "#00cc96",
           "#ab63fa",
           "#FFA15A",
           "#19d3f3",
           "#FF6692",
           "#B6E880",
           "#FF97FF",
           "#FECB52"
          ],
          "font": {
           "color": "#2a3f5f"
          },
          "geo": {
           "bgcolor": "white",
           "lakecolor": "white",
           "landcolor": "#E5ECF6",
           "showlakes": true,
           "showland": true,
           "subunitcolor": "white"
          },
          "hoverlabel": {
           "align": "left"
          },
          "hovermode": "closest",
          "mapbox": {
           "style": "light"
          },
          "paper_bgcolor": "white",
          "plot_bgcolor": "#E5ECF6",
          "polar": {
           "angularaxis": {
            "gridcolor": "white",
            "linecolor": "white",
            "ticks": ""
           },
           "bgcolor": "#E5ECF6",
           "radialaxis": {
            "gridcolor": "white",
            "linecolor": "white",
            "ticks": ""
           }
          },
          "scene": {
           "xaxis": {
            "backgroundcolor": "#E5ECF6",
            "gridcolor": "white",
            "gridwidth": 2,
            "linecolor": "white",
            "showbackground": true,
            "ticks": "",
            "zerolinecolor": "white"
           },
           "yaxis": {
            "backgroundcolor": "#E5ECF6",
            "gridcolor": "white",
            "gridwidth": 2,
            "linecolor": "white",
            "showbackground": true,
            "ticks": "",
            "zerolinecolor": "white"
           },
           "zaxis": {
            "backgroundcolor": "#E5ECF6",
            "gridcolor": "white",
            "gridwidth": 2,
            "linecolor": "white",
            "showbackground": true,
            "ticks": "",
            "zerolinecolor": "white"
           }
          },
          "shapedefaults": {
           "line": {
            "color": "#2a3f5f"
           }
          },
          "ternary": {
           "aaxis": {
            "gridcolor": "white",
            "linecolor": "white",
            "ticks": ""
           },
           "baxis": {
            "gridcolor": "white",
            "linecolor": "white",
            "ticks": ""
           },
           "bgcolor": "#E5ECF6",
           "caxis": {
            "gridcolor": "white",
            "linecolor": "white",
            "ticks": ""
           }
          },
          "title": {
           "x": 0.05
          },
          "xaxis": {
           "automargin": true,
           "gridcolor": "white",
           "linecolor": "white",
           "ticks": "",
           "title": {
            "standoff": 15
           },
           "zerolinecolor": "white",
           "zerolinewidth": 2
          },
          "yaxis": {
           "automargin": true,
           "gridcolor": "white",
           "linecolor": "white",
           "ticks": "",
           "title": {
            "standoff": 15
           },
           "zerolinecolor": "white",
           "zerolinewidth": 2
          }
         }
        },
        "title": {
         "text": "Kaplan Meier Survival Function"
        },
        "xaxis": {
         "title": {
          "text": "Duration"
         }
        },
        "yaxis": {
         "title": {
          "text": "Survival Probability"
         }
        }
       }
      }
     },
     "metadata": {},
     "output_type": "display_data"
    }
   ],
   "source": [
    "\n",
    "fig = go.Figure()\n",
    "\n",
    "fig.add_trace(go.Scatter(\n",
    "    x=kmf.survival_function_.index, y=kmf.survival_function_['KM_estimate'],\n",
    "    line=dict(shape='hv', width=3, color='rgb(31, 119, 180)'),\n",
    "    showlegend=False\n",
    "))\n",
    "\n",
    "fig.add_trace(go.Scatter(\n",
    "    x=kmf.confidence_interval_.index, \n",
    "    y=kmf.confidence_interval_['KM_estimate_upper_0.95'],\n",
    "    line=dict(shape='hv', width=0),\n",
    "    showlegend=False,\n",
    "))\n",
    "\n",
    "fig.add_trace(go.Scatter(\n",
    "    x=kmf.confidence_interval_.index,\n",
    "    y=kmf.confidence_interval_['KM_estimate_lower_0.95'],\n",
    "    line=dict(shape='hv', width=0),\n",
    "    fill='tonexty',\n",
    "    fillcolor='rgba(31, 119, 180, 0.4)',\n",
    "    showlegend=False\n",
    "))\n",
    "\n",
    "fig.update_layout(\n",
    "    title= \"Kaplan Meier Survival Function\",\n",
    "    xaxis_title=\"Duration\",\n",
    "    yaxis_title=\"Survival Probability\"\n",
    ")\n",
    "fig.write_image(path +\"/assets/images/CI_surv.png\", scale = 5)\n",
    "fig.show()"
   ]
  },
  {
   "cell_type": "markdown",
   "metadata": {},
   "source": [
    "## Log Rank Test"
   ]
  },
  {
   "cell_type": "code",
   "execution_count": 49,
   "metadata": {},
   "outputs": [
    {
     "data": {
      "application/vnd.plotly.v1+json": {
       "config": {
        "plotlyServerURL": "https://plot.ly"
       },
       "data": [
        {
         "line": {
          "color": "rgb(31, 119, 180)",
          "shape": "hv",
          "width": 3
         },
         "showlegend": false,
         "type": "scatter",
         "x": [
          0,
          1,
          3,
          5,
          7,
          9,
          10,
          13,
          14,
          17,
          20,
          21,
          26,
          32,
          33,
          43,
          44,
          50,
          51,
          52,
          57,
          62,
          68,
          78,
          79,
          82,
          88,
          91,
          93,
          97,
          98,
          104,
          106,
          112,
          116,
          121,
          143,
          150,
          152,
          154,
          158,
          162,
          167,
          172,
          183,
          186,
          190,
          193,
          200,
          206,
          223,
          228,
          229,
          231,
          238,
          243,
          249,
          250,
          252,
          253,
          256,
          259,
          261,
          271,
          273,
          277,
          280,
          283,
          312,
          316,
          331,
          337,
          340,
          341,
          344,
          346,
          347,
          370,
          387,
          388,
          391,
          392,
          403,
          406,
          410,
          414,
          417,
          421,
          428,
          432,
          448,
          450,
          452,
          459,
          485,
          490,
          499,
          507,
          512,
          535,
          545,
          549,
          570,
          572,
          579,
          582,
          593,
          596,
          604,
          614,
          621,
          625,
          631,
          642,
          646,
          652,
          654,
          655,
          659,
          660,
          661,
          663,
          670,
          671,
          675,
          678,
          692,
          715,
          719,
          734,
          753,
          757,
          759,
          772,
          776,
          777,
          790,
          806,
          852,
          863,
          864,
          868,
          899,
          900,
          903,
          909,
          915,
          929,
          939,
          946,
          961,
          963,
          968,
          995,
          1001,
          1002,
          1016,
          1028,
          1050,
          1051,
          1058,
          1092,
          1105,
          1109,
          1110,
          1114,
          1122,
          1124,
          1125,
          1149,
          1151,
          1154,
          1165,
          1186,
          1191,
          1196,
          1210,
          1224,
          1229,
          1232,
          1252,
          1254,
          1269,
          1274,
          1291,
          1297,
          1302,
          1315,
          1316,
          1326,
          1350,
          1357,
          1383,
          1386,
          1418,
          1427,
          1428,
          1435,
          1449,
          1450,
          1457,
          1463,
          1473,
          1497,
          1522,
          1527,
          1541,
          1567,
          1578,
          1594,
          1606,
          1610,
          1617,
          1623,
          1655,
          1674,
          1698,
          1699,
          1700,
          1702,
          1707,
          1717,
          1718,
          1734,
          1739,
          1745,
          1778,
          1785,
          1786,
          1791,
          1795,
          1802,
          1808,
          1815,
          1839,
          1875,
          1893,
          1900,
          1937,
          1939,
          1942,
          1947,
          1966,
          1973,
          1975,
          1988,
          1995,
          2014,
          2016,
          2025,
          2026,
          2032,
          2034,
          2035,
          2038,
          2048,
          2049,
          2060,
          2094,
          2096,
          2098,
          2102,
          2129,
          2171,
          2193,
          2211,
          2221,
          2223,
          2236,
          2252,
          2253,
          2271,
          2291,
          2301,
          2312,
          2313,
          2330,
          2332,
          2335,
          2392,
          2405,
          2414,
          2418,
          2421,
          2425,
          2430,
          2433,
          2434,
          2451,
          2455,
          2462,
          2489,
          2497,
          2516,
          2529,
          2531,
          2533,
          2557,
          2567,
          2575,
          2585,
          2625,
          2638,
          2646,
          2654,
          2659,
          2696,
          2700,
          2705,
          2712,
          2716,
          2726,
          2740,
          2741,
          2750,
          2759,
          2761,
          2768,
          2783,
          2789,
          2812,
          2846,
          2870,
          2871,
          2876,
          2906,
          2909,
          2935,
          2948,
          2957,
          2961,
          2994,
          3007,
          3045,
          3060,
          3063,
          3072,
          3084,
          3096,
          3106,
          3110,
          3116,
          3124,
          3131,
          3142,
          3145,
          3161,
          3172,
          3173,
          3175,
          3179,
          3187,
          3215,
          3229,
          3255,
          3260,
          3287,
          3301,
          3319,
          3360,
          3372,
          3379,
          3420,
          3430,
          3434
         ],
         "y": [
          1,
          1,
          0.9977220956719819,
          0.9977220956719819,
          0.9931558618245131,
          0.9931558618245131,
          0.9908674842627051,
          0.9908674842627051,
          0.9908674842627051,
          0.9908674842627051,
          0.9908674842627051,
          0.9885577698471741,
          0.9862480554316437,
          0.9862480554316437,
          0.9862480554316437,
          0.9839219986971348,
          0.9815904299798425,
          0.9792588612625509,
          0.9792588612625509,
          0.976916136714076,
          0.9745734121656009,
          0.9722306876171255,
          0.9675339210102799,
          0.9651855377068562,
          0.9651855377068562,
          0.9651855377068562,
          0.9628198868791431,
          0.9604542360514305,
          0.9604542360514305,
          0.9580709749197898,
          0.9556877137881485,
          0.9533044526565069,
          0.9509152184393224,
          0.9509152184393224,
          0.9509152184393224,
          0.948501728037192,
          0.9460820807717913,
          0.9436624335063905,
          0.9436624335063905,
          0.9412303138324049,
          0.9387981941584193,
          0.9387981941584193,
          0.9387981941584193,
          0.9387981941584193,
          0.9387981941584193,
          0.9387981941584193,
          0.9363276725948444,
          0.9363276725948444,
          0.9363276725948444,
          0.9338374394230493,
          0.9338374394230493,
          0.9313405478737898,
          0.9288436563245297,
          0.9288436563245297,
          0.9288436563245297,
          0.9288436563245297,
          0.9263264648439758,
          0.9263264648439758,
          0.9238024145310487,
          0.9238024145310487,
          0.9238024145310487,
          0.9238024145310487,
          0.9238024145310487,
          0.9238024145310487,
          0.9212362967129065,
          0.9212362967129065,
          0.9212362967129065,
          0.9212362967129065,
          0.9212362967129065,
          0.9212362967129065,
          0.9212362967129065,
          0.9212362967129065,
          0.9185966511635862,
          0.9185966511635862,
          0.9159340521747057,
          0.9132714531858255,
          0.9132714531858255,
          0.9132714531858255,
          0.9132714531858255,
          0.9132714531858255,
          0.9105694666379383,
          0.9105694666379383,
          0.9105694666379383,
          0.9105694666379383,
          0.9105694666379383,
          0.9105694666379383,
          0.9105694666379383,
          0.9078185014819322,
          0.9078185014819322,
          0.9078185014819322,
          0.9078185014819322,
          0.9050252137850645,
          0.9050252137850645,
          0.9050252137850645,
          0.9050252137850645,
          0.9022058205957029,
          0.9022058205957029,
          0.9022058205957029,
          0.9022058205957029,
          0.9022058205957029,
          0.9022058205957029,
          0.9022058205957029,
          0.8992860606584991,
          0.8992860606584991,
          0.8992860606584991,
          0.8992860606584991,
          0.8992860606584991,
          0.8992860606584991,
          0.8992860606584991,
          0.896298399327408,
          0.8933107379963171,
          0.8933107379963171,
          0.8933107379963171,
          0.8933107379963171,
          0.8933107379963171,
          0.8933107379963171,
          0.8933107379963171,
          0.8933107379963171,
          0.8933107379963171,
          0.8933107379963171,
          0.8933107379963171,
          0.8933107379963171,
          0.8933107379963171,
          0.8933107379963171,
          0.8933107379963171,
          0.8933107379963171,
          0.8933107379963171,
          0.8933107379963171,
          0.8933107379963171,
          0.8933107379963171,
          0.8933107379963171,
          0.8933107379963171,
          0.8933107379963171,
          0.8933107379963171,
          0.8900741048876355,
          0.8900741048876355,
          0.8868137601810878,
          0.8835534154745394,
          0.8802930707679913,
          0.8802930707679913,
          0.8802930707679913,
          0.8802930707679913,
          0.8802930707679913,
          0.8802930707679913,
          0.8802930707679913,
          0.8802930707679913,
          0.8802930707679913,
          0.8769203003819067,
          0.8735475299958223,
          0.8701747596097383,
          0.8701747596097383,
          0.8701747596097383,
          0.8701747596097383,
          0.8701747596097383,
          0.8667488747293851,
          0.8667488747293851,
          0.8667488747293851,
          0.8667488747293851,
          0.8667488747293851,
          0.8667488747293851,
          0.8667488747293851,
          0.8667488747293851,
          0.8632255053199167,
          0.8632255053199167,
          0.8632255053199167,
          0.8632255053199167,
          0.8632255053199167,
          0.8632255053199167,
          0.8632255053199167,
          0.8632255053199167,
          0.8632255053199167,
          0.8632255053199167,
          0.8632255053199167,
          0.8595206748249817,
          0.8558158443300462,
          0.8558158443300462,
          0.8520949058764374,
          0.8520949058764374,
          0.8520949058764374,
          0.8520949058764374,
          0.8520949058764374,
          0.8520949058764374,
          0.8520949058764374,
          0.8520949058764374,
          0.8520949058764374,
          0.8520949058764374,
          0.8520949058764374,
          0.8520949058764374,
          0.8520949058764374,
          0.8480565413936104,
          0.8480565413936104,
          0.8439988545926841,
          0.8439988545926841,
          0.8439988545926841,
          0.8398412247671048,
          0.8398412247671048,
          0.8398412247671048,
          0.8398412247671048,
          0.8398412247671048,
          0.8398412247671048,
          0.8398412247671048,
          0.8398412247671048,
          0.8355121462889238,
          0.8355121462889238,
          0.8355121462889238,
          0.8355121462889238,
          0.8355121462889238,
          0.8355121462889238,
          0.8355121462889238,
          0.8355121462889238,
          0.8355121462889238,
          0.8355121462889238,
          0.8355121462889238,
          0.8355121462889238,
          0.8355121462889238,
          0.8355121462889238,
          0.8355121462889238,
          0.8355121462889238,
          0.8355121462889238,
          0.8355121462889238,
          0.8355121462889238,
          0.8355121462889238,
          0.8355121462889238,
          0.830568287435143,
          0.830568287435143,
          0.830568287435143,
          0.830568287435143,
          0.830568287435143,
          0.830568287435143,
          0.830568287435143,
          0.830568287435143,
          0.830568287435143,
          0.830568287435143,
          0.830568287435143,
          0.830568287435143,
          0.830568287435143,
          0.830568287435143,
          0.830568287435143,
          0.830568287435143,
          0.830568287435143,
          0.830568287435143,
          0.830568287435143,
          0.830568287435143,
          0.830568287435143,
          0.830568287435143,
          0.830568287435143,
          0.830568287435143,
          0.830568287435143,
          0.830568287435143,
          0.830568287435143,
          0.830568287435143,
          0.830568287435143,
          0.830568287435143,
          0.830568287435143,
          0.830568287435143,
          0.830568287435143,
          0.830568287435143,
          0.830568287435143,
          0.830568287435143,
          0.830568287435143,
          0.830568287435143,
          0.830568287435143,
          0.830568287435143,
          0.8235887219945116,
          0.8235887219945116,
          0.8235887219945116,
          0.8235887219945116,
          0.8235887219945116,
          0.8235887219945116,
          0.8235887219945116,
          0.8235887219945116,
          0.8235887219945116,
          0.8235887219945116,
          0.815819017070035,
          0.815819017070035,
          0.815819017070035,
          0.815819017070035,
          0.815819017070035,
          0.815819017070035,
          0.815819017070035,
          0.815819017070035,
          0.8073209023088889,
          0.8073209023088889,
          0.7987323820715606,
          0.7987323820715606,
          0.7987323820715606,
          0.7987323820715606,
          0.7987323820715606,
          0.7987323820715606,
          0.7987323820715606,
          0.7987323820715606,
          0.7888714884657383,
          0.7888714884657383,
          0.7888714884657383,
          0.7888714884657383,
          0.7888714884657383,
          0.7888714884657383,
          0.7782110629459306,
          0.7675506374261234,
          0.7675506374261234,
          0.7675506374261234,
          0.7675506374261234,
          0.7675506374261234,
          0.7675506374261234,
          0.7675506374261234,
          0.7675506374261234,
          0.7675506374261234,
          0.7675506374261234,
          0.7675506374261234,
          0.7675506374261234,
          0.7675506374261234,
          0.7675506374261234,
          0.7675506374261234,
          0.7675506374261234,
          0.7675506374261234,
          0.7675506374261234,
          0.7675506374261234,
          0.7675506374261234,
          0.7675506374261234,
          0.7675506374261234,
          0.7675506374261234,
          0.7675506374261234,
          0.7675506374261234,
          0.7675506374261234,
          0.7675506374261234,
          0.7675506374261234,
          0.7675506374261234,
          0.7675506374261234,
          0.7675506374261234,
          0.7675506374261234,
          0.7675506374261234,
          0.7675506374261234,
          0.7675506374261234,
          0.7675506374261234,
          0.7675506374261234,
          0.7675506374261234,
          0.7675506374261234,
          0.7675506374261234,
          0.7675506374261234,
          0.7675506374261234,
          0.7675506374261234,
          0.7675506374261234,
          0.7675506374261234,
          0.7675506374261234,
          0.7675506374261234,
          0.7675506374261234,
          0.7675506374261234,
          0.7675506374261234,
          0.7675506374261234,
          0.7675506374261234,
          0.7675506374261234,
          0.7675506374261234,
          0.7675506374261234,
          0.7675506374261234,
          0.7675506374261234,
          0.7675506374261234,
          0.7675506374261234,
          0.7675506374261234,
          0.7675506374261234,
          0.7675506374261234,
          0.7675506374261234,
          0.7675506374261234,
          0.7675506374261234,
          0.7675506374261234,
          0.7675506374261234
         ]
        },
        {
         "line": {
          "color": "rgb(255,0,0)",
          "shape": "hv",
          "width": 3
         },
         "showlegend": false,
         "type": "scatter",
         "x": [
          0,
          1,
          2,
          5,
          9,
          10,
          13,
          17,
          20,
          26,
          28,
          32,
          37,
          40,
          43,
          45,
          48,
          51,
          56,
          57,
          59,
          62,
          66,
          67,
          69,
          79,
          80,
          82,
          87,
          98,
          105,
          106,
          112,
          114,
          115,
          116,
          118,
          119,
          121,
          124,
          135,
          141,
          142,
          144,
          150,
          162,
          167,
          173,
          198,
          205,
          209,
          211,
          215,
          224,
          231,
          236,
          238,
          239,
          242,
          246,
          248,
          250,
          251,
          253,
          257,
          260,
          261,
          269,
          271,
          284,
          289,
          291,
          297,
          306,
          311,
          312,
          316,
          334,
          338,
          341,
          354,
          361,
          366,
          367,
          370,
          377,
          386,
          392,
          399,
          402,
          424,
          428,
          439,
          442,
          443,
          448,
          452,
          470,
          478,
          479,
          481,
          486,
          494,
          495,
          512,
          535,
          543,
          563,
          583,
          590,
          615,
          630,
          633,
          642,
          652,
          654,
          663,
          670,
          673,
          693,
          697,
          701,
          723,
          725,
          730,
          731,
          750,
          753,
          757,
          762,
          772,
          773,
          777,
          793,
          834,
          835,
          840,
          863,
          864,
          875,
          879,
          887,
          888,
          890,
          899,
          907,
          909,
          915,
          920,
          932,
          934,
          943,
          945,
          951,
          953,
          965,
          992,
          995,
          1012,
          1013,
          1016,
          1058,
          1072,
          1086,
          1092,
          1110,
          1114,
          1115,
          1118,
          1124,
          1125,
          1128,
          1145,
          1154,
          1164,
          1178,
          1196,
          1208,
          1230,
          1242,
          1252,
          1256,
          1275,
          1291,
          1297,
          1299,
          1304,
          1309,
          1313,
          1331,
          1350,
          1352,
          1365,
          1368,
          1384,
          1388,
          1395,
          1429,
          1449,
          1450,
          1457,
          1470,
          1497,
          1500,
          1508,
          1509,
          1567,
          1571,
          1586,
          1594,
          1605,
          1610,
          1611,
          1624,
          1638,
          1641,
          1668,
          1673,
          1674,
          1681,
          1700,
          1702,
          1707,
          1717,
          1732,
          1736,
          1739,
          1746,
          1749,
          1770,
          1777,
          1778,
          1786,
          1795,
          1802,
          1803,
          1808,
          1815,
          1820,
          1835,
          1861,
          1877,
          1914,
          1920,
          1940,
          1947,
          1959,
          1962,
          1980,
          1989,
          1995,
          2001,
          2025,
          2034,
          2041,
          2043,
          2049,
          2056,
          2060,
          2083,
          2090,
          2094,
          2095,
          2102,
          2108,
          2109,
          2135,
          2147,
          2190,
          2223,
          2233,
          2252,
          2264,
          2267,
          2268,
          2270,
          2276,
          2291,
          2313,
          2335,
          2356,
          2367,
          2369,
          2384,
          2413,
          2421,
          2463,
          2486,
          2488,
          2504,
          2529,
          2556,
          2589,
          2598,
          2601,
          2607,
          2630,
          2632,
          2638,
          2650,
          2654,
          2659,
          2663,
          2670,
          2680,
          2688,
          2690,
          2701,
          2714,
          2716,
          2726,
          2762,
          2765,
          2789,
          2795,
          2815,
          2827,
          2831,
          2867,
          2889,
          2900,
          2909,
          2918,
          2922,
          2936,
          2948,
          2955,
          2993,
          2994,
          2999,
          3019,
          3028,
          3042,
          3063,
          3072,
          3077,
          3078,
          3084,
          3086,
          3102,
          3130,
          3145,
          3146,
          3147,
          3172,
          3186,
          3187,
          3202,
          3211,
          3224,
          3255,
          3265,
          3281,
          3289,
          3300,
          3304,
          3325,
          3361,
          3402,
          3412,
          3425
         ],
         "y": [
          1,
          1,
          0.997630331753554,
          0.997630331753554,
          0.997630331753554,
          0.9952493524414933,
          0.9952493524414933,
          0.9928626633469093,
          0.9928626633469093,
          0.9904702231942664,
          0.9880777830416239,
          0.9880777830416239,
          0.9856795359954056,
          0.9832812889491889,
          0.9808830419029714,
          0.9784730098589841,
          0.9784730098589841,
          0.9784730098589841,
          0.976045037129806,
          0.9736170644006273,
          0.9711890916714483,
          0.9687611189422702,
          0.9687611189422702,
          0.9687611189422702,
          0.9663147524802949,
          0.9638683860183194,
          0.9638683860183194,
          0.9638683860183194,
          0.9638683860183194,
          0.961396928618272,
          0.961396928618272,
          0.9589126988285607,
          0.9589126988285607,
          0.9589126988285607,
          0.9589126988285607,
          0.9589126988285607,
          0.9589126988285607,
          0.9563825861667442,
          0.9563825861667442,
          0.9563825861667442,
          0.9538322326036334,
          0.9538322326036334,
          0.9538322326036334,
          0.9538322326036334,
          0.9538322326036334,
          0.9512543076506508,
          0.9512543076506508,
          0.9512543076506508,
          0.9512543076506508,
          0.9512543076506508,
          0.9486337723678673,
          0.9486337723678673,
          0.9486337723678673,
          0.9486337723678673,
          0.9486337723678673,
          0.9486337723678673,
          0.9486337723678673,
          0.9486337723678673,
          0.9459540159487491,
          0.9459540159487491,
          0.9432589902622853,
          0.9432589902622853,
          0.9432589902622853,
          0.9432589902622853,
          0.9432589902622853,
          0.9432589902622853,
          0.9432589902622853,
          0.9432589902622853,
          0.9432589902622853,
          0.9432589902622853,
          0.9432589902622853,
          0.9404765153647568,
          0.9376940404672278,
          0.9376940404672278,
          0.9320958670913043,
          0.9320958670913043,
          0.9320958670913043,
          0.929279867492841,
          0.929279867492841,
          0.929279867492841,
          0.9264466971651185,
          0.9264466971651185,
          0.9236048361308695,
          0.9236048361308695,
          0.9236048361308695,
          0.9236048361308695,
          0.9236048361308695,
          0.9236048361308695,
          0.9236048361308695,
          0.9207095231649423,
          0.9207095231649423,
          0.9207095231649423,
          0.9177958854334075,
          0.9177958854334075,
          0.9177958854334075,
          0.9177958854334075,
          0.9177958854334075,
          0.9148447732615963,
          0.9118936610897849,
          0.9118936610897849,
          0.908932967384948,
          0.908932967384948,
          0.908932967384948,
          0.9059528592951612,
          0.9059528592951612,
          0.9059528592951612,
          0.9059528592951612,
          0.9059528592951612,
          0.9029330164308444,
          0.9029330164308444,
          0.8999030398656404,
          0.8999030398656404,
          0.8999030398656404,
          0.8999030398656404,
          0.8968421451722203,
          0.8968421451722203,
          0.8968421451722203,
          0.8968421451722203,
          0.8968421451722203,
          0.8968421451722203,
          0.8937172596489716,
          0.8937172596489716,
          0.8937172596489716,
          0.8937172596489716,
          0.8905592481307776,
          0.8905592481307776,
          0.8905592481307776,
          0.8905592481307776,
          0.8905592481307776,
          0.8905592481307776,
          0.8905592481307776,
          0.8873090318967235,
          0.8873090318967235,
          0.8840348288269939,
          0.8840348288269939,
          0.8840348288269939,
          0.8807361914059979,
          0.8807361914059979,
          0.8774251530924414,
          0.8740889357803024,
          0.8740889357803024,
          0.8740889357803024,
          0.8740889357803024,
          0.8740889357803024,
          0.8740889357803024,
          0.8740889357803024,
          0.8740889357803024,
          0.8740889357803024,
          0.8740889357803024,
          0.8740889357803024,
          0.8740889357803024,
          0.8705925800371813,
          0.8635998685509394,
          0.8635998685509394,
          0.8635998685509394,
          0.8635998685509394,
          0.8635998685509394,
          0.8635998685509394,
          0.8635998685509394,
          0.8599864799795965,
          0.8563730914082537,
          0.8563730914082537,
          0.8563730914082537,
          0.8563730914082537,
          0.8563730914082537,
          0.8563730914082537,
          0.8563730914082537,
          0.8563730914082537,
          0.8563730914082537,
          0.8563730914082537,
          0.8563730914082537,
          0.8563730914082537,
          0.8563730914082537,
          0.8563730914082537,
          0.8525328533301896,
          0.8525328533301896,
          0.8486752386092391,
          0.8486752386092391,
          0.8486752386092391,
          0.8486752386092391,
          0.8486752386092391,
          0.8486752386092391,
          0.844653081080285,
          0.844653081080285,
          0.844653081080285,
          0.844653081080285,
          0.844653081080285,
          0.844653081080285,
          0.844653081080285,
          0.8405126248004798,
          0.8405126248004798,
          0.8405126248004798,
          0.8405126248004798,
          0.8405126248004798,
          0.8362676115439118,
          0.8320225982873434,
          0.8320225982873434,
          0.8320225982873434,
          0.8320225982873434,
          0.8320225982873434,
          0.8320225982873434,
          0.8320225982873434,
          0.8320225982873434,
          0.8320225982873434,
          0.8320225982873434,
          0.8275493585116043,
          0.8275493585116043,
          0.8275493585116043,
          0.8275493585116043,
          0.8275493585116043,
          0.8275493585116043,
          0.8275493585116043,
          0.8275493585116043,
          0.8275493585116043,
          0.8275493585116043,
          0.8275493585116043,
          0.8275493585116043,
          0.8275493585116043,
          0.8275493585116043,
          0.8275493585116043,
          0.8275493585116043,
          0.8275493585116043,
          0.8275493585116043,
          0.8275493585116043,
          0.8275493585116043,
          0.8275493585116043,
          0.8275493585116043,
          0.8275493585116043,
          0.8275493585116043,
          0.8275493585116043,
          0.8219578087919314,
          0.8219578087919314,
          0.8219578087919314,
          0.8219578087919314,
          0.8219578087919314,
          0.8219578087919314,
          0.8219578087919314,
          0.8219578087919314,
          0.8160444432610547,
          0.8101310777301773,
          0.8101310777301773,
          0.8041301067840275,
          0.8041301067840275,
          0.8041301067840275,
          0.7979917090223175,
          0.7979917090223175,
          0.7979917090223175,
          0.7979917090223175,
          0.7979917090223175,
          0.7979917090223175,
          0.7979917090223175,
          0.7979917090223175,
          0.7979917090223175,
          0.7913417781137985,
          0.7913417781137985,
          0.7913417781137985,
          0.7913417781137985,
          0.7845198662335073,
          0.7845198662335073,
          0.7845198662335073,
          0.7845198662335073,
          0.7845198662335073,
          0.7845198662335073,
          0.7845198662335073,
          0.7771879048668392,
          0.7771879048668392,
          0.7771879048668392,
          0.7771879048668392,
          0.7771879048668392,
          0.7771879048668392,
          0.7771879048668392,
          0.7771879048668392,
          0.7771879048668392,
          0.7771879048668392,
          0.7771879048668392,
          0.7771879048668392,
          0.7688310456747225,
          0.7604741864826056,
          0.7520244732994654,
          0.7520244732994654,
          0.7520244732994654,
          0.7520244732994654,
          0.7430718009982817,
          0.7430718009982817,
          0.7430718009982817,
          0.7430718009982817,
          0.7430718009982817,
          0.7430718009982817,
          0.7430718009982817,
          0.7430718009982817,
          0.7430718009982817,
          0.7430718009982817,
          0.7430718009982817,
          0.7430718009982817,
          0.7430718009982817,
          0.7430718009982817,
          0.7430718009982817,
          0.7430718009982817,
          0.7430718009982817,
          0.7316399271367697,
          0.7316399271367697,
          0.7316399271367697,
          0.7316399271367697,
          0.7316399271367697,
          0.7316399271367697,
          0.7316399271367697,
          0.7316399271367697,
          0.7316399271367697,
          0.7316399271367697,
          0.7316399271367697,
          0.7316399271367697,
          0.7316399271367697,
          0.7316399271367697,
          0.7316399271367697,
          0.7167085000523461,
          0.7167085000523461,
          0.7167085000523461,
          0.7167085000523461,
          0.7167085000523461,
          0.7167085000523461,
          0.7167085000523461,
          0.7167085000523461,
          0.7167085000523461,
          0.7167085000523461,
          0.7167085000523461,
          0.7167085000523461,
          0.7167085000523461,
          0.7167085000523461,
          0.7167085000523461,
          0.7167085000523461,
          0.7167085000523461,
          0.7167085000523461,
          0.7167085000523461,
          0.7167085000523461,
          0.7167085000523461,
          0.7167085000523461,
          0.7167085000523461,
          0.7167085000523461,
          0.7167085000523461,
          0.7167085000523461,
          0.7167085000523461,
          0.7167085000523461,
          0.6808730750497287,
          0.6808730750497287,
          0.6808730750497287,
          0.6808730750497287,
          0.6808730750497287,
          0.6808730750497287,
          0.6808730750497287,
          0.6808730750497287,
          0.6808730750497287,
          0.6808730750497287,
          0.6808730750497287,
          0.6808730750497287,
          0.6808730750497287,
          0.6808730750497287,
          0.6808730750497287,
          0.6808730750497287,
          0.6808730750497287,
          0.6808730750497287,
          0.6808730750497287
         ]
        }
       ],
       "layout": {
        "template": {
         "data": {
          "bar": [
           {
            "error_x": {
             "color": "#2a3f5f"
            },
            "error_y": {
             "color": "#2a3f5f"
            },
            "marker": {
             "line": {
              "color": "#E5ECF6",
              "width": 0.5
             }
            },
            "type": "bar"
           }
          ],
          "barpolar": [
           {
            "marker": {
             "line": {
              "color": "#E5ECF6",
              "width": 0.5
             }
            },
            "type": "barpolar"
           }
          ],
          "carpet": [
           {
            "aaxis": {
             "endlinecolor": "#2a3f5f",
             "gridcolor": "white",
             "linecolor": "white",
             "minorgridcolor": "white",
             "startlinecolor": "#2a3f5f"
            },
            "baxis": {
             "endlinecolor": "#2a3f5f",
             "gridcolor": "white",
             "linecolor": "white",
             "minorgridcolor": "white",
             "startlinecolor": "#2a3f5f"
            },
            "type": "carpet"
           }
          ],
          "choropleth": [
           {
            "colorbar": {
             "outlinewidth": 0,
             "ticks": ""
            },
            "type": "choropleth"
           }
          ],
          "contour": [
           {
            "colorbar": {
             "outlinewidth": 0,
             "ticks": ""
            },
            "colorscale": [
             [
              0,
              "#0d0887"
             ],
             [
              0.1111111111111111,
              "#46039f"
             ],
             [
              0.2222222222222222,
              "#7201a8"
             ],
             [
              0.3333333333333333,
              "#9c179e"
             ],
             [
              0.4444444444444444,
              "#bd3786"
             ],
             [
              0.5555555555555556,
              "#d8576b"
             ],
             [
              0.6666666666666666,
              "#ed7953"
             ],
             [
              0.7777777777777778,
              "#fb9f3a"
             ],
             [
              0.8888888888888888,
              "#fdca26"
             ],
             [
              1,
              "#f0f921"
             ]
            ],
            "type": "contour"
           }
          ],
          "contourcarpet": [
           {
            "colorbar": {
             "outlinewidth": 0,
             "ticks": ""
            },
            "type": "contourcarpet"
           }
          ],
          "heatmap": [
           {
            "colorbar": {
             "outlinewidth": 0,
             "ticks": ""
            },
            "colorscale": [
             [
              0,
              "#0d0887"
             ],
             [
              0.1111111111111111,
              "#46039f"
             ],
             [
              0.2222222222222222,
              "#7201a8"
             ],
             [
              0.3333333333333333,
              "#9c179e"
             ],
             [
              0.4444444444444444,
              "#bd3786"
             ],
             [
              0.5555555555555556,
              "#d8576b"
             ],
             [
              0.6666666666666666,
              "#ed7953"
             ],
             [
              0.7777777777777778,
              "#fb9f3a"
             ],
             [
              0.8888888888888888,
              "#fdca26"
             ],
             [
              1,
              "#f0f921"
             ]
            ],
            "type": "heatmap"
           }
          ],
          "heatmapgl": [
           {
            "colorbar": {
             "outlinewidth": 0,
             "ticks": ""
            },
            "colorscale": [
             [
              0,
              "#0d0887"
             ],
             [
              0.1111111111111111,
              "#46039f"
             ],
             [
              0.2222222222222222,
              "#7201a8"
             ],
             [
              0.3333333333333333,
              "#9c179e"
             ],
             [
              0.4444444444444444,
              "#bd3786"
             ],
             [
              0.5555555555555556,
              "#d8576b"
             ],
             [
              0.6666666666666666,
              "#ed7953"
             ],
             [
              0.7777777777777778,
              "#fb9f3a"
             ],
             [
              0.8888888888888888,
              "#fdca26"
             ],
             [
              1,
              "#f0f921"
             ]
            ],
            "type": "heatmapgl"
           }
          ],
          "histogram": [
           {
            "marker": {
             "colorbar": {
              "outlinewidth": 0,
              "ticks": ""
             }
            },
            "type": "histogram"
           }
          ],
          "histogram2d": [
           {
            "colorbar": {
             "outlinewidth": 0,
             "ticks": ""
            },
            "colorscale": [
             [
              0,
              "#0d0887"
             ],
             [
              0.1111111111111111,
              "#46039f"
             ],
             [
              0.2222222222222222,
              "#7201a8"
             ],
             [
              0.3333333333333333,
              "#9c179e"
             ],
             [
              0.4444444444444444,
              "#bd3786"
             ],
             [
              0.5555555555555556,
              "#d8576b"
             ],
             [
              0.6666666666666666,
              "#ed7953"
             ],
             [
              0.7777777777777778,
              "#fb9f3a"
             ],
             [
              0.8888888888888888,
              "#fdca26"
             ],
             [
              1,
              "#f0f921"
             ]
            ],
            "type": "histogram2d"
           }
          ],
          "histogram2dcontour": [
           {
            "colorbar": {
             "outlinewidth": 0,
             "ticks": ""
            },
            "colorscale": [
             [
              0,
              "#0d0887"
             ],
             [
              0.1111111111111111,
              "#46039f"
             ],
             [
              0.2222222222222222,
              "#7201a8"
             ],
             [
              0.3333333333333333,
              "#9c179e"
             ],
             [
              0.4444444444444444,
              "#bd3786"
             ],
             [
              0.5555555555555556,
              "#d8576b"
             ],
             [
              0.6666666666666666,
              "#ed7953"
             ],
             [
              0.7777777777777778,
              "#fb9f3a"
             ],
             [
              0.8888888888888888,
              "#fdca26"
             ],
             [
              1,
              "#f0f921"
             ]
            ],
            "type": "histogram2dcontour"
           }
          ],
          "mesh3d": [
           {
            "colorbar": {
             "outlinewidth": 0,
             "ticks": ""
            },
            "type": "mesh3d"
           }
          ],
          "parcoords": [
           {
            "line": {
             "colorbar": {
              "outlinewidth": 0,
              "ticks": ""
             }
            },
            "type": "parcoords"
           }
          ],
          "pie": [
           {
            "automargin": true,
            "type": "pie"
           }
          ],
          "scatter": [
           {
            "marker": {
             "colorbar": {
              "outlinewidth": 0,
              "ticks": ""
             }
            },
            "type": "scatter"
           }
          ],
          "scatter3d": [
           {
            "line": {
             "colorbar": {
              "outlinewidth": 0,
              "ticks": ""
             }
            },
            "marker": {
             "colorbar": {
              "outlinewidth": 0,
              "ticks": ""
             }
            },
            "type": "scatter3d"
           }
          ],
          "scattercarpet": [
           {
            "marker": {
             "colorbar": {
              "outlinewidth": 0,
              "ticks": ""
             }
            },
            "type": "scattercarpet"
           }
          ],
          "scattergeo": [
           {
            "marker": {
             "colorbar": {
              "outlinewidth": 0,
              "ticks": ""
             }
            },
            "type": "scattergeo"
           }
          ],
          "scattergl": [
           {
            "marker": {
             "colorbar": {
              "outlinewidth": 0,
              "ticks": ""
             }
            },
            "type": "scattergl"
           }
          ],
          "scattermapbox": [
           {
            "marker": {
             "colorbar": {
              "outlinewidth": 0,
              "ticks": ""
             }
            },
            "type": "scattermapbox"
           }
          ],
          "scatterpolar": [
           {
            "marker": {
             "colorbar": {
              "outlinewidth": 0,
              "ticks": ""
             }
            },
            "type": "scatterpolar"
           }
          ],
          "scatterpolargl": [
           {
            "marker": {
             "colorbar": {
              "outlinewidth": 0,
              "ticks": ""
             }
            },
            "type": "scatterpolargl"
           }
          ],
          "scatterternary": [
           {
            "marker": {
             "colorbar": {
              "outlinewidth": 0,
              "ticks": ""
             }
            },
            "type": "scatterternary"
           }
          ],
          "surface": [
           {
            "colorbar": {
             "outlinewidth": 0,
             "ticks": ""
            },
            "colorscale": [
             [
              0,
              "#0d0887"
             ],
             [
              0.1111111111111111,
              "#46039f"
             ],
             [
              0.2222222222222222,
              "#7201a8"
             ],
             [
              0.3333333333333333,
              "#9c179e"
             ],
             [
              0.4444444444444444,
              "#bd3786"
             ],
             [
              0.5555555555555556,
              "#d8576b"
             ],
             [
              0.6666666666666666,
              "#ed7953"
             ],
             [
              0.7777777777777778,
              "#fb9f3a"
             ],
             [
              0.8888888888888888,
              "#fdca26"
             ],
             [
              1,
              "#f0f921"
             ]
            ],
            "type": "surface"
           }
          ],
          "table": [
           {
            "cells": {
             "fill": {
              "color": "#EBF0F8"
             },
             "line": {
              "color": "white"
             }
            },
            "header": {
             "fill": {
              "color": "#C8D4E3"
             },
             "line": {
              "color": "white"
             }
            },
            "type": "table"
           }
          ]
         },
         "layout": {
          "annotationdefaults": {
           "arrowcolor": "#2a3f5f",
           "arrowhead": 0,
           "arrowwidth": 1
          },
          "autotypenumbers": "strict",
          "coloraxis": {
           "colorbar": {
            "outlinewidth": 0,
            "ticks": ""
           }
          },
          "colorscale": {
           "diverging": [
            [
             0,
             "#8e0152"
            ],
            [
             0.1,
             "#c51b7d"
            ],
            [
             0.2,
             "#de77ae"
            ],
            [
             0.3,
             "#f1b6da"
            ],
            [
             0.4,
             "#fde0ef"
            ],
            [
             0.5,
             "#f7f7f7"
            ],
            [
             0.6,
             "#e6f5d0"
            ],
            [
             0.7,
             "#b8e186"
            ],
            [
             0.8,
             "#7fbc41"
            ],
            [
             0.9,
             "#4d9221"
            ],
            [
             1,
             "#276419"
            ]
           ],
           "sequential": [
            [
             0,
             "#0d0887"
            ],
            [
             0.1111111111111111,
             "#46039f"
            ],
            [
             0.2222222222222222,
             "#7201a8"
            ],
            [
             0.3333333333333333,
             "#9c179e"
            ],
            [
             0.4444444444444444,
             "#bd3786"
            ],
            [
             0.5555555555555556,
             "#d8576b"
            ],
            [
             0.6666666666666666,
             "#ed7953"
            ],
            [
             0.7777777777777778,
             "#fb9f3a"
            ],
            [
             0.8888888888888888,
             "#fdca26"
            ],
            [
             1,
             "#f0f921"
            ]
           ],
           "sequentialminus": [
            [
             0,
             "#0d0887"
            ],
            [
             0.1111111111111111,
             "#46039f"
            ],
            [
             0.2222222222222222,
             "#7201a8"
            ],
            [
             0.3333333333333333,
             "#9c179e"
            ],
            [
             0.4444444444444444,
             "#bd3786"
            ],
            [
             0.5555555555555556,
             "#d8576b"
            ],
            [
             0.6666666666666666,
             "#ed7953"
            ],
            [
             0.7777777777777778,
             "#fb9f3a"
            ],
            [
             0.8888888888888888,
             "#fdca26"
            ],
            [
             1,
             "#f0f921"
            ]
           ]
          },
          "colorway": [
           "#636efa",
           "#EF553B",
           "#00cc96",
           "#ab63fa",
           "#FFA15A",
           "#19d3f3",
           "#FF6692",
           "#B6E880",
           "#FF97FF",
           "#FECB52"
          ],
          "font": {
           "color": "#2a3f5f"
          },
          "geo": {
           "bgcolor": "white",
           "lakecolor": "white",
           "landcolor": "#E5ECF6",
           "showlakes": true,
           "showland": true,
           "subunitcolor": "white"
          },
          "hoverlabel": {
           "align": "left"
          },
          "hovermode": "closest",
          "mapbox": {
           "style": "light"
          },
          "paper_bgcolor": "white",
          "plot_bgcolor": "#E5ECF6",
          "polar": {
           "angularaxis": {
            "gridcolor": "white",
            "linecolor": "white",
            "ticks": ""
           },
           "bgcolor": "#E5ECF6",
           "radialaxis": {
            "gridcolor": "white",
            "linecolor": "white",
            "ticks": ""
           }
          },
          "scene": {
           "xaxis": {
            "backgroundcolor": "#E5ECF6",
            "gridcolor": "white",
            "gridwidth": 2,
            "linecolor": "white",
            "showbackground": true,
            "ticks": "",
            "zerolinecolor": "white"
           },
           "yaxis": {
            "backgroundcolor": "#E5ECF6",
            "gridcolor": "white",
            "gridwidth": 2,
            "linecolor": "white",
            "showbackground": true,
            "ticks": "",
            "zerolinecolor": "white"
           },
           "zaxis": {
            "backgroundcolor": "#E5ECF6",
            "gridcolor": "white",
            "gridwidth": 2,
            "linecolor": "white",
            "showbackground": true,
            "ticks": "",
            "zerolinecolor": "white"
           }
          },
          "shapedefaults": {
           "line": {
            "color": "#2a3f5f"
           }
          },
          "ternary": {
           "aaxis": {
            "gridcolor": "white",
            "linecolor": "white",
            "ticks": ""
           },
           "baxis": {
            "gridcolor": "white",
            "linecolor": "white",
            "ticks": ""
           },
           "bgcolor": "#E5ECF6",
           "caxis": {
            "gridcolor": "white",
            "linecolor": "white",
            "ticks": ""
           }
          },
          "title": {
           "x": 0.05
          },
          "xaxis": {
           "automargin": true,
           "gridcolor": "white",
           "linecolor": "white",
           "ticks": "",
           "title": {
            "standoff": 15
           },
           "zerolinecolor": "white",
           "zerolinewidth": 2
          },
          "yaxis": {
           "automargin": true,
           "gridcolor": "white",
           "linecolor": "white",
           "ticks": "",
           "title": {
            "standoff": 15
           },
           "zerolinecolor": "white",
           "zerolinewidth": 2
          }
         }
        },
        "title": {
         "text": "Comparison: Kaplan Meier Survival Functions"
        },
        "xaxis": {
         "title": {
          "text": "Duration"
         }
        },
        "yaxis": {
         "title": {
          "text": "Survival Probability"
         }
        }
       }
      }
     },
     "metadata": {},
     "output_type": "display_data"
    }
   ],
   "source": [
    "# create two groups artificially\n",
    "df['status'] = np.random.randint(0,2, df.shape[0])\n",
    "\n",
    "df0 = df[df['status']==0]\n",
    "df1 = df[df['status']==1]\n",
    "\n",
    "kmf = KaplanMeierFitter()\n",
    "kmf.fit(df0.time, df0.death)\n",
    "\n",
    "fig = go.Figure()\n",
    "\n",
    "fig.add_trace(go.Scatter(\n",
    "    x=kmf.survival_function_.index, y=kmf.survival_function_['KM_estimate'],\n",
    "    line=dict(shape='hv', width=3, color='rgb(31, 119, 180)'),\n",
    "    showlegend=False\n",
    "))\n",
    "\n",
    "kmf.fit(df1.time, event_observed=df1.death)\n",
    "\n",
    "fig.add_trace(go.Scatter(\n",
    "    x=kmf.survival_function_.index, y=kmf.survival_function_['KM_estimate'],\n",
    "    line=dict(shape='hv', width=3, color='rgb(255,0,0)'),\n",
    "    showlegend=False\n",
    "))\n",
    "\n",
    "fig.update_layout(\n",
    "    title= \"Comparison: Kaplan Meier Survival Functions\",\n",
    "    xaxis_title=\"Duration\",\n",
    "    yaxis_title=\"Survival Probability\"\n",
    ")\n",
    "\n",
    "fig.write_image(path +\"/assets/images/comp_surv.png\", scale = 5)\n",
    "fig.show()"
   ]
  },
  {
   "cell_type": "code",
   "execution_count": 54,
   "metadata": {},
   "outputs": [
    {
     "data": {
      "text/html": [
       "<div>\n",
       "<style scoped>\n",
       "    .dataframe tbody tr th:only-of-type {\n",
       "        vertical-align: middle;\n",
       "    }\n",
       "\n",
       "    .dataframe tbody tr th {\n",
       "        vertical-align: top;\n",
       "    }\n",
       "\n",
       "    .dataframe thead th {\n",
       "        text-align: right;\n",
       "    }\n",
       "</style>\n",
       "<table border=\"1\" class=\"dataframe\">\n",
       "  <tbody>\n",
       "    <tr>\n",
       "      <th>t_0</th>\n",
       "      <td>-1</td>\n",
       "    </tr>\n",
       "    <tr>\n",
       "      <th>null_distribution</th>\n",
       "      <td>chi squared</td>\n",
       "    </tr>\n",
       "    <tr>\n",
       "      <th>degrees_of_freedom</th>\n",
       "      <td>1</td>\n",
       "    </tr>\n",
       "    <tr>\n",
       "      <th>test_name</th>\n",
       "      <td>logrank_test</td>\n",
       "    </tr>\n",
       "  </tbody>\n",
       "</table>\n",
       "</div><table border=\"1\" class=\"dataframe\">\n",
       "  <thead>\n",
       "    <tr style=\"text-align: right;\">\n",
       "      <th></th>\n",
       "      <th>test_statistic</th>\n",
       "      <th>p</th>\n",
       "      <th>-log2(p)</th>\n",
       "    </tr>\n",
       "  </thead>\n",
       "  <tbody>\n",
       "    <tr>\n",
       "      <th>0</th>\n",
       "      <td>444.99</td>\n",
       "      <td>&lt;0.005</td>\n",
       "      <td>325.72</td>\n",
       "    </tr>\n",
       "  </tbody>\n",
       "</table>"
      ],
      "text/latex": [
       "\\begin{tabular}{lrrr}\n",
       "\\toprule\n",
       "{} &  test\\_statistic &             p &    -log2(p) \\\\\n",
       "\\midrule\n",
       "0 &      444.994946 &  8.858644e-99 &  325.723796 \\\\\n",
       "\\bottomrule\n",
       "\\end{tabular}\n"
      ],
      "text/plain": [
       "<lifelines.StatisticalResult: logrank_test>\n",
       "               t_0 = -1\n",
       " null_distribution = chi squared\n",
       "degrees_of_freedom = 1\n",
       "         test_name = logrank_test\n",
       "\n",
       "---\n",
       " test_statistic      p  -log2(p)\n",
       "         444.99 <0.005    325.72"
      ]
     },
     "metadata": {},
     "output_type": "display_data"
    }
   ],
   "source": [
    "results = logrank_test(df0['time'], df1['time'], event_observed_A=df0['status'], event_observed_B=df1['status'])\n",
    "results.print_summary()"
   ]
  },
  {
   "cell_type": "code",
   "execution_count": 53,
   "metadata": {},
   "outputs": [
    {
     "name": "stdout",
     "output_type": "stream",
     "text": [
      "8.858643743309588e-99\n"
     ]
    }
   ],
   "source": [
    "print(results.p_value)"
   ]
  },
  {
   "cell_type": "code",
   "execution_count": null,
   "metadata": {},
   "outputs": [],
   "source": []
  }
 ],
 "metadata": {
  "interpreter": {
   "hash": "843e26442d7b267032b13ca59db92b7a4fa12c9e828cca585972156bfad97bde"
  },
  "kernelspec": {
   "display_name": "venv_gi_dash",
   "language": "python",
   "name": "venv_gi_dash"
  },
  "language_info": {
   "codemirror_mode": {
    "name": "ipython",
    "version": 3
   },
   "file_extension": ".py",
   "mimetype": "text/x-python",
   "name": "python",
   "nbconvert_exporter": "python",
   "pygments_lexer": "ipython3",
   "version": "3.9.5"
  },
  "orig_nbformat": 4
 },
 "nbformat": 4,
 "nbformat_minor": 2
}
